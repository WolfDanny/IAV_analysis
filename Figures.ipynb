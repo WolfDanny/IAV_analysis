{
 "cells": [
  {
   "cell_type": "markdown",
   "source": [
    "# Packages and global variables"
   ],
   "metadata": {
    "collapsed": false,
    "pycharm": {
     "name": "#%% md\n"
    }
   }
  },
  {
   "cell_type": "code",
   "execution_count": 1,
   "id": "d50db85a",
   "metadata": {
    "pycharm": {
     "name": "#%%\n"
    }
   },
   "outputs": [],
   "source": [
    "%matplotlib inline"
   ]
  },
  {
   "cell_type": "code",
   "execution_count": 2,
   "id": "d5c63525",
   "metadata": {
    "pycharm": {
     "name": "#%%\n"
    }
   },
   "outputs": [],
   "source": [
    "import warnings\n",
    "import os\n",
    "import pandas as pd\n",
    "import plotly.express as px\n",
    "import plotly.graph_objects as go\n",
    "from plotly.subplots import make_subplots\n",
    "from copy import deepcopy\n",
    "from scipy import stats\n",
    "from scipy.special import comb\n",
    "\n",
    "import seaborn as sns\n",
    "import matplotlib.pyplot as plt\n",
    "\n",
    "import flowanalysis.definitions as fa"
   ]
  },
  {
   "cell_type": "code",
   "execution_count": 3,
   "outputs": [],
   "source": [
    "required_directories = [\n",
    "    \"Data/\",\n",
    "    \"ANOVA/WT/\",\n",
    "    \"ANOVA/N3A/\",\n",
    "    \"ANOVA/T8A/\",\n",
    "    \"ANOVA/Data/\",\n",
    "    \"Fig-Venn/\",\n",
    "    \"Fig-Slopes/\",\n",
    "    \"Fig-Correlations/\",\n",
    "]\n",
    "for directory in required_directories:\n",
    "    os.makedirs(os.path.dirname(directory), exist_ok=True)"
   ],
   "metadata": {
    "collapsed": false,
    "pycharm": {
     "name": "#%%\n"
    }
   }
  },
  {
   "cell_type": "code",
   "execution_count": 4,
   "outputs": [],
   "source": [
    "sns.set_style(\"ticks\")\n",
    "plt.rcParams.update({\"text.usetex\": True})\n",
    "plt.rcParams[\"text.latex.preamble\"] = r\"\\usepackage{graphicx}\"\n",
    "plt.rcParams[\"font.family\"] = \"serif\"\n",
    "plt.rcParams[\"mathtext.fontset\"] = \"dejavuserif\"\n",
    "\n",
    "absolute_numbers = False\n",
    "mean_only_venn = True\n",
    "\n",
    "stats_challenges = (\"Memory\", \"WT challenge\", \"T8A challenge\", \"N3A challenge\")\n",
    "time_names = (\"Primary\", \"Memory\", \"WT challenge\", \"T8A challenge\", \"N3A challenge\")\n",
    "naive_columns = (\"WT column\", \"T8A column\", \"N3A column\")\n",
    "tetramer_names = (\"WT\", \"T8A\", \"N3A\")\n",
    "naive_stats_column_names = (\n",
    "    \"SP [WT]\",\n",
    "    \"T8A [WT]\",\n",
    "    \"N3A [WT]\",\n",
    "    \"TP [WT]\",\n",
    "    \"SP [T8A]\",\n",
    "    \"WT [T8A]\",\n",
    "    \"N3A [T8A]\",\n",
    "    \"TP [T8A]\",\n",
    "    \"SP [N3A]\",\n",
    "    \"WT [N3A]\",\n",
    "    \"T8A [N3A]\",\n",
    "    \"TP [N3A]\",\n",
    ")"
   ],
   "metadata": {
    "collapsed": false,
    "pycharm": {
     "name": "#%%\n"
    }
   }
  },
  {
   "cell_type": "markdown",
   "source": [
    "# Venn and slope plots\n",
    "## Spleen\n",
    "### Circulating"
   ],
   "metadata": {
    "collapsed": false,
    "pycharm": {
     "name": "#%% md\n"
    }
   }
  },
  {
   "cell_type": "code",
   "execution_count": 5,
   "outputs": [
    {
     "name": "stdout",
     "output_type": "stream",
     "text": [
      "['Mouse', 'Cell_Count', 'Tissue', 'Condition', 'Sample:', 'Lymphocytes', 'Singlets', 'Live Cells', 'F480 B220 Negative', 'CD8p_Freq', 'CD8p_Norm_Freq', 'CD8p_Num', 'CD8p_N3ATotal_Freq', 'CD8p_N3ATotal_Num', 'CD8p_T8ATotal_Freq', 'CD8p_T8ATotal_Num', 'CD8p_WTTotal_Freq', 'CD8p_WTTotal_Num', 'CD8p_TriplePos_Freq', 'CD8p_TriplePos_Num', 'CD8p_N3AT8ADP_Freq', 'CD8p_N3AT8ADP_Num', 'CD8p_WTN3ADP_Freq', 'CD8p_WTN3ADP_Num', 'CD8p_WTT8ADP_Freq', 'CD8p_WTT8ADP_Num', 'WTSP_Freq', 'WTSP_Num', 'N3ASP_Freq', 'N3ASP_Num', 'T8ASP_Freq', 'T8ASP_Num']\n",
      "['Mouse', 'Cell Count', 'Tissue', 'T8A Primary', 'Sample:', 'Lymphocytes', 'Singlets', 'Live Cells', 'F480 B220 Negative', 'CD8p_Freq', 'CD8p_Norm_Freq', 'CD8p_Num', 'CD8p_N3ATotal_Freq', 'CD8p_N3ATotal_Num', 'CD8p_T8ATotal_Freq', 'CD8p_T8ATotal_Num', 'CD8p_WTTotal_Freq', 'CD8p_WTTotal_Num', 'CD8p_TriplePos_Freq', 'CD8p_TriplePos_Num', 'CD8p_N3AT8ADP_Freq', 'CD8p_N3AT8ADP_Num', 'CD8p_WTN3ADP_Freq', 'CD8p_WTN3ADP_Num', 'CD8p_WTT8ADP_Freq', 'CD8p_WTT8ADP_Num', 'CD8p_WTSP_Freq', 'CD8p_WTSP_Num', 'CD8p_N3ASP_Freq', 'CD8p_N3ASP_Num', 'CD8p_T8ASP_Freq', 'CD8p_T8ASP_Num']\n",
      "['Mouse', 'Tissue', 'Cell Count', 'Infection', 'Sample:', 'Lymphocytes', 'Singlets', 'Live Cells', 'B220F480Neg', 'CD8+', 'CD8+CD45-_Freq', 'CD8+CD45-_Norm_Freq', 'CD8+CD45-_Norm_Num', 'CD8p_N3ATotal_Freq', 'CD8p_N3ATotal_Num', 'CD8p_T8ATotal_Freq', 'CD8p_T8ATotal_Num', 'CD8p_WTTotal_Freq', 'CD8p_WTTotal_Num', 'N3A Neg', 'T8A Neg', 'WT Neg', 'CD8p_TriplePos_Freq', 'CD8p_TriplePos_Num', 'CD8p_N3AT8ADP_Freq', 'CD8p_N3AT8ADP_Num', 'CD8p_N3AWTDP_Freq', 'CD8p_N3AWTDP_Num', 'CD8p_N3ASP_Freq', 'CD8p_N3ASP_Num', 'CD8p_WTT8ADP_Freq', 'CD8p_WTT8ADP_Num', 'CD8p_T8ASP_Freq', 'CD8p_T8ASP_Num', 'CD8p_WTSP_Freq', 'CD8p_WTSP_Num', 'Triple Neg', 'Triple Neg_Num']\n"
     ]
    }
   ],
   "source": [
    "fa.header_clipping(\"WT\", check=True)\n",
    "fa.header_clipping(\"T8A\", check=True)\n",
    "fa.header_clipping(\"N3A\", check=True)"
   ],
   "metadata": {
    "collapsed": false,
    "pycharm": {
     "name": "#%%\n"
    }
   }
  },
  {
   "cell_type": "code",
   "execution_count": 6,
   "outputs": [],
   "source": [
    "fa.header_clipping(\"WT\")\n",
    "fa.header_clipping(\"T8A\")\n",
    "fa.header_clipping(\"N3A\")\n",
    "\n",
    "wt_p_headers = [\n",
    "    \"Tissue\",\n",
    "    \"Condition\",\n",
    "    \"WTSP_Num\",\n",
    "    \"T8ASP_Num\",\n",
    "    \"N3ASP_Num\",\n",
    "    \"CD8p_WTT8ADP_Num\",\n",
    "    \"CD8p_WTN3ADP_Num\",\n",
    "    \"CD8p_N3AT8ADP_Num\",\n",
    "    \"CD8p_TriplePos_Num\",\n",
    "    \"CD8p_Num\",\n",
    "]\n",
    "t8a_p_headers = [\n",
    "    \"Tissue\",\n",
    "    \"T8A Primary\",\n",
    "    \"CD8p_WTSP_Num\",\n",
    "    \"CD8p_T8ASP_Num\",\n",
    "    \"CD8p_N3ASP_Num\",\n",
    "    \"CD8p_WTT8ADP_Num\",\n",
    "    \"CD8p_WTN3ADP_Num\",\n",
    "    \"CD8p_N3AT8ADP_Num\",\n",
    "    \"CD8p_TriplePos_Num\",\n",
    "    \"CD8p_Num\",\n",
    "]\n",
    "n3a_p_headers = [\n",
    "    \"Tissue\",\n",
    "    \"Infection\",\n",
    "    \"CD8p_WTSP_Num\",\n",
    "    \"CD8p_T8ASP_Num\",\n",
    "    \"CD8p_N3ASP_Num\",\n",
    "    \"CD8p_WTT8ADP_Num\",\n",
    "    \"CD8p_N3AWTDP_Num\",\n",
    "    \"CD8p_N3AT8ADP_Num\",\n",
    "    \"CD8p_TriplePos_Num\",\n",
    "    \"CD8+CD45-_Norm_Num\",\n",
    "]\n",
    "\n",
    "wt_p_time_names = fa.time_name_list(\"WT\", wt_p_headers)\n",
    "t8a_p_time_names = fa.time_name_list(\"T8A\", t8a_p_headers)\n",
    "n3a_p_time_names = fa.time_name_list(\"N3A\", n3a_p_headers)\n",
    "\n",
    "wt_spleen_cir_exp = fa.data_extraction(\n",
    "    \"WT\",\n",
    "    \"spleen\",\n",
    "    wt_p_headers,\n",
    "    wt_p_time_names,\n",
    "    standard_names=time_names,\n",
    "    timepoints=5,\n",
    ")\n",
    "t8a_spleen_cir_exp = fa.data_extraction(\n",
    "    \"T8A\",\n",
    "    \"spleen\",\n",
    "    t8a_p_headers,\n",
    "    t8a_p_time_names,\n",
    "    standard_names=time_names,\n",
    "    timepoints=5,\n",
    ")\n",
    "n3a_spleen_cir_exp = fa.data_extraction(\n",
    "    \"N3A\",\n",
    "    \"spleen\",\n",
    "    n3a_p_headers,\n",
    "    n3a_p_time_names,\n",
    "    standard_names=time_names,\n",
    "    timepoints=5,\n",
    ")"
   ],
   "metadata": {
    "collapsed": false,
    "pycharm": {
     "name": "#%%\n"
    }
   }
  },
  {
   "cell_type": "markdown",
   "source": [
    "#### Venn plots"
   ],
   "metadata": {
    "collapsed": false,
    "pycharm": {
     "name": "#%% md\n"
    }
   }
  },
  {
   "cell_type": "code",
   "execution_count": 7,
   "outputs": [],
   "source": [
    "wt_spleen_cir_exp.venn_plot(\n",
    "    \"Fig-Venn/V-WT-S-Cir\", frequency=False, mean_only=mean_only_venn\n",
    ")\n",
    "wt_spleen_cir_exp.venn_plot(\n",
    "    \"Fig-Venn/V-WT-S-Cir-F\", frequency=True, labels=False, mean_only=mean_only_venn\n",
    ")"
   ],
   "metadata": {
    "collapsed": false,
    "pycharm": {
     "name": "#%%\n"
    }
   }
  },
  {
   "cell_type": "code",
   "execution_count": 8,
   "outputs": [
    {
     "name": "stderr",
     "output_type": "stream",
     "text": [
      "/Users/danny/anaconda3/envs/P37T2/lib/python3.7/site-packages/matplotlib_venn/_venn3.py:61: UserWarning: Circle C has zero area\n",
      "  warnings.warn(\"Circle C has zero area\")\n"
     ]
    }
   ],
   "source": [
    "t8a_spleen_cir_exp.venn_plot(\n",
    "    \"Fig-Venn/V-T8A-S-Cir\", frequency=False, mean_only=mean_only_venn\n",
    ")\n",
    "t8a_spleen_cir_exp.venn_plot(\n",
    "    \"Fig-Venn/V-T8A-S-Cir-F\", frequency=True, labels=False, mean_only=mean_only_venn\n",
    ")"
   ],
   "metadata": {
    "collapsed": false,
    "pycharm": {
     "name": "#%%\n"
    }
   }
  },
  {
   "cell_type": "code",
   "execution_count": 9,
   "outputs": [
    {
     "name": "stderr",
     "output_type": "stream",
     "text": [
      "/Users/danny/anaconda3/envs/P37T2/lib/python3.7/site-packages/matplotlib_venn/_venn3.py:117: UserWarning: Bad circle positioning\n",
      "  warnings.warn(\"Bad circle positioning\")\n"
     ]
    }
   ],
   "source": [
    "n3a_spleen_cir_exp.venn_plot(\n",
    "    \"Fig-Venn/V-N3A-S-Cir\", frequency=False, mean_only=mean_only_venn\n",
    ")\n",
    "n3a_spleen_cir_exp.venn_plot(\n",
    "    \"Fig-Venn/V-N3A-S-Cir-F\", frequency=True, labels=False, mean_only=mean_only_venn\n",
    ")"
   ],
   "metadata": {
    "collapsed": false,
    "pycharm": {
     "name": "#%%\n"
    }
   }
  },
  {
   "cell_type": "markdown",
   "source": [
    "#### Slopes"
   ],
   "metadata": {
    "collapsed": false,
    "pycharm": {
     "name": "#%% md\n"
    }
   }
  },
  {
   "cell_type": "code",
   "execution_count": 10,
   "outputs": [],
   "source": [
    "wt_spleen_cir_exp.slope_plot(\"Fig-Slopes/L-WT-S-Cir\")"
   ],
   "metadata": {
    "collapsed": false,
    "pycharm": {
     "name": "#%%\n"
    }
   }
  },
  {
   "cell_type": "code",
   "execution_count": 11,
   "outputs": [],
   "source": [
    "t8a_spleen_cir_exp.slope_plot(\"Fig-Slopes/L-T8A-S-Cir\")"
   ],
   "metadata": {
    "collapsed": false,
    "pycharm": {
     "name": "#%%\n"
    }
   }
  },
  {
   "cell_type": "code",
   "execution_count": 12,
   "outputs": [],
   "source": [
    "n3a_spleen_cir_exp.slope_plot(\"Fig-Slopes/L-N3A-S-Cir\")"
   ],
   "metadata": {
    "collapsed": false,
    "pycharm": {
     "name": "#%%\n"
    }
   }
  },
  {
   "cell_type": "markdown",
   "source": [
    "### Resident"
   ],
   "metadata": {
    "collapsed": false,
    "pycharm": {
     "name": "#%% md\n"
    }
   }
  },
  {
   "cell_type": "code",
   "execution_count": 13,
   "outputs": [
    {
     "name": "stdout",
     "output_type": "stream",
     "text": [
      "['Mouse', 'Cell Count', 'Tissue', 'Condition', 'Sample:', 'Lymphocytes', 'Singlets', 'Live Cells', 'F480 B220 Negative', 'CD8n_Freq', 'CD8n_Norm_Freq', 'CD8n_Num', 'CD8n_N3ATotal_Freq', 'CD8n_N3ATotal_Num', 'CD8n_T8ATotal_Freq', 'CD8n_T8Atotal_Num', 'CD8n_WTTotal_Freq', 'CD8n_WTTotal_Num', 'CD8n_Triplepos_Freq', 'CD8n_Triplepos_Num', 'CD8n_N3AT8ADP_Freq', 'CD8n_N3AT8ADP_Num', 'CD8n_WTN3ADP_Freq', 'CD8n_WTN3ADP_Num', 'CD8n_WTT8ADP_Freq', 'CD8n_WTT8ADP_Num', 'CD8n_WTSP_Freq', 'CD8n_WTSP_Num', 'CD8n_N3ASP_Freq', 'CD8n_N3ASP_Num', 'CD8n_T8ASP_Freq', 'CD8n_T8ASP_Num', 'Triple Neg', 'total frequency tet+ cells']\n",
      "['Mouse', 'Cell Count', 'Tissue', 'Infection', 'Sample:', 'Lymphocytes', 'Singlets', 'Live Cells', 'F480 B220 Negative', 'CD8n_Freq', 'CD8n_Norm_Freq', 'CD8n_Num', 'CD8n_N3A_Total_Freq', 'CD8n_N3A_Total_Num', 'CD8n_T8ATotalFreq', 'CD8p_T8ATotal_Num', 'CD8p_WTTotal_Freq', 'CD8p_WTTotal_Num', 'CD8p_TriplePos_Freq', 'CD8p_TriplePos_Num', 'CD8p_N3AT8ADP_Freq', 'CD8p_N3AT8ADP_Num', 'CD8p_WTN3ADP_Freq', 'CD8p_WTN3ADP_Num', 'CD8p_WTT8ADP_Freq', 'CD8p_WTT8ADP_Num', 'CD8p_WTSP_Freq', 'CD8p_WTSP_Num', 'CD8p_N3ASP_Freq', 'CD8p_N3ASP_Num', 'CD8p_T8ASP_Freq', 'CD8p_T8ASP_Num']\n",
      "['Mouse', 'Tissue', 'Cell Count', 'Infection', 'Sample:', 'Lymphocytes', 'Singlets', 'Live Cells', 'B220F480Neg', 'CD8+', 'CD8+CD45-_Freq', 'CD8+CD45-_Norm_Freq', 'CD8+CD45-_Norm_Num', 'CD8n_N3ATotal_Freq', 'CD8n_N3ATotal_Num', 'CD8n_T8ATotal_Freq', 'CD8n_T8ATotal_Num', 'CD8n_WTTotal_Freq', 'CD8n_WTTotal_Num', 'N3A Neg', 'T8A Neg', 'WT Neg', 'CD8n_TriplePos_Freq', 'CD8n_TriplePos_Num', 'CD8n_N3AT8ADP_Freq', 'CD8n_N3AT8ADP_Num', 'CD8n_N3AWTDP_Freq', 'CD8n_N3AWTDP_Num', 'CD8n_N3ASP_Freq', 'CD8n_N3ASP_Num', 'CD8n_WTT8ADP_Freq', 'CD8n_WTT8ADP_Num', 'CD8n_T8ASP_Freq', 'CD8n_T8ASP_Num', 'CD8n_WTSP_Freq', 'CD8n_WTSP_Num', 'Triple Neg', 'Triple Neg_Num']\n"
     ]
    }
   ],
   "source": [
    "fa.header_clipping(\"WT\", cd45=\"-\", check=True)\n",
    "fa.header_clipping(\"T8A\", cd45=\"-\", check=True)\n",
    "fa.header_clipping(\"N3A\", cd45=\"-\", check=True)"
   ],
   "metadata": {
    "collapsed": false,
    "pycharm": {
     "name": "#%%\n"
    }
   }
  },
  {
   "cell_type": "code",
   "execution_count": 14,
   "outputs": [],
   "source": [
    "fa.header_clipping(\"WT\", cd45=\"-\")\n",
    "fa.header_clipping(\"T8A\", cd45=\"-\")\n",
    "fa.header_clipping(\"N3A\", cd45=\"-\")\n",
    "\n",
    "wt_n_headers = [\n",
    "    \"Tissue\",\n",
    "    \"Condition\",\n",
    "    \"CD8n_WTSP_Num\",\n",
    "    \"CD8n_T8ASP_Num\",\n",
    "    \"CD8n_N3ASP_Num\",\n",
    "    \"CD8n_WTT8ADP_Num\",\n",
    "    \"CD8n_WTN3ADP_Num\",\n",
    "    \"CD8n_N3AT8ADP_Num\",\n",
    "    \"CD8n_Triplepos_Num\",\n",
    "    \"CD8n_Num\",\n",
    "]\n",
    "t8a_n_headers = [\n",
    "    \"Tissue\",\n",
    "    \"Infection\",\n",
    "    \"CD8p_WTSP_Num\",\n",
    "    \"CD8p_T8ASP_Num\",\n",
    "    \"CD8p_N3ASP_Num\",\n",
    "    \"CD8p_WTT8ADP_Num\",\n",
    "    \"CD8p_WTN3ADP_Num\",\n",
    "    \"CD8p_N3AT8ADP_Num\",\n",
    "    \"CD8p_TriplePos_Num\",\n",
    "    \"CD8n_Num\",\n",
    "]\n",
    "n3a_n_headers = [\n",
    "    \"Tissue\",\n",
    "    \"Infection\",\n",
    "    \"CD8n_WTSP_Num\",\n",
    "    \"CD8n_T8ASP_Num\",\n",
    "    \"CD8n_N3ASP_Num\",\n",
    "    \"CD8n_WTT8ADP_Num\",\n",
    "    \"CD8n_N3AWTDP_Num\",\n",
    "    \"CD8n_N3AT8ADP_Num\",\n",
    "    \"CD8n_TriplePos_Num\",\n",
    "    \"CD8+CD45-_Norm_Num\",\n",
    "]\n",
    "\n",
    "wt_n_time_names = fa.time_name_list(\"WT\", wt_n_headers, cd45=\"-\")\n",
    "t8a_n_time_names = fa.time_name_list(\"T8A\", t8a_n_headers, cd45=\"-\")\n",
    "n3a_n_time_names = fa.time_name_list(\"N3A\", n3a_n_headers, cd45=\"-\")\n",
    "\n",
    "wt_spleen_res_exp = fa.data_extraction(\n",
    "    \"WT\",\n",
    "    \"spleen\",\n",
    "    wt_n_headers,\n",
    "    wt_n_time_names,\n",
    "    standard_names=time_names,\n",
    "    cd45=\"-\",\n",
    "    timepoints=5,\n",
    ")\n",
    "t8a_spleen_res_exp = fa.data_extraction(\n",
    "    \"T8A\",\n",
    "    \"spleen\",\n",
    "    t8a_n_headers,\n",
    "    t8a_n_time_names,\n",
    "    standard_names=time_names,\n",
    "    cd45=\"-\",\n",
    "    timepoints=5,\n",
    ")\n",
    "n3a_spleen_res_exp = fa.data_extraction(\n",
    "    \"N3A\",\n",
    "    \"spleen\",\n",
    "    n3a_n_headers,\n",
    "    n3a_n_time_names,\n",
    "    standard_names=time_names,\n",
    "    cd45=\"-\",\n",
    "    timepoints=5,\n",
    ")"
   ],
   "metadata": {
    "collapsed": false,
    "pycharm": {
     "name": "#%%\n"
    }
   }
  },
  {
   "cell_type": "markdown",
   "source": [
    "#### Venn plots"
   ],
   "metadata": {
    "collapsed": false,
    "pycharm": {
     "name": "#%% md\n"
    }
   }
  },
  {
   "cell_type": "code",
   "execution_count": 15,
   "outputs": [],
   "source": [
    "wt_spleen_res_exp.venn_plot(\n",
    "    \"Fig-Venn/V-WT-S-Res\", frequency=False, mean_only=mean_only_venn\n",
    ")\n",
    "wt_spleen_res_exp.venn_plot(\n",
    "    \"Fig-Venn/V-WT-S-Res-F\", frequency=True, labels=False, mean_only=mean_only_venn\n",
    ")"
   ],
   "metadata": {
    "collapsed": false,
    "pycharm": {
     "name": "#%%\n"
    }
   }
  },
  {
   "cell_type": "code",
   "execution_count": 16,
   "outputs": [],
   "source": [
    "t8a_spleen_res_exp.venn_plot(\n",
    "    \"Fig-Venn/V-T8A-S-Res\", frequency=False, mean_only=mean_only_venn\n",
    ")\n",
    "t8a_spleen_res_exp.venn_plot(\n",
    "    \"Fig-Venn/V-T8A-S-Res-F\", frequency=True, labels=False, mean_only=mean_only_venn\n",
    ")"
   ],
   "metadata": {
    "collapsed": false,
    "pycharm": {
     "name": "#%%\n"
    }
   }
  },
  {
   "cell_type": "code",
   "execution_count": 17,
   "outputs": [],
   "source": [
    "n3a_spleen_res_exp.venn_plot(\n",
    "    \"Fig-Venn/V-N3A-S-Res\", frequency=False, mean_only=mean_only_venn\n",
    ")\n",
    "n3a_spleen_res_exp.venn_plot(\n",
    "    \"Fig-Venn/V-N3A-S-Res-F\", frequency=True, labels=False, mean_only=mean_only_venn\n",
    ")"
   ],
   "metadata": {
    "collapsed": false,
    "pycharm": {
     "name": "#%%\n"
    }
   }
  },
  {
   "cell_type": "markdown",
   "source": [
    "#### Slopes"
   ],
   "metadata": {
    "collapsed": false,
    "pycharm": {
     "name": "#%% md\n"
    }
   }
  },
  {
   "cell_type": "code",
   "execution_count": 18,
   "outputs": [],
   "source": [
    "wt_spleen_res_exp.slope_plot(\"Fig-Slopes/L-WT-S-Res\")"
   ],
   "metadata": {
    "collapsed": false,
    "pycharm": {
     "name": "#%%\n"
    }
   }
  },
  {
   "cell_type": "code",
   "execution_count": 19,
   "outputs": [],
   "source": [
    "t8a_spleen_res_exp.slope_plot(\"Fig-Slopes/L-T8A-S-Res\")"
   ],
   "metadata": {
    "collapsed": false,
    "pycharm": {
     "name": "#%%\n"
    }
   }
  },
  {
   "cell_type": "code",
   "execution_count": 20,
   "outputs": [],
   "source": [
    "n3a_spleen_res_exp.slope_plot(\"Fig-Slopes/L-N3A-S-Res\")"
   ],
   "metadata": {
    "collapsed": false,
    "pycharm": {
     "name": "#%%\n"
    }
   }
  },
  {
   "cell_type": "markdown",
   "source": [
    "## Lungs\n",
    "### Circulating"
   ],
   "metadata": {
    "collapsed": false,
    "pycharm": {
     "name": "#%% md\n"
    }
   }
  },
  {
   "cell_type": "code",
   "execution_count": 21,
   "outputs": [],
   "source": [
    "fa.header_clipping(\"WT\")\n",
    "fa.header_clipping(\"T8A\")\n",
    "fa.header_clipping(\"N3A\")\n",
    "\n",
    "wt_p_headers = [\n",
    "    \"Tissue\",\n",
    "    \"Condition\",\n",
    "    \"WTSP_Num\",\n",
    "    \"T8ASP_Num\",\n",
    "    \"N3ASP_Num\",\n",
    "    \"CD8p_WTT8ADP_Num\",\n",
    "    \"CD8p_WTN3ADP_Num\",\n",
    "    \"CD8p_N3AT8ADP_Num\",\n",
    "    \"CD8p_TriplePos_Num\",\n",
    "    \"CD8p_Num\",\n",
    "]\n",
    "t8a_p_headers = [\n",
    "    \"Tissue\",\n",
    "    \"T8A Primary\",\n",
    "    \"CD8p_WTSP_Num\",\n",
    "    \"CD8p_T8ASP_Num\",\n",
    "    \"CD8p_N3ASP_Num\",\n",
    "    \"CD8p_WTT8ADP_Num\",\n",
    "    \"CD8p_WTN3ADP_Num\",\n",
    "    \"CD8p_N3AT8ADP_Num\",\n",
    "    \"CD8p_TriplePos_Num\",\n",
    "    \"CD8p_Num\",\n",
    "]\n",
    "n3a_p_headers = [\n",
    "    \"Tissue\",\n",
    "    \"Infection\",\n",
    "    \"CD8p_WTSP_Num\",\n",
    "    \"CD8p_T8ASP_Num\",\n",
    "    \"CD8p_N3ASP_Num\",\n",
    "    \"CD8p_WTT8ADP_Num\",\n",
    "    \"CD8p_N3AWTDP_Num\",\n",
    "    \"CD8p_N3AT8ADP_Num\",\n",
    "    \"CD8p_TriplePos_Num\",\n",
    "    \"CD8+CD45-_Norm_Num\",\n",
    "]\n",
    "\n",
    "wt_p_time_names = fa.time_name_list(\"WT\", wt_p_headers)\n",
    "t8a_p_time_names = fa.time_name_list(\"T8A\", t8a_p_headers)\n",
    "n3a_p_time_names = fa.time_name_list(\"N3A\", n3a_p_headers)\n",
    "\n",
    "wt_lungs_cir_exp = fa.data_extraction(\n",
    "    \"WT\",\n",
    "    \"lungs\",\n",
    "    wt_p_headers,\n",
    "    wt_p_time_names,\n",
    "    standard_names=time_names,\n",
    "    timepoints=5,\n",
    ")\n",
    "t8a_lungs_cir_exp = fa.data_extraction(\n",
    "    \"T8A\",\n",
    "    \"lungs\",\n",
    "    t8a_p_headers,\n",
    "    t8a_p_time_names,\n",
    "    standard_names=time_names,\n",
    "    timepoints=5,\n",
    ")\n",
    "n3a_lungs_cir_exp = fa.data_extraction(\n",
    "    \"N3A\",\n",
    "    \"lungs\",\n",
    "    n3a_p_headers,\n",
    "    n3a_p_time_names,\n",
    "    standard_names=time_names,\n",
    "    timepoints=5,\n",
    ")"
   ],
   "metadata": {
    "collapsed": false,
    "pycharm": {
     "name": "#%%\n"
    }
   }
  },
  {
   "cell_type": "markdown",
   "source": [
    "#### Venn plots"
   ],
   "metadata": {
    "collapsed": false,
    "pycharm": {
     "name": "#%% md\n"
    }
   }
  },
  {
   "cell_type": "code",
   "execution_count": 22,
   "outputs": [],
   "source": [
    "wt_lungs_cir_exp.venn_plot(\n",
    "    \"Fig-Venn/V-WT-L-Cir\", frequency=False, mean_only=mean_only_venn\n",
    ")\n",
    "wt_lungs_cir_exp.venn_plot(\n",
    "    \"Fig-Venn/V-WT-L-Cir-F\", frequency=True, labels=False, mean_only=mean_only_venn\n",
    ")"
   ],
   "metadata": {
    "collapsed": false,
    "pycharm": {
     "name": "#%%\n"
    }
   }
  },
  {
   "cell_type": "code",
   "execution_count": 23,
   "outputs": [],
   "source": [
    "t8a_lungs_cir_exp.venn_plot(\n",
    "    \"Fig-Venn/V-T8A-L-Cir\", frequency=False, mean_only=mean_only_venn\n",
    ")\n",
    "t8a_lungs_cir_exp.venn_plot(\n",
    "    \"Fig-Venn/V-T8A-L-Cir-F\", frequency=True, labels=False, mean_only=mean_only_venn\n",
    ")"
   ],
   "metadata": {
    "collapsed": false,
    "pycharm": {
     "name": "#%%\n"
    }
   }
  },
  {
   "cell_type": "code",
   "execution_count": 24,
   "outputs": [],
   "source": [
    "n3a_lungs_cir_exp.venn_plot(\n",
    "    \"Fig-Venn/V-N3A-L-Cir\", frequency=False, mean_only=mean_only_venn\n",
    ")\n",
    "n3a_lungs_cir_exp.venn_plot(\n",
    "    \"Fig-Venn/V-N3A-L-Cir-F\", frequency=True, labels=False, mean_only=mean_only_venn\n",
    ")"
   ],
   "metadata": {
    "collapsed": false,
    "pycharm": {
     "name": "#%%\n"
    }
   }
  },
  {
   "cell_type": "markdown",
   "source": [
    "#### Slopes"
   ],
   "metadata": {
    "collapsed": false,
    "pycharm": {
     "name": "#%% md\n"
    }
   }
  },
  {
   "cell_type": "code",
   "execution_count": 25,
   "outputs": [],
   "source": [
    "wt_lungs_cir_exp.slope_plot(\"Fig-Slopes/L-WT-L-Cir\")"
   ],
   "metadata": {
    "collapsed": false,
    "pycharm": {
     "name": "#%%\n"
    }
   }
  },
  {
   "cell_type": "code",
   "execution_count": 26,
   "outputs": [],
   "source": [
    "t8a_lungs_cir_exp.slope_plot(\"Fig-Slopes/L-T8A-L-Cir\")"
   ],
   "metadata": {
    "collapsed": false,
    "pycharm": {
     "name": "#%%\n"
    }
   }
  },
  {
   "cell_type": "code",
   "execution_count": 27,
   "outputs": [],
   "source": [
    "n3a_lungs_cir_exp.slope_plot(\"Fig-Slopes/L-N3A-L-Cir\")"
   ],
   "metadata": {
    "collapsed": false,
    "pycharm": {
     "name": "#%%\n"
    }
   }
  },
  {
   "cell_type": "markdown",
   "source": [
    "### Resident"
   ],
   "metadata": {
    "collapsed": false,
    "pycharm": {
     "name": "#%% md\n"
    }
   }
  },
  {
   "cell_type": "code",
   "execution_count": 28,
   "outputs": [],
   "source": [
    "fa.header_clipping(\"WT\", cd45=\"-\")\n",
    "fa.header_clipping(\"T8A\", cd45=\"-\")\n",
    "fa.header_clipping(\"N3A\", cd45=\"-\")\n",
    "\n",
    "wt_n_headers = [\n",
    "    \"Tissue\",\n",
    "    \"Condition\",\n",
    "    \"CD8n_WTSP_Num\",\n",
    "    \"CD8n_T8ASP_Num\",\n",
    "    \"CD8n_N3ASP_Num\",\n",
    "    \"CD8n_WTT8ADP_Num\",\n",
    "    \"CD8n_WTN3ADP_Num\",\n",
    "    \"CD8n_N3AT8ADP_Num\",\n",
    "    \"CD8n_Triplepos_Num\",\n",
    "    \"CD8n_Num\",\n",
    "]\n",
    "t8a_n_headers = [\n",
    "    \"Tissue\",\n",
    "    \"Infection\",\n",
    "    \"CD8p_WTSP_Num\",\n",
    "    \"CD8p_T8ASP_Num\",\n",
    "    \"CD8p_N3ASP_Num\",\n",
    "    \"CD8p_WTT8ADP_Num\",\n",
    "    \"CD8p_WTN3ADP_Num\",\n",
    "    \"CD8p_N3AT8ADP_Num\",\n",
    "    \"CD8p_TriplePos_Num\",\n",
    "    \"CD8n_Num\",\n",
    "]\n",
    "n3a_n_headers = [\n",
    "    \"Tissue\",\n",
    "    \"Infection\",\n",
    "    \"CD8n_WTSP_Num\",\n",
    "    \"CD8n_T8ASP_Num\",\n",
    "    \"CD8n_N3ASP_Num\",\n",
    "    \"CD8n_WTT8ADP_Num\",\n",
    "    \"CD8n_N3AWTDP_Num\",\n",
    "    \"CD8n_N3AT8ADP_Num\",\n",
    "    \"CD8n_TriplePos_Num\",\n",
    "    \"CD8+CD45-_Norm_Num\",\n",
    "]\n",
    "\n",
    "wt_n_time_names = fa.time_name_list(\"WT\", wt_n_headers, cd45=\"-\")\n",
    "t8a_n_time_names = fa.time_name_list(\"T8A\", t8a_n_headers, cd45=\"-\")\n",
    "n3a_n_time_names = fa.time_name_list(\"N3A\", n3a_n_headers, cd45=\"-\")\n",
    "\n",
    "wt_lungs_res_exp = fa.data_extraction(\n",
    "    \"WT\",\n",
    "    \"lungs\",\n",
    "    wt_n_headers,\n",
    "    wt_n_time_names,\n",
    "    standard_names=time_names,\n",
    "    cd45=\"-\",\n",
    "    timepoints=5,\n",
    ")\n",
    "t8a_lungs_res_exp = fa.data_extraction(\n",
    "    \"T8A\",\n",
    "    \"lungs\",\n",
    "    t8a_n_headers,\n",
    "    t8a_n_time_names,\n",
    "    standard_names=time_names,\n",
    "    cd45=\"-\",\n",
    "    timepoints=5,\n",
    ")\n",
    "n3a_lungs_res_exp = fa.data_extraction(\n",
    "    \"N3A\",\n",
    "    \"lungs\",\n",
    "    n3a_n_headers,\n",
    "    n3a_n_time_names,\n",
    "    standard_names=time_names,\n",
    "    cd45=\"-\",\n",
    "    timepoints=5,\n",
    ")"
   ],
   "metadata": {
    "collapsed": false,
    "pycharm": {
     "name": "#%%\n"
    }
   }
  },
  {
   "cell_type": "markdown",
   "source": [
    "#### Venn plots"
   ],
   "metadata": {
    "collapsed": false,
    "pycharm": {
     "name": "#%% md\n"
    }
   }
  },
  {
   "cell_type": "code",
   "execution_count": 29,
   "outputs": [],
   "source": [
    "wt_lungs_res_exp.venn_plot(\n",
    "    \"Fig-Venn/V-WT-L-Res\", frequency=False, mean_only=mean_only_venn\n",
    ")\n",
    "wt_lungs_res_exp.venn_plot(\n",
    "    \"Fig-Venn/V-WT-L-Res-F\", frequency=True, labels=False, mean_only=mean_only_venn\n",
    ")"
   ],
   "metadata": {
    "collapsed": false,
    "pycharm": {
     "name": "#%%\n"
    }
   }
  },
  {
   "cell_type": "code",
   "execution_count": 30,
   "outputs": [],
   "source": [
    "t8a_lungs_res_exp.venn_plot(\n",
    "    \"Fig-Venn/V-T8A-L-Res\", frequency=False, mean_only=mean_only_venn\n",
    ")\n",
    "t8a_lungs_res_exp.venn_plot(\n",
    "    \"Fig-Venn/V-T8A-L-Res-F\", frequency=True, labels=False, mean_only=mean_only_venn\n",
    ")"
   ],
   "metadata": {
    "collapsed": false,
    "pycharm": {
     "name": "#%%\n"
    }
   }
  },
  {
   "cell_type": "code",
   "execution_count": 31,
   "outputs": [],
   "source": [
    "n3a_lungs_res_exp.venn_plot(\n",
    "    \"Fig-Venn/V-N3A-L-Res\", frequency=False, mean_only=mean_only_venn\n",
    ")\n",
    "n3a_lungs_res_exp.venn_plot(\n",
    "    \"Fig-Venn/V-N3A-L-Res-F\", frequency=True, labels=False, mean_only=mean_only_venn\n",
    ")"
   ],
   "metadata": {
    "collapsed": false,
    "pycharm": {
     "name": "#%%\n"
    }
   }
  },
  {
   "cell_type": "markdown",
   "source": [
    "#### Slopes"
   ],
   "metadata": {
    "collapsed": false,
    "pycharm": {
     "name": "#%% md\n"
    }
   }
  },
  {
   "cell_type": "code",
   "execution_count": 32,
   "outputs": [],
   "source": [
    "wt_lungs_res_exp.slope_plot(\"Fig-Slopes/L-WT-L-Res\")"
   ],
   "metadata": {
    "collapsed": false,
    "pycharm": {
     "name": "#%%\n"
    }
   }
  },
  {
   "cell_type": "code",
   "execution_count": 33,
   "outputs": [],
   "source": [
    "t8a_lungs_res_exp.slope_plot(\"Fig-Slopes/L-T8A-L-Res\")"
   ],
   "metadata": {
    "collapsed": false,
    "pycharm": {
     "name": "#%%\n"
    }
   }
  },
  {
   "cell_type": "code",
   "execution_count": 34,
   "outputs": [],
   "source": [
    "n3a_lungs_res_exp.slope_plot(\"Fig-Slopes/L-N3A-L-Res\")"
   ],
   "metadata": {
    "collapsed": false,
    "pycharm": {
     "name": "#%%\n"
    }
   }
  },
  {
   "cell_type": "markdown",
   "source": [
    "# Stats\n",
    "## WT Priming\n",
    "### Spleen\n",
    "#### Circulating"
   ],
   "metadata": {
    "collapsed": false,
    "pycharm": {
     "name": "#%% md\n"
    }
   }
  },
  {
   "cell_type": "code",
   "execution_count": 35,
   "outputs": [],
   "source": [
    "wt_spleen_cir_df = wt_spleen_cir_exp.to_df(\n",
    "    file_name=\"ANOVA/Data/WT-S-Cir\", frequency=False\n",
    ")\n",
    "wt_spleen_cir_df_feq = wt_spleen_cir_exp.to_df(file_name=\"ANOVA/Data/WT-S-Cir-F\")"
   ],
   "metadata": {
    "collapsed": false,
    "pycharm": {
     "name": "#%%\n"
    }
   }
  },
  {
   "cell_type": "code",
   "execution_count": 36,
   "outputs": [],
   "source": [
    "wt_spleen_cir_exp.combined_correlation_plot(\n",
    "    \"Fig-Correlations/S-WT-S-Cir\",\n",
    "    timepoints=stats_challenges,\n",
    ")\n",
    "for challenge in stats_challenges:\n",
    "    wt_spleen_cir_exp.correlation_plot(\n",
    "        challenge,\n",
    "        file_name=f\"Fig-Correlations/S-WT-{challenge.split(' ')[0]}-S-Cir\",\n",
    "    )"
   ],
   "metadata": {
    "collapsed": false,
    "pycharm": {
     "name": "#%%\n"
    }
   }
  },
  {
   "cell_type": "markdown",
   "source": [
    "#### Resident"
   ],
   "metadata": {
    "collapsed": false,
    "pycharm": {
     "name": "#%% md\n"
    }
   }
  },
  {
   "cell_type": "code",
   "execution_count": 37,
   "outputs": [],
   "source": [
    "wt_spleen_res_df = wt_spleen_res_exp.to_df(\n",
    "    file_name=\"ANOVA/Data/WT-S-Res\", frequency=False\n",
    ")\n",
    "wt_spleen_res_df_feq = wt_spleen_res_exp.to_df(file_name=\"ANOVA/Data/WT-S-Res-F\")"
   ],
   "metadata": {
    "collapsed": false,
    "pycharm": {
     "name": "#%%\n"
    }
   }
  },
  {
   "cell_type": "code",
   "execution_count": 38,
   "outputs": [],
   "source": [
    "wt_spleen_res_exp.combined_correlation_plot(\n",
    "    \"Fig-Correlations/S-WT-S-Res\",\n",
    "    timepoints=stats_challenges,\n",
    ")\n",
    "for challenge in stats_challenges:\n",
    "    wt_spleen_res_exp.correlation_plot(\n",
    "        challenge,\n",
    "        file_name=f\"Fig-Correlations/S-WT-{challenge.split(' ')[0]}-S-Res\",\n",
    "    )"
   ],
   "metadata": {
    "collapsed": false,
    "pycharm": {
     "name": "#%%\n"
    }
   }
  },
  {
   "cell_type": "markdown",
   "source": [
    "### Lungs\n",
    "#### Circulating"
   ],
   "metadata": {
    "collapsed": false,
    "pycharm": {
     "name": "#%% md\n"
    }
   }
  },
  {
   "cell_type": "code",
   "execution_count": 39,
   "outputs": [],
   "source": [
    "wt_lungs_cir_df = wt_lungs_cir_exp.to_df(\n",
    "    file_name=\"ANOVA/Data/WT-L-Cir\", frequency=False\n",
    ")\n",
    "wt_lungs_cir_df_freq = wt_lungs_cir_exp.to_df(file_name=\"ANOVA/Data/WT-L-Cir-F\")"
   ],
   "metadata": {
    "collapsed": false,
    "pycharm": {
     "name": "#%%\n"
    }
   }
  },
  {
   "cell_type": "code",
   "execution_count": 40,
   "outputs": [],
   "source": [
    "wt_lungs_cir_exp.combined_correlation_plot(\n",
    "    \"Fig-Correlations/S-WT-L-Cir\",\n",
    "    timepoints=stats_challenges,\n",
    ")\n",
    "for challenge in stats_challenges:\n",
    "    wt_lungs_cir_exp.correlation_plot(\n",
    "        challenge,\n",
    "        file_name=f\"Fig-Correlations/S-WT-{challenge.split(' ')[0]}-L-Cir\",\n",
    "    )"
   ],
   "metadata": {
    "collapsed": false,
    "pycharm": {
     "name": "#%%\n"
    }
   }
  },
  {
   "cell_type": "markdown",
   "source": [
    "#### Resident"
   ],
   "metadata": {
    "collapsed": false,
    "pycharm": {
     "name": "#%% md\n"
    }
   }
  },
  {
   "cell_type": "code",
   "execution_count": 41,
   "outputs": [],
   "source": [
    "wt_lungs_res_df = wt_lungs_res_exp.to_df(\n",
    "    file_name=\"ANOVA/Data/WT-L-Res\", frequency=False\n",
    ")\n",
    "wt_lungs_res_df_freq = wt_lungs_res_exp.to_df(file_name=\"ANOVA/Data/WT-L-Res-F\")"
   ],
   "metadata": {
    "collapsed": false,
    "pycharm": {
     "name": "#%%\n"
    }
   }
  },
  {
   "cell_type": "code",
   "execution_count": 42,
   "outputs": [],
   "source": [
    "wt_lungs_res_exp.combined_correlation_plot(\n",
    "    \"Fig-Correlations/S-WT-L-Res\",\n",
    "    timepoints=stats_challenges,\n",
    ")\n",
    "for challenge in stats_challenges:\n",
    "    wt_lungs_res_exp.correlation_plot(\n",
    "        challenge,\n",
    "        file_name=f\"Fig-Correlations/S-WT-{challenge.split(' ')[0]}-L-Res\",\n",
    "    )"
   ],
   "metadata": {
    "collapsed": false,
    "pycharm": {
     "name": "#%%\n"
    }
   }
  },
  {
   "cell_type": "markdown",
   "source": [
    "## Correlation heatmaps"
   ],
   "metadata": {
    "collapsed": false,
    "pycharm": {
     "name": "#%% md\n"
    }
   }
  },
  {
   "cell_type": "code",
   "execution_count": 92,
   "outputs": [],
   "source": [
    "from scipy import stats\n",
    "import numpy as np\n",
    "import warnings\n",
    "\n",
    "\n",
    "def _spearman_pval(x, y):\n",
    "    with warnings.catch_warnings():\n",
    "        warnings.simplefilter(\"error\")\n",
    "        try:\n",
    "            return stats.spearmanr(x, y)[1]\n",
    "        except stats.SpearmanRConstantInputWarning:\n",
    "            return 1\n",
    "\n",
    "\n",
    "def _asterisk_significance(pval, comparisons=None):\n",
    "\n",
    "    if comparisons is None:\n",
    "        comparisons = 1\n",
    "\n",
    "    if pval <= 0.01 / comparisons:\n",
    "        return \"${\\\\ast}{\\\\ast}$\"\n",
    "    elif pval <= 0.05 / comparisons:\n",
    "        return \"${\\\\ast}$\"\n",
    "    else:\n",
    "        return \"\"\n",
    "\n",
    "\n",
    "test = (\n",
    "    wt_lungs_res_df[(wt_lungs_res_df.Challenge == \"Memory\")]\n",
    "    .corr(method=_spearman_pval)\n",
    "    .applymap(_asterisk_significance)\n",
    ")  # - np.eye(len(wt_lungs_cir_df.columns) - 1)\n",
    "\n",
    "# test.applymap(_asterisk_significance)"
   ],
   "metadata": {
    "collapsed": false,
    "pycharm": {
     "name": "#%%\n"
    }
   }
  },
  {
   "cell_type": "code",
   "execution_count": 97,
   "outputs": [
    {
     "data": {
      "text/plain": "<Figure size 432x288 with 2 Axes>",
      "image/png": "[encoded data removed]"
     },
     "metadata": {},
     "output_type": "display_data"
    }
   ],
   "source": [
    "sns.heatmap(\n",
    "    wt_lungs_res_df[(wt_lungs_res_df.Challenge == \"Memory\")].corr(method=\"spearman\"),\n",
    "    vmin=-1,\n",
    "    vmax=1,\n",
    "    cmap=sns.diverging_palette(270, 10, s=90, sep=10, as_cmap=True),\n",
    "    # cmap=sns.diverging_palette(240, 10, n=9, as_cmap=True),\n",
    "    # cmap=sns.color_palette(\"vlag\", as_cmap=True),\n",
    "    annot=wt_lungs_res_df[(wt_lungs_res_df.Challenge == \"Memory\")]\n",
    "    .corr(method=_spearman_pval)\n",
    "    .applymap(_asterisk_significance),\n",
    "    fmt=\"\",\n",
    "    annot_kws={\n",
    "        \"size\": \"xx-large\",\n",
    "        # \"color\": \"k\",\n",
    "    },\n",
    ")\n",
    "plt.savefig(\"TEST.pdf\")"
   ],
   "metadata": {
    "collapsed": false,
    "pycharm": {
     "name": "#%%\n"
    }
   }
  },
  {
   "cell_type": "code",
   "execution_count": 69,
   "outputs": [
    {
     "data": {
      "text/plain": "               WT       T8A       N3A    WT+T8A    WT+N3A  T8A+N3A  TP  \\\nWT       0.000000  0.316228 -0.632456  0.774597  0.316228      NaN NaN   \nT8A      0.316228  0.000000 -0.055556  0.816497  1.000000      NaN NaN   \nN3A     -0.632456 -0.055556  0.000000 -0.544331 -0.055556      NaN NaN   \nWT+T8A   0.774597  0.816497 -0.544331  0.000000  0.816497      NaN NaN   \nWT+N3A   0.316228  1.000000 -0.055556  0.816497  0.000000      NaN NaN   \nT8A+N3A       NaN       NaN       NaN       NaN       NaN      NaN NaN   \nTP            NaN       NaN       NaN       NaN       NaN      NaN NaN   \nTN      -0.200000  0.737865  0.632456  0.258199  0.737865      NaN NaN   \n\n               TN  \nWT      -0.200000  \nT8A      0.737865  \nN3A      0.632456  \nWT+T8A   0.258199  \nWT+N3A   0.737865  \nT8A+N3A       NaN  \nTP            NaN  \nTN       0.000000  ",
      "text/html": "<div>\n<style scoped>\n    .dataframe tbody tr th:only-of-type {\n        vertical-align: middle;\n    }\n\n    .dataframe tbody tr th {\n        vertical-align: top;\n    }\n\n    .dataframe thead th {\n        text-align: right;\n    }\n</style>\n<table border=\"1\" class=\"dataframe\">\n  <thead>\n    <tr style=\"text-align: right;\">\n      <th></th>\n      <th>WT</th>\n      <th>T8A</th>\n      <th>N3A</th>\n      <th>WT+T8A</th>\n      <th>WT+N3A</th>\n      <th>T8A+N3A</th>\n      <th>TP</th>\n      <th>TN</th>\n    </tr>\n  </thead>\n  <tbody>\n    <tr>\n      <th>WT</th>\n      <td>0.000000</td>\n      <td>0.316228</td>\n      <td>-0.632456</td>\n      <td>0.774597</td>\n      <td>0.316228</td>\n      <td>NaN</td>\n      <td>NaN</td>\n      <td>-0.200000</td>\n    </tr>\n    <tr>\n      <th>T8A</th>\n      <td>0.316228</td>\n      <td>0.000000</td>\n      <td>-0.055556</td>\n      <td>0.816497</td>\n      <td>1.000000</td>\n      <td>NaN</td>\n      <td>NaN</td>\n      <td>0.737865</td>\n    </tr>\n    <tr>\n      <th>N3A</th>\n      <td>-0.632456</td>\n      <td>-0.055556</td>\n      <td>0.000000</td>\n      <td>-0.544331</td>\n      <td>-0.055556</td>\n      <td>NaN</td>\n      <td>NaN</td>\n      <td>0.632456</td>\n    </tr>\n    <tr>\n      <th>WT+T8A</th>\n      <td>0.774597</td>\n      <td>0.816497</td>\n      <td>-0.544331</td>\n      <td>0.000000</td>\n      <td>0.816497</td>\n      <td>NaN</td>\n      <td>NaN</td>\n      <td>0.258199</td>\n    </tr>\n    <tr>\n      <th>WT+N3A</th>\n      <td>0.316228</td>\n      <td>1.000000</td>\n      <td>-0.055556</td>\n      <td>0.816497</td>\n      <td>0.000000</td>\n      <td>NaN</td>\n      <td>NaN</td>\n      <td>0.737865</td>\n    </tr>\n    <tr>\n      <th>T8A+N3A</th>\n      <td>NaN</td>\n      <td>NaN</td>\n      <td>NaN</td>\n      <td>NaN</td>\n      <td>NaN</td>\n      <td>NaN</td>\n      <td>NaN</td>\n      <td>NaN</td>\n    </tr>\n    <tr>\n      <th>TP</th>\n      <td>NaN</td>\n      <td>NaN</td>\n      <td>NaN</td>\n      <td>NaN</td>\n      <td>NaN</td>\n      <td>NaN</td>\n      <td>NaN</td>\n      <td>NaN</td>\n    </tr>\n    <tr>\n      <th>TN</th>\n      <td>-0.200000</td>\n      <td>0.737865</td>\n      <td>0.632456</td>\n      <td>0.258199</td>\n      <td>0.737865</td>\n      <td>NaN</td>\n      <td>NaN</td>\n      <td>0.000000</td>\n    </tr>\n  </tbody>\n</table>\n</div>"
     },
     "execution_count": 69,
     "metadata": {},
     "output_type": "execute_result"
    }
   ],
   "source": [
    "from scipy import stats\n",
    "import numpy as np\n",
    "\n",
    "wt_lungs_res_df[(wt_lungs_res_df.Challenge == \"Memory\")].corr(\n",
    "    method=\"spearman\"\n",
    ") - np.eye(len(wt_lungs_cir_df.columns) - 1)"
   ],
   "metadata": {
    "collapsed": false,
    "pycharm": {
     "name": "#%%\n"
    }
   }
  },
  {
   "cell_type": "code",
   "execution_count": 92,
   "outputs": [],
   "source": [
    "from scipy import stats\n",
    "import numpy as np\n",
    "import warnings\n",
    "\n",
    "\n",
    "def _spearman_pval(x, y):\n",
    "    with warnings.catch_warnings():\n",
    "        warnings.simplefilter(\"error\")\n",
    "        try:\n",
    "            return stats.spearmanr(x, y)[1]\n",
    "        except stats.SpearmanRConstantInputWarning:\n",
    "            return 1\n",
    "\n",
    "\n",
    "def _asterisk_significance(pval, comparisons=None):\n",
    "\n",
    "    if comparisons is None:\n",
    "        comparisons = 1\n",
    "\n",
    "    if pval <= 0.01 / comparisons:\n",
    "        return \"${\\\\ast}{\\\\ast}$\"\n",
    "    elif pval <= 0.05 / comparisons:\n",
    "        return \"${\\\\ast}$\"\n",
    "    else:\n",
    "        return \"\"\n",
    "\n",
    "\n",
    "test = (\n",
    "    wt_lungs_res_df[(wt_lungs_res_df.Challenge == \"Memory\")]\n",
    "    .corr(method=_spearman_pval)\n",
    "    .applymap(_asterisk_significance)\n",
    ")  # - np.eye(len(wt_lungs_cir_df.columns) - 1)\n",
    "\n",
    "# test.applymap(_asterisk_significance)"
   ],
   "metadata": {
    "collapsed": false,
    "pycharm": {
     "name": "#%%\n"
    }
   }
  },
  {
   "cell_type": "markdown",
   "source": [
    "## T8A Priming\n",
    "### Spleen\n",
    "#### Circulating"
   ],
   "metadata": {
    "collapsed": false,
    "pycharm": {
     "name": "#%% md\n"
    }
   }
  },
  {
   "cell_type": "code",
   "execution_count": 44,
   "outputs": [],
   "source": [
    "t8a_spleen_cir_df = t8a_spleen_cir_exp.to_df(\n",
    "    file_name=\"ANOVA/Data/T8A-S-Cir\", frequency=False\n",
    ")\n",
    "t8a_spleen_cir_df_feq = t8a_spleen_cir_exp.to_df(file_name=\"ANOVA/Data/T8A-S-Cir-F\")"
   ],
   "metadata": {
    "collapsed": false,
    "pycharm": {
     "name": "#%%\n"
    }
   }
  },
  {
   "cell_type": "code",
   "execution_count": 45,
   "outputs": [],
   "source": [
    "t8a_spleen_cir_exp.combined_correlation_plot(\n",
    "    \"Fig-Correlations/S-T8A-S-Cir\",\n",
    "    timepoints=stats_challenges,\n",
    ")\n",
    "for challenge in stats_challenges:\n",
    "    t8a_spleen_cir_exp.correlation_plot(\n",
    "        challenge,\n",
    "        file_name=f\"Fig-Correlations/S-T8A-{challenge.split(' ')[0]}-S-Cir\",\n",
    "    )"
   ],
   "metadata": {
    "collapsed": false,
    "pycharm": {
     "name": "#%%\n"
    }
   }
  },
  {
   "cell_type": "markdown",
   "source": [
    "#### Resident"
   ],
   "metadata": {
    "collapsed": false,
    "pycharm": {
     "name": "#%% md\n"
    }
   }
  },
  {
   "cell_type": "code",
   "execution_count": 46,
   "outputs": [],
   "source": [
    "t8a_spleen_res_df = t8a_spleen_res_exp.to_df(\n",
    "    file_name=\"ANOVA/Data/T8A-S-Res\", frequency=False\n",
    ")\n",
    "t8a_spleen_res_df_feq = t8a_spleen_res_exp.to_df(file_name=\"ANOVA/Data/T8A-S-Res-F\")"
   ],
   "metadata": {
    "collapsed": false,
    "pycharm": {
     "name": "#%%\n"
    }
   }
  },
  {
   "cell_type": "code",
   "execution_count": 47,
   "outputs": [],
   "source": [
    "t8a_spleen_res_exp.combined_correlation_plot(\n",
    "    \"Fig-Correlations/S-T8A-S-Res\",\n",
    "    timepoints=stats_challenges,\n",
    ")\n",
    "for challenge in stats_challenges:\n",
    "    t8a_spleen_res_exp.correlation_plot(\n",
    "        challenge,\n",
    "        file_name=f\"Fig-Correlations/S-T8A-{challenge.split(' ')[0]}-S-Res\",\n",
    "    )"
   ],
   "metadata": {
    "collapsed": false,
    "pycharm": {
     "name": "#%%\n"
    }
   }
  },
  {
   "cell_type": "markdown",
   "source": [
    "### Lungs\n",
    "#### Circulating"
   ],
   "metadata": {
    "collapsed": false,
    "pycharm": {
     "name": "#%% md\n"
    }
   }
  },
  {
   "cell_type": "code",
   "execution_count": 48,
   "outputs": [],
   "source": [
    "t8a_lungs_cir_df = t8a_lungs_cir_exp.to_df(\n",
    "    file_name=\"ANOVA/Data/T8A-L-Cir\", frequency=False\n",
    ")\n",
    "t8a_lungs_cir_df_feq = t8a_lungs_cir_exp.to_df(file_name=\"ANOVA/Data/T8A-L-Cir-F\")"
   ],
   "metadata": {
    "collapsed": false,
    "pycharm": {
     "name": "#%%\n"
    }
   }
  },
  {
   "cell_type": "code",
   "execution_count": 49,
   "outputs": [],
   "source": [
    "t8a_lungs_cir_exp.combined_correlation_plot(\n",
    "    \"Fig-Correlations/S-T8A-L-Cir\",\n",
    "    timepoints=stats_challenges,\n",
    ")\n",
    "for challenge in stats_challenges:\n",
    "    t8a_lungs_cir_exp.correlation_plot(\n",
    "        challenge,\n",
    "        file_name=f\"Fig-Correlations/S-T8A-{challenge.split(' ')[0]}-L-Cir\",\n",
    "    )"
   ],
   "metadata": {
    "collapsed": false,
    "pycharm": {
     "name": "#%%\n"
    }
   }
  },
  {
   "cell_type": "markdown",
   "source": [
    "#### Resident"
   ],
   "metadata": {
    "collapsed": false,
    "pycharm": {
     "name": "#%% md\n"
    }
   }
  },
  {
   "cell_type": "code",
   "execution_count": 50,
   "outputs": [],
   "source": [
    "t8a_lungs_res_df = t8a_lungs_res_exp.to_df(\n",
    "    file_name=\"ANOVA/Data/T8A-L-Res\", frequency=False\n",
    ")\n",
    "t8a_lungs_res_df_feq = t8a_lungs_res_exp.to_df(file_name=\"ANOVA/Data/T8A-L-Res-F\")"
   ],
   "metadata": {
    "collapsed": false,
    "pycharm": {
     "name": "#%%\n"
    }
   }
  },
  {
   "cell_type": "code",
   "execution_count": 51,
   "outputs": [],
   "source": [
    "t8a_lungs_res_exp.combined_correlation_plot(\n",
    "    \"Fig-Correlations/S-T8A-L-Res\",\n",
    "    timepoints=stats_challenges,\n",
    ")\n",
    "for challenge in stats_challenges:\n",
    "    t8a_lungs_res_exp.correlation_plot(\n",
    "        challenge,\n",
    "        file_name=f\"Fig-Correlations/S-T8A-{challenge.split(' ')[0]}-L-Res\",\n",
    "    )"
   ],
   "metadata": {
    "collapsed": false,
    "pycharm": {
     "name": "#%%\n"
    }
   }
  },
  {
   "cell_type": "markdown",
   "source": [
    "## N3A Priming\n",
    "### Spleen\n",
    "#### Circulating"
   ],
   "metadata": {
    "collapsed": false,
    "pycharm": {
     "name": "#%% md\n"
    }
   }
  },
  {
   "cell_type": "code",
   "execution_count": 52,
   "outputs": [],
   "source": [
    "n3a_spleen_cir_df = n3a_spleen_cir_exp.to_df(\n",
    "    file_name=\"ANOVA/Data/N3A-S-Cir\", frequency=False\n",
    ")\n",
    "n3a_spleen_cir_df_feq = n3a_spleen_cir_exp.to_df(file_name=\"ANOVA/Data/N3A-S-Cir-F\")"
   ],
   "metadata": {
    "collapsed": false,
    "pycharm": {
     "name": "#%%\n"
    }
   }
  },
  {
   "cell_type": "code",
   "execution_count": 53,
   "outputs": [],
   "source": [
    "n3a_spleen_cir_exp.combined_correlation_plot(\n",
    "    \"Fig-Correlations/S-N3A-S-Cir\",\n",
    "    timepoints=stats_challenges,\n",
    ")\n",
    "for challenge in stats_challenges:\n",
    "    n3a_spleen_cir_exp.correlation_plot(\n",
    "        challenge,\n",
    "        file_name=f\"Fig-Correlations/S-N3A-{challenge.split(' ')[0]}-S-Cir\",\n",
    "    )"
   ],
   "metadata": {
    "collapsed": false,
    "pycharm": {
     "name": "#%%\n"
    }
   }
  },
  {
   "cell_type": "markdown",
   "source": [
    "#### Resident"
   ],
   "metadata": {
    "collapsed": false,
    "pycharm": {
     "name": "#%% md\n"
    }
   }
  },
  {
   "cell_type": "code",
   "execution_count": 54,
   "outputs": [],
   "source": [
    "n3a_spleen_res_df = n3a_spleen_res_exp.to_df(\n",
    "    file_name=\"ANOVA/Data/N3A-S-Res\", frequency=False\n",
    ")\n",
    "n3a_spleen_res_df_feq = n3a_spleen_res_exp.to_df(file_name=\"ANOVA/Data/N3A-S-Res-F\")"
   ],
   "metadata": {
    "collapsed": false,
    "pycharm": {
     "name": "#%%\n"
    }
   }
  },
  {
   "cell_type": "code",
   "execution_count": 55,
   "outputs": [],
   "source": [
    "n3a_spleen_res_exp.combined_correlation_plot(\n",
    "    \"Fig-Correlations/S-N3A-S-Res\",\n",
    "    timepoints=stats_challenges,\n",
    ")\n",
    "for challenge in stats_challenges:\n",
    "    n3a_spleen_res_exp.correlation_plot(\n",
    "        challenge, file_name=f\"Fig-Correlations/S-N3A-{challenge.split(' ')[0]}-S-Res\"\n",
    "    )"
   ],
   "metadata": {
    "collapsed": false,
    "pycharm": {
     "name": "#%%\n"
    }
   }
  },
  {
   "cell_type": "markdown",
   "source": [
    "### Lungs\n",
    "#### Circulating"
   ],
   "metadata": {
    "collapsed": false,
    "pycharm": {
     "name": "#%% md\n"
    }
   }
  },
  {
   "cell_type": "code",
   "execution_count": 56,
   "outputs": [],
   "source": [
    "n3a_lungs_cir_df = n3a_lungs_cir_exp.to_df(\n",
    "    file_name=\"ANOVA/Data/N3A-L-Cir\", frequency=False\n",
    ")\n",
    "n3a_lungs_cir_df_feq = n3a_lungs_cir_exp.to_df(file_name=\"ANOVA/Data/N3A-L-Cir-F\")"
   ],
   "metadata": {
    "collapsed": false,
    "pycharm": {
     "name": "#%%\n"
    }
   }
  },
  {
   "cell_type": "code",
   "execution_count": 57,
   "outputs": [],
   "source": [
    "n3a_lungs_cir_exp.combined_correlation_plot(\n",
    "    \"Fig-Correlations/S-N3A-L-Cir\",\n",
    "    timepoints=stats_challenges,\n",
    ")\n",
    "for challenge in stats_challenges:\n",
    "    n3a_lungs_cir_exp.correlation_plot(\n",
    "        challenge, file_name=f\"Fig-Correlations/S-N3A-{challenge.split(' ')[0]}-L-Cir\"\n",
    "    )"
   ],
   "metadata": {
    "collapsed": false,
    "pycharm": {
     "name": "#%%\n"
    }
   }
  },
  {
   "cell_type": "markdown",
   "source": [
    "#### Resident"
   ],
   "metadata": {
    "collapsed": false,
    "pycharm": {
     "name": "#%% md\n"
    }
   }
  },
  {
   "cell_type": "code",
   "execution_count": 58,
   "outputs": [],
   "source": [
    "n3a_lungs_res_df = n3a_lungs_res_exp.to_df(\n",
    "    file_name=\"ANOVA/Data/N3A-L-Res\", frequency=False\n",
    ")\n",
    "n3a_lungs_res_df_feq = n3a_lungs_res_exp.to_df(file_name=\"ANOVA/Data/N3A-L-Res-F\")"
   ],
   "metadata": {
    "collapsed": false,
    "pycharm": {
     "name": "#%%\n"
    }
   }
  },
  {
   "cell_type": "code",
   "execution_count": 59,
   "outputs": [],
   "source": [
    "n3a_lungs_res_exp.combined_correlation_plot(\n",
    "    \"Fig-Correlations/S-N3A-L-Res\",\n",
    "    timepoints=stats_challenges,\n",
    ")\n",
    "for challenge in stats_challenges:\n",
    "    n3a_lungs_res_exp.correlation_plot(\n",
    "        challenge, file_name=f\"Fig-Correlations/S-N3A-{challenge.split(' ')[0]}-L-Res\"\n",
    "    )"
   ],
   "metadata": {
    "collapsed": false,
    "pycharm": {
     "name": "#%%\n"
    }
   }
  },
  {
   "cell_type": "code",
   "execution_count": null,
   "outputs": [],
   "source": [],
   "metadata": {
    "collapsed": false,
    "pycharm": {
     "name": "#%%\n"
    }
   }
  }
 ],
 "metadata": {
  "kernelspec": {
   "display_name": "Python 3 (ipykernel)",
   "language": "python",
   "name": "python3"
  },
  "language_info": {
   "codemirror_mode": {
    "name": "ipython",
    "version": 3
   },
   "file_extension": ".py",
   "mimetype": "text/x-python",
   "name": "python",
   "nbconvert_exporter": "python",
   "pygments_lexer": "ipython3",
   "version": "3.7.11"
  }
 },
 "nbformat": 4,
 "nbformat_minor": 5
}
