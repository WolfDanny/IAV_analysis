{
 "cells": [
  {
   "cell_type": "code",
   "execution_count": 1,
   "id": "d50db85a",
   "metadata": {
    "pycharm": {
     "name": "#%%\n"
    }
   },
   "outputs": [],
   "source": [
    "%matplotlib inline"
   ]
  },
  {
   "cell_type": "code",
   "execution_count": 2,
   "id": "d5c63525",
   "metadata": {
    "pycharm": {
     "name": "#%%\n"
    }
   },
   "outputs": [],
   "source": [
    "import warnings\n",
    "import pandas as pd\n",
    "import plotly.express as px\n",
    "import plotly.graph_objects as go\n",
    "from plotly.subplots import make_subplots\n",
    "from copy import deepcopy\n",
    "from scipy import stats\n",
    "from scipy.special import comb\n",
    "\n",
    "import seaborn as sns\n",
    "import matplotlib.pyplot as plt\n",
    "\n",
    "from flowanalysis import definitions as fa"
   ]
  },
  {
   "cell_type": "markdown",
   "id": "c26935c1",
   "metadata": {
    "pycharm": {
     "name": "#%% md\n"
    }
   },
   "source": [
    "import csv\n",
    "import numpy as np\n",
    "import scipy\n",
    "import matplotlib.pyplot as plt\n",
    "from matplotlib_venn import venn3, venn3_circles"
   ]
  },
  {
   "cell_type": "markdown",
   "source": [
    "plt.rcParams.update({\"text.usetex\": True})\n",
    "plt.rcParams[\"text.latex.preamble\"] = r\"\\usepackage{graphicx}\"\n",
    "plt.rcParams[\"font.family\"] = \"serif\"\n",
    "plt.rcParams[\"mathtext.fontset\"] = \"dejavuserif\""
   ],
   "metadata": {
    "collapsed": false,
    "pycharm": {
     "name": "#%% md\n"
    }
   }
  },
  {
   "cell_type": "code",
   "execution_count": 3,
   "outputs": [],
   "source": [
    "sns.set_style(\"ticks\")"
   ],
   "metadata": {
    "collapsed": false,
    "pycharm": {
     "name": "#%%\n"
    }
   }
  },
  {
   "cell_type": "code",
   "execution_count": 4,
   "id": "0891bb2b",
   "metadata": {
    "pycharm": {
     "name": "#%%\n"
    }
   },
   "outputs": [],
   "source": [
    "timeNames = (\"Primary\", \"Memory\", \"WT challenge\", \"T8A challege\", \"N3A challenge\")\n",
    "naiveColumns = (\"WT column\", \"T8A column\", \"N3A column\")\n",
    "tetramerNames = (\"WT\", \"T8A\", \"N3A\")\n",
    "naive_stats_column_names = [\n",
    "    \"SP [WT]\",\n",
    "    \"T8A [WT]\",\n",
    "    \"N3A [WT]\",\n",
    "    \"TP [WT]\",\n",
    "    \"SP [T8A]\",\n",
    "    \"WT [T8A]\",\n",
    "    \"N3A [T8A]\",\n",
    "    \"TP [T8A]\",\n",
    "    \"SP [N3A]\",\n",
    "    \"WT [N3A]\",\n",
    "    \"T8A [N3A]\",\n",
    "    \"TP [N3A]\",\n",
    "]"
   ]
  },
  {
   "cell_type": "markdown",
   "id": "e24b73c1",
   "metadata": {
    "pycharm": {
     "name": "#%% md\n"
    }
   },
   "source": [
    "# Data formating\n",
    "\n",
    "For each timepoint and sample the data needs to be formated as a 7-tuple, ordered as follows:\n",
    "1. WT single positive cells\n",
    "2. T8A single positive cells\n",
    "3. WT + T8A double positive cells\n",
    "4. N3A single positive cells\n",
    "5. WT + N3A double positive cells\n",
    "6. T8A + N3A double positive cells\n",
    "7. WT + T8A + N3A triple positive cells\n",
    "\n",
    "For each priming infection the data is stored on a list indexed as follows:\n",
    "1. Mouse\n",
    "2. Timepoint\n",
    "\n",
    "If there are fewer mice on one of the timepoints the remaining entries on the list must be (-1, 0, 0, 0, 0, 0, 0) to make sure that the mean is correctly calculated\n",
    "\n",
    "When reading the data the headers are put in a list ordred as follows:\n",
    "1. Tissue\n",
    "2. Timepoint\n",
    "3. WT single positive cells\n",
    "4. T8A single positive cells\n",
    "5. WT + T8A double positive cells\n",
    "6. N3A single positive cells\n",
    "7. N3A + WT double positive cells\n",
    "8. N3A + T8A double positive cells\n",
    "9. WT + T8A + N3A triple positive cells\n",
    "10. Total CD8 cells"
   ]
  },
  {
   "cell_type": "markdown",
   "id": "ff12190a",
   "metadata": {
    "pycharm": {
     "name": "#%% md\n"
    }
   },
   "source": [
    "# Spleen circulating"
   ]
  },
  {
   "cell_type": "code",
   "execution_count": 5,
   "id": "b8821793",
   "metadata": {
    "pycharm": {
     "name": "#%%\n"
    }
   },
   "outputs": [
    {
     "name": "stdout",
     "output_type": "stream",
     "text": [
      "['Mouse', 'Cell_Count', 'Tissue', 'Condition', 'Sample:', 'Lymphocytes', 'Singlets', 'Live Cells', 'F480 B220 Negative', 'CD8p_Freq', 'CD8p_Norm_Freq', 'CD8p_Num', 'CD8p_N3ATotal_Freq', 'CD8p_N3ATotal_Num', 'CD8p_T8ATotal_Freq', 'CD8p_T8ATotal_Num', 'CD8p_WTTotal_Freq', 'CD8p_WTTotal_Num', 'CD8p_TriplePos_Freq', 'CD8p_TriplePos_Num', 'CD8p_N3AT8ADP_Freq', 'CD8p_N3AT8ADP_Num', 'CD8p_WTN3ADP_Freq', 'CD8p_WTN3ADP_Num', 'CD8p_WTT8ADP_Freq', 'CD8p_WTT8ADP_Num', 'WTSP_Freq', 'WTSP_Num', 'N3ASP_Freq', 'N3ASP_Num', 'T8ASP_Freq', 'T8ASP_Num']\n",
      "['Mouse', 'Cell Count', 'Tissue', 'T8A Primary', 'Sample:', 'Lymphocytes', 'Singlets', 'Live Cells', 'F480 B220 Negative', 'CD8p_Freq', 'CD8p_Norm_Freq', 'CD8p_Num', 'CD8p_N3ATotal_Freq', 'CD8p_N3ATotal_Num', 'CD8p_T8ATotal_Freq', 'CD8p_T8ATotal_Num', 'CD8p_WTTotal_Freq', 'CD8p_WTTotal_Num', 'CD8p_TriplePos_Freq', 'CD8p_TriplePos_Num', 'CD8p_N3AT8ADP_Freq', 'CD8p_N3AT8ADP_Num', 'CD8p_WTN3ADP_Freq', 'CD8p_WTN3ADP_Num', 'CD8p_WTT8ADP_Freq', 'CD8p_WTT8ADP_Num', 'CD8p_WTSP_Freq', 'CD8p_WTSP_Num', 'CD8p_N3ASP_Freq', 'CD8p_N3ASP_Num', 'CD8p_T8ASP_Freq', 'CD8p_T8ASP_Num']\n",
      "['Mouse', 'Tissue', 'Cell Count', 'Infection', 'Sample:', 'Lymphocytes', 'Singlets', 'Live Cells', 'B220F480Neg', 'CD8+', 'CD8+CD45-_Freq', 'CD8+CD45-_Norm_Freq', 'CD8+CD45-_Norm_Num', 'CD8p_N3ATotal_Freq', 'CD8p_N3ATotal_Num', 'CD8p_T8ATotal_Freq', 'CD8p_T8ATotal_Num', 'CD8p_WTTotal_Freq', 'CD8p_WTTotal_Num', 'N3A Neg', 'T8A Neg', 'WT Neg', 'CD8p_TriplePos_Freq', 'CD8p_TriplePos_Num', 'CD8p_N3AT8ADP_Freq', 'CD8p_N3AT8ADP_Num', 'CD8p_N3AWTDP_Freq', 'CD8p_N3AWTDP_Num', 'CD8p_N3ASP_Freq', 'CD8p_N3ASP_Num', 'CD8p_WTT8ADP_Freq', 'CD8p_WTT8ADP_Num', 'CD8p_T8ASP_Freq', 'CD8p_T8ASP_Num', 'CD8p_WTSP_Freq', 'CD8p_WTSP_Num', 'Triple Neg', 'Triple Neg_Num']\n"
     ]
    }
   ],
   "source": [
    "fa.header_clipping(\"WT\", check=True)\n",
    "fa.header_clipping(\"T8A\", check=True)\n",
    "fa.header_clipping(\"N3A\", check=True)"
   ]
  },
  {
   "cell_type": "code",
   "execution_count": 6,
   "id": "17466647",
   "metadata": {
    "pycharm": {
     "name": "#%%\n"
    }
   },
   "outputs": [],
   "source": [
    "fa.header_clipping(\"WT\")\n",
    "fa.header_clipping(\"T8A\")\n",
    "fa.header_clipping(\"N3A\")\n",
    "\n",
    "wt_p_headers = [\n",
    "    \"Tissue\",\n",
    "    \"Condition\",\n",
    "    \"WTSP_Num\",\n",
    "    \"T8ASP_Num\",\n",
    "    \"CD8p_WTT8ADP_Num\",\n",
    "    \"N3ASP_Num\",\n",
    "    \"CD8p_WTN3ADP_Num\",\n",
    "    \"CD8p_N3AT8ADP_Num\",\n",
    "    \"CD8p_TriplePos_Num\",\n",
    "    \"CD8p_Num\",\n",
    "]\n",
    "t8a_p_headers = [\n",
    "    \"Tissue\",\n",
    "    \"T8A Primary\",\n",
    "    \"CD8p_WTSP_Num\",\n",
    "    \"CD8p_T8ASP_Num\",\n",
    "    \"CD8p_WTT8ADP_Num\",\n",
    "    \"CD8p_N3ASP_Num\",\n",
    "    \"CD8p_WTN3ADP_Num\",\n",
    "    \"CD8p_N3AT8ADP_Num\",\n",
    "    \"CD8p_TriplePos_Num\",\n",
    "    \"CD8p_Num\",\n",
    "]\n",
    "n3a_p_headers = [\n",
    "    \"Tissue\",\n",
    "    \"Infection\",\n",
    "    \"CD8p_WTSP_Num\",\n",
    "    \"CD8p_T8ASP_Num\",\n",
    "    \"CD8p_WTT8ADP_Num\",\n",
    "    \"CD8p_N3ASP_Num\",\n",
    "    \"CD8p_N3AWTDP_Num\",\n",
    "    \"CD8p_N3AT8ADP_Num\",\n",
    "    \"CD8p_TriplePos_Num\",\n",
    "    \"CD8+CD45-_Norm_Num\",\n",
    "]\n",
    "\n",
    "wt_p_time_names = fa.time_name_list(\"WT\", wt_p_headers)\n",
    "t8a_p_time_names = fa.time_name_list(\"T8A\", t8a_p_headers)\n",
    "n3a_p_time_names = fa.time_name_list(\"N3A\", n3a_p_headers)\n",
    "\n",
    "wt_p_data, wt_p_data_neg = fa.data_extraction(\n",
    "    \"WT\", \"spleen\", wt_p_headers, wt_p_time_names, timepoints=5\n",
    ")\n",
    "t8a_p_data, t8a_p_data_neg = fa.data_extraction(\n",
    "    \"T8A\", \"spleen\", t8a_p_headers, t8a_p_time_names, timepoints=5\n",
    ")\n",
    "n3a_p_data, n3a_p_data_neg = fa.data_extraction(\n",
    "    \"N3A\", \"spleen\", n3a_p_headers, n3a_p_time_names, timepoints=5\n",
    ")"
   ]
  },
  {
   "cell_type": "code",
   "execution_count": 7,
   "id": "089c1521",
   "metadata": {
    "pycharm": {
     "name": "#%%\n"
    }
   },
   "outputs": [
    {
     "name": "stderr",
     "output_type": "stream",
     "text": [
      "/Users/danny/anaconda3/envs/P37T2/lib/python3.7/site-packages/matplotlib_venn/_venn3.py:61: UserWarning: Circle C has zero area\n",
      "  warnings.warn(\"Circle C has zero area\")\n",
      "/Users/danny/anaconda3/envs/P37T2/lib/python3.7/site-packages/matplotlib_venn/_venn3.py:117: UserWarning: Bad circle positioning\n",
      "  warnings.warn(\"Bad circle positioning\")\n",
      "/Users/danny/anaconda3/envs/P37T2/lib/python3.7/site-packages/matplotlib_venn/_venn3.py:57: UserWarning: Circle B has zero area\n",
      "  warnings.warn(\"Circle B has zero area\")\n"
     ]
    }
   ],
   "source": [
    "fa.venn_plots(\n",
    "    5,\n",
    "    wt_p_data,\n",
    "    timeNames,\n",
    "    tetramerNames,\n",
    "    title=\"Spleen Circulating - WT primary\",\n",
    "    file_name=\"WT-C\",\n",
    ")"
   ]
  },
  {
   "cell_type": "code",
   "execution_count": 8,
   "id": "3c77288c",
   "metadata": {
    "pycharm": {
     "name": "#%%\n"
    }
   },
   "outputs": [
    {
     "name": "stderr",
     "output_type": "stream",
     "text": [
      "/Users/danny/anaconda3/envs/P37T2/lib/python3.7/site-packages/matplotlib_venn/_venn3.py:53: UserWarning: Circle A has zero area\n",
      "  warnings.warn(\"Circle A has zero area\")\n",
      "/Users/danny/anaconda3/envs/P37T2/lib/python3.7/site-packages/matplotlib_venn/_venn3.py:61: UserWarning: Circle C has zero area\n",
      "  warnings.warn(\"Circle C has zero area\")\n",
      "/Users/danny/anaconda3/envs/P37T2/lib/python3.7/site-packages/matplotlib_venn/_venn3.py:117: UserWarning: Bad circle positioning\n",
      "  warnings.warn(\"Bad circle positioning\")\n"
     ]
    }
   ],
   "source": [
    "fa.venn_plots(\n",
    "    5,\n",
    "    t8a_p_data,\n",
    "    timeNames,\n",
    "    tetramerNames,\n",
    "    title=\"Spleen Circulating - T8A primary\",\n",
    "    file_name=\"T8A-C\",\n",
    ")"
   ]
  },
  {
   "cell_type": "code",
   "execution_count": 9,
   "id": "abacc0d8",
   "metadata": {
    "pycharm": {
     "name": "#%%\n"
    }
   },
   "outputs": [
    {
     "name": "stderr",
     "output_type": "stream",
     "text": [
      "/Users/danny/anaconda3/envs/P37T2/lib/python3.7/site-packages/matplotlib_venn/_venn3.py:57: UserWarning: Circle B has zero area\n",
      "  warnings.warn(\"Circle B has zero area\")\n"
     ]
    }
   ],
   "source": [
    "fa.venn_plots(\n",
    "    5,\n",
    "    n3a_p_data,\n",
    "    timeNames,\n",
    "    tetramerNames,\n",
    "    title=\"Spleen Circulating - N3A primary\",\n",
    "    file_name=\"N3A-C\",\n",
    ")"
   ]
  },
  {
   "cell_type": "markdown",
   "id": "5126b82c",
   "metadata": {
    "pycharm": {
     "name": "#%% md\n"
    }
   },
   "source": [
    "# Slopes"
   ]
  },
  {
   "cell_type": "markdown",
   "id": "fe49ad37",
   "metadata": {
    "pycharm": {
     "name": "#%% md\n"
    }
   },
   "source": [
    "## Circulating"
   ]
  },
  {
   "cell_type": "code",
   "execution_count": 10,
   "id": "6d7498a5",
   "metadata": {
    "pycharm": {
     "name": "#%%\n"
    }
   },
   "outputs": [],
   "source": [
    "wt_p_means, wt_p_actual_mice = fa.population_means(wt_p_data)\n",
    "t8a_p_means, t8a_p_actual_mice = fa.population_means(t8a_p_data)\n",
    "n3a_p_means, n3a_p_actual_mice = fa.population_means(n3a_p_data)\n",
    "\n",
    "wt_p_means_neg, wt_p_actual_mice_neg = fa.population_means(wt_p_data_neg)\n",
    "t8a_p_means_neg, t8a_p_actual_mice_neg = fa.population_means(t8a_p_data_neg)\n",
    "n3a_p_means_neg, n3a_p_actual_mice_neg = fa.population_means(n3a_p_data_neg)\n",
    "\n",
    "patch_names = [\n",
    "    \"WT\",\n",
    "    \"T8A\",\n",
    "    \"N3A\",\n",
    "    \"WT+T8A\",\n",
    "    \"WT+N3A\",\n",
    "    \"T8A+N3A\",\n",
    "    \"Triple positive\",\n",
    "    \"Triple negative\",\n",
    "]\n",
    "patch_indices = [0, 1, 3, 2, 4, 5, 6]\n",
    "times = [10, 70, 90]"
   ]
  },
  {
   "cell_type": "code",
   "execution_count": 11,
   "id": "998461eb",
   "metadata": {
    "pycharm": {
     "name": "#%%\n"
    }
   },
   "outputs": [],
   "source": [
    "fa.slope_plots(\n",
    "    \"Spleen circulating - WT primary\",\n",
    "    wt_p_means,\n",
    "    wt_p_means_neg,\n",
    "    times,\n",
    "    patch_names,\n",
    "    patch_indices,\n",
    "    file_name=\"WT-C-S\",\n",
    "    zeroline=True,\n",
    ")"
   ]
  },
  {
   "cell_type": "code",
   "execution_count": 12,
   "id": "d9ea4365",
   "metadata": {
    "pycharm": {
     "name": "#%%\n"
    }
   },
   "outputs": [],
   "source": [
    "fa.slope_plots(\n",
    "    \"Spleen circulating - T8A primary\",\n",
    "    t8a_p_means,\n",
    "    t8a_p_means_neg,\n",
    "    times,\n",
    "    patch_names,\n",
    "    patch_indices,\n",
    "    file_name=\"T8A-C-S\",\n",
    "    zeroline=True,\n",
    ")"
   ]
  },
  {
   "cell_type": "code",
   "execution_count": 13,
   "id": "d0e3f215",
   "metadata": {
    "pycharm": {
     "name": "#%%\n"
    }
   },
   "outputs": [],
   "source": [
    "fa.slope_plots(\n",
    "    \"Spleen circulating - N3A primary\",\n",
    "    n3a_p_means,\n",
    "    n3a_p_means_neg,\n",
    "    times,\n",
    "    patch_names,\n",
    "    patch_indices,\n",
    "    file_name=\"N3A-C-S\",\n",
    "    zeroline=True,\n",
    ")"
   ]
  },
  {
   "cell_type": "markdown",
   "id": "ef069445",
   "metadata": {
    "pycharm": {
     "name": "#%% md\n"
    }
   },
   "source": [
    "## Resident"
   ]
  },
  {
   "cell_type": "code",
   "execution_count": 14,
   "id": "aac7a02f",
   "metadata": {
    "pycharm": {
     "name": "#%%\n"
    }
   },
   "outputs": [
    {
     "name": "stdout",
     "output_type": "stream",
     "text": [
      "['Mouse', 'Cell Count', 'Tissue', 'Condition', 'Sample:', 'Lymphocytes', 'Singlets', 'Live Cells', 'F480 B220 Negative', 'CD8n_Freq', 'CD8n_Norm_Freq', 'CD8n_Num', 'CD8n_N3ATotal_Freq', 'CD8n_N3ATotal_Num', 'CD8n_T8ATotal_Freq', 'CD8n_T8Atotal_Num', 'CD8n_WTTotal_Freq', 'CD8n_WTTotal_Num', 'CD8n_Triplepos_Freq', 'CD8n_Triplepos_Num', 'CD8n_N3AT8ADP_Freq', 'CD8n_N3AT8ADP_Num', 'CD8n_WTN3ADP_Freq', 'CD8n_WTN3ADP_Num', 'CD8n_WTT8ADP_Freq', 'CD8n_WTT8ADP_Num', 'CD8n_WTSP_Freq', 'CD8n_WTSP_Num', 'CD8n_N3ASP_Freq', 'CD8n_N3ASP_Num', 'CD8n_T8ASP_Freq', 'CD8n_T8ASP_Num', 'Triple Neg', 'total frequency tet+ cells']\n",
      "['Mouse', 'Cell Count', 'Tissue', 'Infection', 'Sample:', 'Lymphocytes', 'Singlets', 'Live Cells', 'F480 B220 Negative', 'CD8n_Freq', 'CD8n_Norm_Freq', 'CD8n_Num', 'CD8n_N3A_Total_Freq', 'CD8n_N3A_Total_Num', 'CD8n_T8ATotalFreq', 'CD8p_T8ATotal_Num', 'CD8p_WTTotal_Freq', 'CD8p_WTTotal_Num', 'CD8p_TriplePos_Freq', 'CD8p_TriplePos_Num', 'CD8p_N3AT8ADP_Freq', 'CD8p_N3AT8ADP_Num', 'CD8p_WTN3ADP_Freq', 'CD8p_WTN3ADP_Num', 'CD8p_WTT8ADP_Freq', 'CD8p_WTT8ADP_Num', 'CD8p_WTSP_Freq', 'CD8p_WTSP_Num', 'CD8p_N3ASP_Freq', 'CD8p_N3ASP_Num', 'CD8p_T8ASP_Freq', 'CD8p_T8ASP_Num']\n",
      "['Mouse', 'Tissue', 'Cell Count', 'Infection', 'Sample:', 'Lymphocytes', 'Singlets', 'Live Cells', 'B220F480Neg', 'CD8+', 'CD8+CD45-_Freq', 'CD8+CD45-_Norm_Freq', 'CD8+CD45-_Norm_Num', 'CD8n_N3ATotal_Freq', 'CD8n_N3ATotal_Num', 'CD8n_T8ATotal_Freq', 'CD8n_T8ATotal_Num', 'CD8n_WTTotal_Freq', 'CD8n_WTTotal_Num', 'N3A Neg', 'T8A Neg', 'WT Neg', 'CD8n_TriplePos_Freq', 'CD8n_TriplePos_Num', 'CD8n_N3AT8ADP_Freq', 'CD8n_N3AT8ADP_Num', 'CD8n_N3AWTDP_Freq', 'CD8n_N3AWTDP_Num', 'CD8n_N3ASP_Freq', 'CD8n_N3ASP_Num', 'CD8n_WTT8ADP_Freq', 'CD8n_WTT8ADP_Num', 'CD8n_T8ASP_Freq', 'CD8n_T8ASP_Num', 'CD8n_WTSP_Freq', 'CD8n_WTSP_Num', 'Triple Neg', 'Triple Neg_Num']\n"
     ]
    }
   ],
   "source": [
    "fa.header_clipping(\"WT\", cd45=\"-\", check=True)\n",
    "fa.header_clipping(\"T8A\", cd45=\"-\", check=True)\n",
    "fa.header_clipping(\"N3A\", cd45=\"-\", check=True)"
   ]
  },
  {
   "cell_type": "code",
   "execution_count": 15,
   "id": "adfd485e",
   "metadata": {
    "pycharm": {
     "name": "#%%\n"
    }
   },
   "outputs": [],
   "source": [
    "fa.header_clipping(\"WT\", cd45=\"-\")\n",
    "fa.header_clipping(\"T8A\", cd45=\"-\")\n",
    "fa.header_clipping(\"N3A\", cd45=\"-\")\n",
    "\n",
    "wt_n_headers = [\n",
    "    \"Tissue\",\n",
    "    \"Condition\",\n",
    "    \"CD8n_WTSP_Num\",\n",
    "    \"CD8n_T8ASP_Num\",\n",
    "    \"CD8n_WTT8ADP_Num\",\n",
    "    \"CD8n_N3ASP_Num\",\n",
    "    \"CD8n_WTN3ADP_Num\",\n",
    "    \"CD8n_N3AT8ADP_Num\",\n",
    "    \"CD8n_Triplepos_Num\",\n",
    "    \"CD8n_Num\",\n",
    "]\n",
    "t8a_n_headers = [\n",
    "    \"Tissue\",\n",
    "    \"Infection\",\n",
    "    \"CD8p_WTSP_Num\",\n",
    "    \"CD8p_T8ASP_Num\",\n",
    "    \"CD8p_WTT8ADP_Num\",\n",
    "    \"CD8p_N3ASP_Num\",\n",
    "    \"CD8p_WTN3ADP_Num\",\n",
    "    \"CD8p_N3AT8ADP_Num\",\n",
    "    \"CD8p_TriplePos_Num\",\n",
    "    \"CD8n_Num\",\n",
    "]\n",
    "n3a_n_headers = [\n",
    "    \"Tissue\",\n",
    "    \"Infection\",\n",
    "    \"CD8n_WTSP_Num\",\n",
    "    \"CD8n_T8ASP_Num\",\n",
    "    \"CD8n_WTT8ADP_Num\",\n",
    "    \"CD8n_N3ASP_Num\",\n",
    "    \"CD8n_N3AWTDP_Num\",\n",
    "    \"CD8n_N3AT8ADP_Num\",\n",
    "    \"CD8n_TriplePos_Num\",\n",
    "    \"CD8+CD45-_Norm_Num\",\n",
    "]\n",
    "\n",
    "wt_n_time_names = fa.time_name_list(\"WT\", wt_n_headers, cd45=\"-\")\n",
    "t8a_n_time_names = fa.time_name_list(\"T8A\", t8a_n_headers, cd45=\"-\")\n",
    "n3a_n_time_names = fa.time_name_list(\"N3A\", n3a_n_headers, cd45=\"-\")\n",
    "\n",
    "wt_n_data, wt_n_data_neg = fa.data_extraction(\n",
    "    \"WT\", \"spleen\", wt_n_headers, wt_n_time_names, cd45=\"-\", timepoints=5\n",
    ")\n",
    "t8a_n_data, t8a_n_data_neg = fa.data_extraction(\n",
    "    \"T8A\", \"spleen\", t8a_n_headers, t8a_n_time_names, cd45=\"-\", timepoints=5\n",
    ")\n",
    "n3a_n_data, n3a_n_data_neg = fa.data_extraction(\n",
    "    \"N3A\", \"spleen\", n3a_n_headers, n3a_n_time_names, cd45=\"-\", timepoints=5\n",
    ")\n",
    "\n",
    "wt_n_means, wt_n_actual_mice = fa.population_means(wt_n_data)\n",
    "t8a_n_means, t8a_n_actual_mice = fa.population_means(t8a_n_data)\n",
    "n3a_n_means, n3a_n_actual_mice = fa.population_means(n3a_n_data)\n",
    "\n",
    "wt_n_means_neg, wt_n_actual_mice_neg = fa.population_means(wt_n_data_neg)\n",
    "t8a_n_means_neg, t8a_n_actual_mice_neg = fa.population_means(t8a_n_data_neg)\n",
    "n3a_n_means_neg, n3a_n_actual_mice_neg = fa.population_means(n3a_n_data_neg)"
   ]
  },
  {
   "cell_type": "code",
   "execution_count": 16,
   "id": "320d8899",
   "metadata": {
    "pycharm": {
     "name": "#%%\n"
    }
   },
   "outputs": [],
   "source": [
    "fa.slope_plots(\n",
    "    \"Spleen resident - WT primary\",\n",
    "    wt_n_means,\n",
    "    wt_n_means_neg,\n",
    "    times,\n",
    "    patch_names,\n",
    "    patch_indices,\n",
    "    file_name=\"WT-R-S\",\n",
    "    zeroline=True,\n",
    ")"
   ]
  },
  {
   "cell_type": "code",
   "execution_count": 17,
   "id": "6e7be8d8",
   "metadata": {
    "pycharm": {
     "name": "#%%\n"
    }
   },
   "outputs": [],
   "source": [
    "fa.slope_plots(\n",
    "    \"Spleen resident - T8A primary\",\n",
    "    t8a_n_means,\n",
    "    t8a_n_means_neg,\n",
    "    times,\n",
    "    patch_names,\n",
    "    patch_indices,\n",
    "    file_name=\"T8A-R-S\",\n",
    "    zeroline=True,\n",
    ")"
   ]
  },
  {
   "cell_type": "code",
   "execution_count": 18,
   "id": "9e3abe86",
   "metadata": {
    "pycharm": {
     "name": "#%%\n"
    }
   },
   "outputs": [],
   "source": [
    "fa.slope_plots(\n",
    "    \"Spleen resident - N3A primary\",\n",
    "    n3a_n_means,\n",
    "    n3a_n_means_neg,\n",
    "    times,\n",
    "    patch_names,\n",
    "    patch_indices,\n",
    "    file_name=\"N3A-R-S\",\n",
    "    zeroline=True,\n",
    ")"
   ]
  },
  {
   "cell_type": "code",
   "execution_count": 19,
   "id": "d42becea",
   "metadata": {
    "pycharm": {
     "name": "#%%\n"
    }
   },
   "outputs": [],
   "source": [
    "fa.venn_plots(\n",
    "    5,\n",
    "    wt_n_data,\n",
    "    timeNames,\n",
    "    tetramerNames,\n",
    "    title=\"Spleen resident - WT primary\",\n",
    "    file_name=\"WT-R\",\n",
    ")"
   ]
  },
  {
   "cell_type": "code",
   "execution_count": 20,
   "id": "f0bb6700",
   "metadata": {
    "pycharm": {
     "name": "#%%\n"
    }
   },
   "outputs": [],
   "source": [
    "fa.venn_plots(\n",
    "    5,\n",
    "    t8a_n_data,\n",
    "    timeNames,\n",
    "    tetramerNames,\n",
    "    title=\"Spleen resident - T8A primary\",\n",
    "    file_name=\"T8A-R\",\n",
    ")"
   ]
  },
  {
   "cell_type": "code",
   "execution_count": 21,
   "id": "18a17664",
   "metadata": {
    "pycharm": {
     "name": "#%%\n"
    }
   },
   "outputs": [],
   "source": [
    "fa.venn_plots(\n",
    "    5,\n",
    "    n3a_n_data,\n",
    "    timeNames,\n",
    "    tetramerNames,\n",
    "    title=\"Spleen resident - N3A primary\",\n",
    "    file_name=\"N3A-R\",\n",
    ")"
   ]
  },
  {
   "cell_type": "markdown",
   "id": "755f1afb",
   "metadata": {
    "pycharm": {
     "name": "#%% md\n"
    }
   },
   "source": [
    "# Stats"
   ]
  },
  {
   "cell_type": "markdown",
   "source": [
    "## Challenge timepoint WT"
   ],
   "metadata": {
    "collapsed": false,
    "pycharm": {
     "name": "#%% md\n"
    }
   }
  },
  {
   "cell_type": "code",
   "execution_count": 22,
   "outputs": [],
   "source": [
    "wt_chDF = fa.stats_dataframe_infection(\n",
    "    (wt_p_data, wt_p_data_neg),\n",
    "    [\"Challenge\", \"WT\", \"T8A\", \"WT+T8A\", \"N3A\", \"WT+N3A\", \"T8A+N3A\", \"TP\", \"TN\"],\n",
    "    complete=True,\n",
    ")\n",
    "\n",
    "wt_chDF.to_csv(\"WT.csv\", index=False)"
   ],
   "metadata": {
    "collapsed": false,
    "pycharm": {
     "name": "#%%\n"
    }
   }
  },
  {
   "cell_type": "code",
   "execution_count": 23,
   "outputs": [],
   "source": [
    "wt_chDF_freq = deepcopy(wt_chDF)\n",
    "int_columns = [\"WT\", \"T8A\", \"WT+T8A\", \"N3A\", \"WT+N3A\", \"T8A+N3A\", \"TP\", \"TN\"]\n",
    "\n",
    "wt_chDF_freq[int_columns] = wt_chDF_freq[int_columns].div(\n",
    "    wt_chDF_freq[int_columns].sum(axis=1), axis=0\n",
    ")\n",
    "\n",
    "wt_chDF_freq.to_csv(\"WT-f.csv\", index=False)\n",
    "\n",
    "# wt_chDF_freq"
   ],
   "metadata": {
    "collapsed": false,
    "pycharm": {
     "name": "#%%\n"
    }
   }
  },
  {
   "cell_type": "code",
   "execution_count": 24,
   "outputs": [],
   "source": [
    "grid = sns.PairGrid(\n",
    "    data=wt_chDF[(wt_chDF.Challenge != \"Primary\") & (wt_chDF.Challenge != \"Memory\")],\n",
    "    hue=\"Challenge\",\n",
    "    hue_kws={\"corr_position\": [0, 1, 2]},\n",
    "    height=1.5,\n",
    "    diag_sharey=False,\n",
    ")\n",
    "grid.map_diag(sns.kdeplot, warn_singular=False)\n",
    "grid.map_lower(sns.scatterplot)\n",
    "grid.map_upper(fa.pairs_stats, comparisons=comb(8, 2), corr_total=3)\n",
    "\n",
    "for ax in grid.axes.flatten():\n",
    "    ax.ticklabel_format(style=\"sci\", scilimits=(0, 0), axis=\"both\")\n",
    "# grid.tight_layout()\n",
    "\n",
    "grid.add_legend()\n",
    "# grid.add_legend(fontsize=20, title_fontproperties={\"size\": 25})\n",
    "\n",
    "grid.figure.savefig(\"Challenge-stats.pdf\")\n",
    "plt.close(\"all\")"
   ],
   "metadata": {
    "collapsed": false,
    "pycharm": {
     "name": "#%%\n"
    }
   }
  },
  {
   "cell_type": "code",
   "execution_count": null,
   "outputs": [],
   "source": [
    "grid = sns.PairGrid(\n",
    "    data=wt_chDF_freq[\n",
    "        (wt_chDF_freq.Challenge != \"Primary\") & (wt_chDF_freq.Challenge != \"Memory\")\n",
    "    ],\n",
    "    hue=\"Challenge\",\n",
    "    hue_kws={\"corr_position\": [0, 1, 2]},\n",
    "    height=1.5,\n",
    "    diag_sharey=False,\n",
    ")\n",
    "grid.map_diag(sns.kdeplot, warn_singular=False)\n",
    "grid.map_lower(sns.scatterplot)\n",
    "grid.map_upper(fa.pairs_stats, comparisons=comb(8, 2), corr_total=3)\n",
    "\n",
    "for ax in grid.axes.flatten():\n",
    "    ax.ticklabel_format(style=\"sci\", scilimits=(0, 0), axis=\"both\")\n",
    "# grid.tight_layout()\n",
    "\n",
    "grid.add_legend()\n",
    "# grid.add_legend(fontsize=20, title_fontproperties={\"size\": 25})\n",
    "\n",
    "grid.figure.savefig(\"Challenge-stats-freq.pdf\")\n",
    "plt.close(\"all\")"
   ],
   "metadata": {
    "collapsed": false,
    "pycharm": {
     "name": "#%%\n"
    }
   }
  },
  {
   "cell_type": "code",
   "execution_count": null,
   "outputs": [],
   "source": [
    "grid = sns.PairGrid(\n",
    "    data=wt_chDF[(wt_chDF.Challenge != \"Primary\") & (wt_chDF.Challenge != \"Memory\")],\n",
    "    height=1.5,\n",
    "    diag_sharey=False,\n",
    ")\n",
    "grid.map_diag(sns.kdeplot, warn_singular=False)\n",
    "grid.map_lower(sns.scatterplot)\n",
    "grid.map_upper(fa.pairs_stats, comparisons=comb(8, 2))\n",
    "for ax in grid.axes.flatten():\n",
    "    ax.ticklabel_format(style=\"sci\", scilimits=(0, 0), axis=\"both\")\n",
    "\n",
    "grid.figure.savefig(\"Challenge-stats-combined.pdf\")\n",
    "plt.close(\"all\")"
   ],
   "metadata": {
    "collapsed": false,
    "pycharm": {
     "name": "#%%\n"
    }
   }
  },
  {
   "cell_type": "code",
   "execution_count": null,
   "outputs": [],
   "source": [
    "grid = sns.PairGrid(\n",
    "    data=wt_chDF_freq[\n",
    "        (wt_chDF_freq.Challenge != \"Primary\") & (wt_chDF_freq.Challenge != \"Memory\")\n",
    "    ],\n",
    "    height=1.5,\n",
    "    diag_sharey=False,\n",
    ")\n",
    "grid.map_diag(sns.kdeplot, warn_singular=False)\n",
    "grid.map_lower(sns.scatterplot)\n",
    "grid.map_upper(fa.pairs_stats, comparisons=comb(8, 2))\n",
    "for ax in grid.axes.flatten():\n",
    "    ax.ticklabel_format(style=\"sci\", scilimits=(0, 0), axis=\"both\")\n",
    "\n",
    "grid.figure.savefig(\"Challenge-stats-combined-freq.pdf\")\n",
    "plt.close(\"all\")"
   ],
   "metadata": {
    "collapsed": false,
    "pycharm": {
     "name": "#%%\n"
    }
   }
  },
  {
   "cell_type": "code",
   "execution_count": null,
   "outputs": [],
   "source": [
    "grid = sns.PairGrid(\n",
    "    data=wt_chDF[(wt_chDF.Challenge == \"WT\")], height=1.5, diag_sharey=False\n",
    ")\n",
    "grid.map_diag(sns.kdeplot, warn_singular=False)\n",
    "grid.map_lower(sns.scatterplot)\n",
    "grid.map_upper(fa.pairs_stats, comparisons=comb(7, 2))\n",
    "for ax in grid.axes.flatten():\n",
    "    ax.ticklabel_format(style=\"sci\", scilimits=(0, 0), axis=\"both\")\n",
    "\n",
    "# grid.figure.savefig(\"Challenge-stats-WT.pdf\")\n",
    "plt.close(\"all\")"
   ],
   "metadata": {
    "collapsed": false,
    "pycharm": {
     "name": "#%%\n"
    }
   }
  },
  {
   "cell_type": "code",
   "execution_count": null,
   "outputs": [],
   "source": [
    "grid = sns.PairGrid(\n",
    "    data=wt_chDF_freq[(wt_chDF_freq.Challenge == \"WT\")], height=1.5, diag_sharey=False\n",
    ")\n",
    "grid.map_diag(sns.kdeplot, warn_singular=False)\n",
    "grid.map_lower(sns.scatterplot)\n",
    "grid.map_upper(fa.pairs_stats, comparisons=comb(7, 2))\n",
    "for ax in grid.axes.flatten():\n",
    "    ax.ticklabel_format(style=\"sci\", scilimits=(0, 0), axis=\"both\")\n",
    "\n",
    "# grid.figure.savefig(\"Challenge-stats-WT-freq.pdf\")\n",
    "plt.close(\"all\")"
   ],
   "metadata": {
    "collapsed": false,
    "pycharm": {
     "name": "#%%\n"
    }
   }
  },
  {
   "cell_type": "code",
   "execution_count": null,
   "outputs": [],
   "source": [
    "grid = sns.PairGrid(\n",
    "    data=wt_chDF[(wt_chDF.Challenge == \"N3A\")], height=1.5, diag_sharey=False\n",
    ")\n",
    "grid.map_diag(sns.kdeplot, warn_singular=False)\n",
    "grid.map_lower(sns.scatterplot)\n",
    "grid.map_upper(fa.pairs_stats, comparisons=comb(7, 2))\n",
    "for ax in grid.axes.flatten():\n",
    "    ax.ticklabel_format(style=\"sci\", scilimits=(0, 0), axis=\"both\")\n",
    "\n",
    "# grid.figure.savefig(\"Challenge-stats-N3A.pdf\")\n",
    "plt.close(\"all\")"
   ],
   "metadata": {
    "collapsed": false,
    "pycharm": {
     "name": "#%%\n"
    }
   }
  },
  {
   "cell_type": "code",
   "execution_count": null,
   "outputs": [],
   "source": [
    "grid = sns.PairGrid(\n",
    "    data=wt_chDF_freq[(wt_chDF_freq.Challenge == \"N3A\")], height=1.5, diag_sharey=False\n",
    ")\n",
    "grid.map_diag(sns.kdeplot, warn_singular=False)\n",
    "grid.map_lower(sns.scatterplot)\n",
    "grid.map_upper(fa.pairs_stats, comparisons=comb(7, 2))\n",
    "for ax in grid.axes.flatten():\n",
    "    ax.ticklabel_format(style=\"sci\", scilimits=(0, 0), axis=\"both\")\n",
    "\n",
    "# grid.figure.savefig(\"Challenge-stats-N3A-freq.pdf\")\n",
    "plt.close(\"all\")"
   ],
   "metadata": {
    "collapsed": false,
    "pycharm": {
     "name": "#%%\n"
    }
   }
  },
  {
   "cell_type": "code",
   "execution_count": null,
   "outputs": [],
   "source": [
    "grid = sns.PairGrid(\n",
    "    data=wt_chDF[(wt_chDF.Challenge == \"T8A\")], height=1.5, diag_sharey=False\n",
    ")\n",
    "grid.map_diag(sns.kdeplot, warn_singular=False)\n",
    "grid.map_lower(sns.scatterplot)\n",
    "grid.map_upper(fa.pairs_stats, comparisons=comb(8, 2))\n",
    "for ax in grid.axes.flatten():\n",
    "    ax.ticklabel_format(style=\"sci\", scilimits=(0, 0), axis=\"both\")\n",
    "\n",
    "# grid.figure.savefig(\"Challenge-stats-T8A.pdf\")\n",
    "plt.close(\"all\")"
   ],
   "metadata": {
    "collapsed": false,
    "pycharm": {
     "name": "#%%\n"
    }
   }
  },
  {
   "cell_type": "code",
   "execution_count": null,
   "outputs": [],
   "source": [
    "grid = sns.PairGrid(\n",
    "    data=wt_chDF_freq[(wt_chDF_freq.Challenge == \"T8A\")], height=1.5, diag_sharey=False\n",
    ")\n",
    "grid.map_diag(sns.kdeplot, warn_singular=False)\n",
    "grid.map_lower(sns.scatterplot)\n",
    "grid.map_upper(fa.pairs_stats, comparisons=comb(8, 2))\n",
    "for ax in grid.axes.flatten():\n",
    "    ax.ticklabel_format(style=\"sci\", scilimits=(0, 0), axis=\"both\")\n",
    "\n",
    "# grid.figure.savefig(\"Challenge-stats-T8A-freq.pdf\")\n",
    "plt.close(\"all\")"
   ],
   "metadata": {
    "collapsed": false,
    "pycharm": {
     "name": "#%%\n"
    }
   }
  },
  {
   "cell_type": "code",
   "execution_count": null,
   "outputs": [],
   "source": [
    "wt_chDF[(wt_chDF_freq.Challenge == \"T8A\")]"
   ],
   "metadata": {
    "collapsed": false,
    "pycharm": {
     "name": "#%%\n"
    }
   }
  },
  {
   "cell_type": "markdown",
   "source": [
    "## Challenge timepoint T8A"
   ],
   "metadata": {
    "collapsed": false,
    "pycharm": {
     "name": "#%% md\n"
    }
   }
  },
  {
   "cell_type": "code",
   "execution_count": null,
   "outputs": [],
   "source": [
    "t8a_chDF = fa.stats_dataframe_infection(\n",
    "    (t8a_p_data, t8a_p_data_neg),\n",
    "    [\"Challenge\", \"WT\", \"T8A\", \"WT+T8A\", \"N3A\", \"WT+N3A\", \"T8A+N3A\", \"TP\", \"TN\"],\n",
    "    complete=True,\n",
    ")\n",
    "\n",
    "t8a_chDF_freq = deepcopy(t8a_chDF)\n",
    "int_columns = [\"WT\", \"T8A\", \"WT+T8A\", \"N3A\", \"WT+N3A\", \"T8A+N3A\", \"TP\", \"TN\"]\n",
    "\n",
    "t8a_chDF_freq[int_columns] = t8a_chDF_freq[int_columns].div(\n",
    "    t8a_chDF_freq[int_columns].sum(axis=1), axis=0\n",
    ")\n",
    "\n",
    "t8a_chDF.to_csv(\"T8A.csv\", index=False)\n",
    "t8a_chDF_freq.to_csv(\"T8A-f.csv\", index=False)"
   ],
   "metadata": {
    "collapsed": false,
    "pycharm": {
     "name": "#%%\n"
    }
   }
  },
  {
   "cell_type": "code",
   "execution_count": null,
   "outputs": [],
   "source": [
    "grid = sns.PairGrid(\n",
    "    data=t8a_chDF[(t8a_chDF.Challenge != \"Primary\") & (t8a_chDF.Challenge != \"Memory\")],\n",
    "    hue=\"Challenge\",\n",
    "    hue_kws={\"corr_position\": [0, 1, 2]},\n",
    "    height=1.5,\n",
    "    diag_sharey=False,\n",
    ")\n",
    "grid.map_diag(sns.kdeplot, warn_singular=False)\n",
    "grid.map_lower(sns.scatterplot)\n",
    "grid.map_upper(fa.pairs_stats, comparisons=comb(8, 2), corr_total=3)\n",
    "\n",
    "for ax in grid.axes.flatten():\n",
    "    ax.ticklabel_format(style=\"sci\", scilimits=(0, 0), axis=\"both\")\n",
    "# grid.tight_layout()\n",
    "\n",
    "grid.add_legend()\n",
    "# grid.add_legend(fontsize=20, title_fontproperties={\"size\": 25})\n",
    "\n",
    "grid.figure.savefig(\"Challenge-stats[T8A].pdf\")\n",
    "plt.close(\"all\")"
   ],
   "metadata": {
    "collapsed": false,
    "pycharm": {
     "name": "#%%\n"
    }
   }
  },
  {
   "cell_type": "code",
   "execution_count": null,
   "outputs": [],
   "source": [
    "grid = sns.PairGrid(\n",
    "    data=t8a_chDF_freq[\n",
    "        (t8a_chDF_freq.Challenge != \"Primary\") & (t8a_chDF_freq.Challenge != \"Memory\")\n",
    "    ],\n",
    "    hue=\"Challenge\",\n",
    "    hue_kws={\"corr_position\": [0, 1, 2]},\n",
    "    height=1.5,\n",
    "    diag_sharey=False,\n",
    ")\n",
    "grid.map_diag(sns.kdeplot, warn_singular=False)\n",
    "grid.map_lower(sns.scatterplot)\n",
    "grid.map_upper(fa.pairs_stats, comparisons=comb(8, 2), corr_total=3)\n",
    "\n",
    "for ax in grid.axes.flatten():\n",
    "    ax.ticklabel_format(style=\"sci\", scilimits=(0, 0), axis=\"both\")\n",
    "# grid.tight_layout()\n",
    "\n",
    "grid.add_legend()\n",
    "# grid.add_legend(fontsize=20, title_fontproperties={\"size\": 25})\n",
    "\n",
    "grid.figure.savefig(\"Challenge-stats-freq[T8A].pdf\")\n",
    "plt.close(\"all\")"
   ],
   "metadata": {
    "collapsed": false,
    "pycharm": {
     "name": "#%%\n"
    }
   }
  },
  {
   "cell_type": "code",
   "execution_count": null,
   "outputs": [],
   "source": [
    "grid = sns.PairGrid(\n",
    "    data=t8a_chDF[(t8a_chDF.Challenge != \"Primary\") & (t8a_chDF.Challenge != \"Memory\")],\n",
    "    height=1.5,\n",
    "    diag_sharey=False,\n",
    ")\n",
    "grid.map_diag(sns.kdeplot, warn_singular=False)\n",
    "grid.map_lower(sns.scatterplot)\n",
    "grid.map_upper(fa.pairs_stats, comparisons=comb(8, 2))\n",
    "for ax in grid.axes.flatten():\n",
    "    ax.ticklabel_format(style=\"sci\", scilimits=(0, 0), axis=\"both\")\n",
    "\n",
    "grid.figure.savefig(\"Challenge-stats-combined[T8A].pdf\")\n",
    "plt.close(\"all\")"
   ],
   "metadata": {
    "collapsed": false,
    "pycharm": {
     "name": "#%%\n"
    }
   }
  },
  {
   "cell_type": "code",
   "execution_count": null,
   "outputs": [],
   "source": [
    "grid = sns.PairGrid(\n",
    "    data=t8a_chDF_freq[\n",
    "        (t8a_chDF_freq.Challenge != \"Primary\") & (t8a_chDF_freq.Challenge != \"Memory\")\n",
    "    ],\n",
    "    height=1.5,\n",
    "    diag_sharey=False,\n",
    ")\n",
    "grid.map_diag(sns.kdeplot, warn_singular=False)\n",
    "grid.map_lower(sns.scatterplot)\n",
    "grid.map_upper(fa.pairs_stats, comparisons=comb(8, 2))\n",
    "for ax in grid.axes.flatten():\n",
    "    ax.ticklabel_format(style=\"sci\", scilimits=(0, 0), axis=\"both\")\n",
    "\n",
    "grid.figure.savefig(\"Challenge-stats-combined-freq[T8A].pdf\")\n",
    "plt.close(\"all\")"
   ],
   "metadata": {
    "collapsed": false,
    "pycharm": {
     "name": "#%%\n"
    }
   }
  },
  {
   "cell_type": "markdown",
   "source": [
    "## Challenge timepoint N3A"
   ],
   "metadata": {
    "collapsed": false,
    "pycharm": {
     "name": "#%% md\n"
    }
   }
  },
  {
   "cell_type": "code",
   "execution_count": null,
   "outputs": [],
   "source": [
    "n3a_chDF = fa.stats_dataframe_infection(\n",
    "    (n3a_p_data, n3a_p_data_neg),\n",
    "    [\"Challenge\", \"WT\", \"T8A\", \"WT+T8A\", \"N3A\", \"WT+N3A\", \"T8A+N3A\", \"TP\", \"TN\"],\n",
    "    complete=True,\n",
    ")\n",
    "\n",
    "n3a_chDF_freq = deepcopy(n3a_chDF)\n",
    "int_columns = [\"WT\", \"T8A\", \"WT+T8A\", \"N3A\", \"WT+N3A\", \"T8A+N3A\", \"TP\", \"TN\"]\n",
    "\n",
    "n3a_chDF_freq[int_columns] = n3a_chDF_freq[int_columns].div(\n",
    "    n3a_chDF_freq[int_columns].sum(axis=1), axis=0\n",
    ")\n",
    "\n",
    "n3a_chDF.to_csv(\"N3A.csv\", index=False)\n",
    "n3a_chDF_freq.to_csv(\"N3A-f.csv\", index=False)"
   ],
   "metadata": {
    "collapsed": false,
    "pycharm": {
     "name": "#%%\n"
    }
   }
  },
  {
   "cell_type": "code",
   "execution_count": null,
   "outputs": [],
   "source": [
    "grid = sns.PairGrid(\n",
    "    data=n3a_chDF[(n3a_chDF.Challenge != \"Primary\") & (n3a_chDF.Challenge != \"Memory\")],\n",
    "    hue=\"Challenge\",\n",
    "    hue_kws={\"corr_position\": [0, 1, 2]},\n",
    "    height=1.5,\n",
    "    diag_sharey=False,\n",
    ")\n",
    "grid.map_diag(sns.kdeplot, warn_singular=False)\n",
    "grid.map_lower(sns.scatterplot)\n",
    "grid.map_upper(fa.pairs_stats, comparisons=comb(8, 2), corr_total=3)\n",
    "\n",
    "for ax in grid.axes.flatten():\n",
    "    ax.ticklabel_format(style=\"sci\", scilimits=(0, 0), axis=\"both\")\n",
    "# grid.tight_layout()\n",
    "\n",
    "grid.add_legend()\n",
    "# grid.add_legend(fontsize=20, title_fontproperties={\"size\": 25})\n",
    "\n",
    "grid.figure.savefig(\"Challenge-stats[N3A].pdf\")\n",
    "plt.close(\"all\")"
   ],
   "metadata": {
    "collapsed": false,
    "pycharm": {
     "name": "#%%\n"
    }
   }
  },
  {
   "cell_type": "code",
   "execution_count": null,
   "outputs": [],
   "source": [
    "grid = sns.PairGrid(\n",
    "    data=n3a_chDF_freq[\n",
    "        (n3a_chDF_freq.Challenge != \"Primary\") & (n3a_chDF_freq.Challenge != \"Memory\")\n",
    "    ],\n",
    "    hue=\"Challenge\",\n",
    "    hue_kws={\"corr_position\": [0, 1, 2]},\n",
    "    height=1.5,\n",
    "    diag_sharey=False,\n",
    ")\n",
    "grid.map_diag(sns.kdeplot, warn_singular=False)\n",
    "grid.map_lower(sns.scatterplot)\n",
    "grid.map_upper(fa.pairs_stats, comparisons=comb(8, 2), corr_total=3)\n",
    "\n",
    "for ax in grid.axes.flatten():\n",
    "    ax.ticklabel_format(style=\"sci\", scilimits=(0, 0), axis=\"both\")\n",
    "# grid.tight_layout()\n",
    "\n",
    "grid.add_legend()\n",
    "# grid.add_legend(fontsize=20, title_fontproperties={\"size\": 25})\n",
    "\n",
    "grid.figure.savefig(\"Challenge-stats-freq[N3A].pdf\")\n",
    "plt.close(\"all\")"
   ],
   "metadata": {
    "collapsed": false,
    "pycharm": {
     "name": "#%%\n"
    }
   }
  },
  {
   "cell_type": "code",
   "execution_count": null,
   "outputs": [],
   "source": [
    "grid = sns.PairGrid(\n",
    "    data=n3a_chDF[(n3a_chDF.Challenge != \"Primary\") & (n3a_chDF.Challenge != \"Memory\")],\n",
    "    height=1.5,\n",
    "    diag_sharey=False,\n",
    ")\n",
    "grid.map_diag(sns.kdeplot, warn_singular=False)\n",
    "grid.map_lower(sns.scatterplot)\n",
    "grid.map_upper(fa.pairs_stats, comparisons=comb(8, 2))\n",
    "for ax in grid.axes.flatten():\n",
    "    ax.ticklabel_format(style=\"sci\", scilimits=(0, 0), axis=\"both\")\n",
    "\n",
    "grid.figure.savefig(\"Challenge-stats-combined[N3A].pdf\")\n",
    "plt.close(\"all\")"
   ],
   "metadata": {
    "collapsed": false,
    "pycharm": {
     "name": "#%%\n"
    }
   }
  },
  {
   "cell_type": "code",
   "execution_count": null,
   "outputs": [],
   "source": [
    "grid = sns.PairGrid(\n",
    "    data=n3a_chDF_freq[\n",
    "        (n3a_chDF_freq.Challenge != \"Primary\") & (n3a_chDF_freq.Challenge != \"Memory\")\n",
    "    ],\n",
    "    height=1.5,\n",
    "    diag_sharey=False,\n",
    ")\n",
    "grid.map_diag(sns.kdeplot, warn_singular=False)\n",
    "grid.map_lower(sns.scatterplot)\n",
    "grid.map_upper(fa.pairs_stats, comparisons=comb(8, 2))\n",
    "for ax in grid.axes.flatten():\n",
    "    ax.ticklabel_format(style=\"sci\", scilimits=(0, 0), axis=\"both\")\n",
    "\n",
    "grid.figure.savefig(\"Challenge-stats-combined-freq[N3A].pdf\")\n",
    "plt.close(\"all\")"
   ],
   "metadata": {
    "collapsed": false,
    "pycharm": {
     "name": "#%%\n"
    }
   }
  },
  {
   "cell_type": "markdown",
   "source": [
    "## Challenge timepoint T8A"
   ],
   "metadata": {
    "collapsed": false,
    "pycharm": {
     "name": "#%% md\n"
    }
   }
  },
  {
   "cell_type": "code",
   "execution_count": null,
   "outputs": [],
   "source": [
    "t8a_chDF = fa.stats_dataframe_infection(\n",
    "    (t8a_p_data, t8a_p_data_neg),\n",
    "    [\"Challenge\", \"WT\", \"T8A\", \"WT+T8A\", \"N3A\", \"WT+N3A\", \"T8A+N3A\", \"TP\", \"TN\"],\n",
    "    complete=True,\n",
    ")\n",
    "\n",
    "t8a_chDF_freq = deepcopy(t8a_chDF)\n",
    "int_columns = [\"WT\", \"T8A\", \"WT+T8A\", \"N3A\", \"WT+N3A\", \"T8A+N3A\", \"TP\", \"TN\"]\n",
    "\n",
    "t8a_chDF_freq[int_columns] = t8a_chDF_freq[int_columns].div(\n",
    "    t8a_chDF_freq[int_columns].sum(axis=1), axis=0\n",
    ")\n",
    "\n",
    "t8a_chDF.to_csv(\"T8A.csv\", index=False)\n",
    "t8a_chDF_freq.to_csv(\"T8A-f.csv\", index=False)"
   ],
   "metadata": {
    "collapsed": false,
    "pycharm": {
     "name": "#%%\n"
    }
   }
  },
  {
   "cell_type": "code",
   "execution_count": null,
   "outputs": [],
   "source": [
    "grid = sns.PairGrid(\n",
    "    data=t8a_chDF[(t8a_chDF.Challenge != \"Primary\") & (t8a_chDF.Challenge != \"Memory\")],\n",
    "    hue=\"Challenge\",\n",
    "    hue_kws={\"corr_position\": [0, 1, 2]},\n",
    "    height=1.5,\n",
    "    diag_sharey=False,\n",
    ")\n",
    "grid.map_diag(sns.kdeplot, warn_singular=False)\n",
    "grid.map_lower(sns.scatterplot)\n",
    "grid.map_upper(fa.pairs_stats, comparisons=comb(8, 2), corr_total=3)\n",
    "\n",
    "for ax in grid.axes.flatten():\n",
    "    ax.ticklabel_format(style=\"sci\", scilimits=(0, 0), axis=\"both\")\n",
    "# grid.tight_layout()\n",
    "\n",
    "grid.add_legend()\n",
    "# grid.add_legend(fontsize=20, title_fontproperties={\"size\": 25})\n",
    "\n",
    "grid.figure.savefig(\"Challenge-stats[T8A].pdf\")\n",
    "plt.close(\"all\")"
   ],
   "metadata": {
    "collapsed": false,
    "pycharm": {
     "name": "#%%\n"
    }
   }
  },
  {
   "cell_type": "code",
   "execution_count": null,
   "outputs": [],
   "source": [
    "grid = sns.PairGrid(\n",
    "    data=t8a_chDF_freq[\n",
    "        (t8a_chDF_freq.Challenge != \"Primary\") & (t8a_chDF_freq.Challenge != \"Memory\")\n",
    "    ],\n",
    "    hue=\"Challenge\",\n",
    "    hue_kws={\"corr_position\": [0, 1, 2]},\n",
    "    height=1.5,\n",
    "    diag_sharey=False,\n",
    ")\n",
    "grid.map_diag(sns.kdeplot, warn_singular=False)\n",
    "grid.map_lower(sns.scatterplot)\n",
    "grid.map_upper(fa.pairs_stats, comparisons=comb(8, 2), corr_total=3)\n",
    "\n",
    "for ax in grid.axes.flatten():\n",
    "    ax.ticklabel_format(style=\"sci\", scilimits=(0, 0), axis=\"both\")\n",
    "# grid.tight_layout()\n",
    "\n",
    "grid.add_legend()\n",
    "# grid.add_legend(fontsize=20, title_fontproperties={\"size\": 25})\n",
    "\n",
    "grid.figure.savefig(\"Challenge-stats-freq[T8A].pdf\")\n",
    "plt.close(\"all\")"
   ],
   "metadata": {
    "collapsed": false,
    "pycharm": {
     "name": "#%%\n"
    }
   }
  },
  {
   "cell_type": "code",
   "execution_count": null,
   "outputs": [],
   "source": [
    "grid = sns.PairGrid(\n",
    "    data=t8a_chDF[(t8a_chDF.Challenge != \"Primary\") & (t8a_chDF.Challenge != \"Memory\")],\n",
    "    height=1.5,\n",
    "    diag_sharey=False,\n",
    ")\n",
    "grid.map_diag(sns.kdeplot, warn_singular=False)\n",
    "grid.map_lower(sns.scatterplot)\n",
    "grid.map_upper(fa.pairs_stats, comparisons=comb(8, 2))\n",
    "for ax in grid.axes.flatten():\n",
    "    ax.ticklabel_format(style=\"sci\", scilimits=(0, 0), axis=\"both\")\n",
    "\n",
    "grid.figure.savefig(\"Challenge-stats-combined[T8A].pdf\")\n",
    "plt.close(\"all\")"
   ],
   "metadata": {
    "collapsed": false,
    "pycharm": {
     "name": "#%%\n"
    }
   }
  },
  {
   "cell_type": "code",
   "execution_count": null,
   "outputs": [],
   "source": [
    "grid = sns.PairGrid(\n",
    "    data=t8a_chDF_freq[\n",
    "        (t8a_chDF_freq.Challenge != \"Primary\") & (t8a_chDF_freq.Challenge != \"Memory\")\n",
    "    ],\n",
    "    height=1.5,\n",
    "    diag_sharey=False,\n",
    ")\n",
    "grid.map_diag(sns.kdeplot, warn_singular=False)\n",
    "grid.map_lower(sns.scatterplot)\n",
    "grid.map_upper(fa.pairs_stats, comparisons=comb(8, 2))\n",
    "for ax in grid.axes.flatten():\n",
    "    ax.ticklabel_format(style=\"sci\", scilimits=(0, 0), axis=\"both\")\n",
    "\n",
    "grid.figure.savefig(\"Challenge-stats-combined-freq[T8A].pdf\")\n",
    "plt.close(\"all\")"
   ],
   "metadata": {
    "collapsed": false,
    "pycharm": {
     "name": "#%%\n"
    }
   }
  },
  {
   "cell_type": "markdown",
   "source": [
    "## Challenge timepoint N3A"
   ],
   "metadata": {
    "collapsed": false,
    "pycharm": {
     "name": "#%% md\n"
    }
   }
  },
  {
   "cell_type": "code",
   "execution_count": null,
   "outputs": [],
   "source": [
    "n3a_chDF = fa.stats_dataframe_infection(\n",
    "    (n3a_p_data, n3a_p_data_neg),\n",
    "    [\"Challenge\", \"WT\", \"T8A\", \"WT+T8A\", \"N3A\", \"WT+N3A\", \"T8A+N3A\", \"TP\", \"TN\"],\n",
    "    complete=True,\n",
    ")\n",
    "\n",
    "n3a_chDF_freq = deepcopy(n3a_chDF)\n",
    "int_columns = [\"WT\", \"T8A\", \"WT+T8A\", \"N3A\", \"WT+N3A\", \"T8A+N3A\", \"TP\", \"TN\"]\n",
    "\n",
    "n3a_chDF_freq[int_columns] = n3a_chDF_freq[int_columns].div(\n",
    "    n3a_chDF_freq[int_columns].sum(axis=1), axis=0\n",
    ")\n",
    "\n",
    "n3a_chDF.to_csv(\"N3A.csv\", index=False)\n",
    "n3a_chDF_freq.to_csv(\"N3A-f.csv\", index=False)"
   ],
   "metadata": {
    "collapsed": false,
    "pycharm": {
     "name": "#%%\n"
    }
   }
  },
  {
   "cell_type": "code",
   "execution_count": null,
   "outputs": [],
   "source": [
    "grid = sns.PairGrid(\n",
    "    data=n3a_chDF[(n3a_chDF.Challenge != \"Primary\") & (n3a_chDF.Challenge != \"Memory\")],\n",
    "    hue=\"Challenge\",\n",
    "    hue_kws={\"corr_position\": [0, 1, 2]},\n",
    "    height=1.5,\n",
    "    diag_sharey=False,\n",
    ")\n",
    "grid.map_diag(sns.kdeplot, warn_singular=False)\n",
    "grid.map_lower(sns.scatterplot)\n",
    "grid.map_upper(fa.pairs_stats, comparisons=comb(8, 2), corr_total=3)\n",
    "\n",
    "for ax in grid.axes.flatten():\n",
    "    ax.ticklabel_format(style=\"sci\", scilimits=(0, 0), axis=\"both\")\n",
    "# grid.tight_layout()\n",
    "\n",
    "grid.add_legend()\n",
    "# grid.add_legend(fontsize=20, title_fontproperties={\"size\": 25})\n",
    "\n",
    "grid.figure.savefig(\"Challenge-stats[N3A].pdf\")\n",
    "plt.close(\"all\")"
   ],
   "metadata": {
    "collapsed": false,
    "pycharm": {
     "name": "#%%\n"
    }
   }
  },
  {
   "cell_type": "code",
   "execution_count": null,
   "outputs": [],
   "source": [
    "grid = sns.PairGrid(\n",
    "    data=n3a_chDF_freq[\n",
    "        (n3a_chDF_freq.Challenge != \"Primary\") & (n3a_chDF_freq.Challenge != \"Memory\")\n",
    "    ],\n",
    "    hue=\"Challenge\",\n",
    "    hue_kws={\"corr_position\": [0, 1, 2]},\n",
    "    height=1.5,\n",
    "    diag_sharey=False,\n",
    ")\n",
    "grid.map_diag(sns.kdeplot, warn_singular=False)\n",
    "grid.map_lower(sns.scatterplot)\n",
    "grid.map_upper(fa.pairs_stats, comparisons=comb(8, 2), corr_total=3)\n",
    "\n",
    "for ax in grid.axes.flatten():\n",
    "    ax.ticklabel_format(style=\"sci\", scilimits=(0, 0), axis=\"both\")\n",
    "# grid.tight_layout()\n",
    "\n",
    "grid.add_legend()\n",
    "# grid.add_legend(fontsize=20, title_fontproperties={\"size\": 25})\n",
    "\n",
    "grid.figure.savefig(\"Challenge-stats-freq[N3A].pdf\")\n",
    "plt.close(\"all\")"
   ],
   "metadata": {
    "collapsed": false,
    "pycharm": {
     "name": "#%%\n"
    }
   }
  },
  {
   "cell_type": "code",
   "execution_count": null,
   "outputs": [],
   "source": [
    "grid = sns.PairGrid(\n",
    "    data=n3a_chDF[(n3a_chDF.Challenge != \"Primary\") & (n3a_chDF.Challenge != \"Memory\")],\n",
    "    height=1.5,\n",
    "    diag_sharey=False,\n",
    ")\n",
    "grid.map_diag(sns.kdeplot, warn_singular=False)\n",
    "grid.map_lower(sns.scatterplot)\n",
    "grid.map_upper(fa.pairs_stats, comparisons=comb(8, 2))\n",
    "for ax in grid.axes.flatten():\n",
    "    ax.ticklabel_format(style=\"sci\", scilimits=(0, 0), axis=\"both\")\n",
    "\n",
    "grid.figure.savefig(\"Challenge-stats-combined[N3A].pdf\")\n",
    "plt.close(\"all\")"
   ],
   "metadata": {
    "collapsed": false,
    "pycharm": {
     "name": "#%%\n"
    }
   }
  },
  {
   "cell_type": "code",
   "execution_count": null,
   "outputs": [],
   "source": [
    "grid = sns.PairGrid(\n",
    "    data=n3a_chDF_freq[\n",
    "        (n3a_chDF_freq.Challenge != \"Primary\") & (n3a_chDF_freq.Challenge != \"Memory\")\n",
    "    ],\n",
    "    height=1.5,\n",
    "    diag_sharey=False,\n",
    ")\n",
    "grid.map_diag(sns.kdeplot, warn_singular=False)\n",
    "grid.map_lower(sns.scatterplot)\n",
    "grid.map_upper(fa.pairs_stats, comparisons=comb(8, 2))\n",
    "for ax in grid.axes.flatten():\n",
    "    ax.ticklabel_format(style=\"sci\", scilimits=(0, 0), axis=\"both\")\n",
    "\n",
    "grid.figure.savefig(\"Challenge-stats-combined-freq[N3A].pdf\")\n",
    "plt.close(\"all\")"
   ],
   "metadata": {
    "collapsed": false,
    "pycharm": {
     "name": "#%%\n"
    }
   }
  },
  {
   "cell_type": "markdown",
   "source": [
    "## Naive absolute numbers"
   ],
   "metadata": {
    "collapsed": false,
    "pycharm": {
     "name": "#%% md\n"
    }
   }
  },
  {
   "cell_type": "code",
   "execution_count": null,
   "outputs": [],
   "source": [
    "t8a_chDF = fa.stats_dataframe_infection(\n",
    "    (t8a_p_data, t8a_p_data_neg),\n",
    "    [\"Challenge\", \"WT\", \"T8A\", \"WT+T8A\", \"N3A\", \"WT+N3A\", \"T8A+N3A\", \"TP\", \"TN\"],\n",
    "    complete=True,\n",
    ")\n",
    "\n",
    "t8a_chDF_freq = deepcopy(t8a_chDF)\n",
    "int_columns = [\"WT\", \"T8A\", \"WT+T8A\", \"N3A\", \"WT+N3A\", \"T8A+N3A\", \"TP\", \"TN\"]\n",
    "\n",
    "t8a_chDF_freq[int_columns] = t8a_chDF_freq[int_columns].div(\n",
    "    t8a_chDF_freq[int_columns].sum(axis=1), axis=0\n",
    ")\n",
    "\n",
    "t8a_chDF.to_csv(\"T8A.csv\", index=False)\n",
    "t8a_chDF_freq.to_csv(\"T8A-f.csv\", index=False)"
   ],
   "metadata": {
    "collapsed": false,
    "pycharm": {
     "name": "#%%\n"
    }
   }
  },
  {
   "cell_type": "code",
   "execution_count": null,
   "outputs": [],
   "source": [
    "grid = sns.PairGrid(\n",
    "    data=t8a_chDF[(t8a_chDF.Challenge != \"Primary\") & (t8a_chDF.Challenge != \"Memory\")],\n",
    "    hue=\"Challenge\",\n",
    "    hue_kws={\"corr_position\": [0, 1, 2]},\n",
    "    height=1.5,\n",
    "    diag_sharey=False,\n",
    ")\n",
    "grid.map_diag(sns.kdeplot, warn_singular=False)\n",
    "grid.map_lower(sns.scatterplot)\n",
    "grid.map_upper(fa.pairs_stats, comparisons=comb(8, 2), corr_total=3)\n",
    "\n",
    "for ax in grid.axes.flatten():\n",
    "    ax.ticklabel_format(style=\"sci\", scilimits=(0, 0), axis=\"both\")\n",
    "# grid.tight_layout()\n",
    "\n",
    "grid.add_legend()\n",
    "# grid.add_legend(fontsize=20, title_fontproperties={\"size\": 25})\n",
    "\n",
    "grid.figure.savefig(\"Challenge-stats[T8A].pdf\")\n",
    "plt.close(\"all\")"
   ],
   "metadata": {
    "collapsed": false,
    "pycharm": {
     "name": "#%%\n"
    }
   }
  },
  {
   "cell_type": "code",
   "execution_count": null,
   "outputs": [],
   "source": [
    "grid = sns.PairGrid(\n",
    "    data=t8a_chDF_freq[\n",
    "        (t8a_chDF_freq.Challenge != \"Primary\") & (t8a_chDF_freq.Challenge != \"Memory\")\n",
    "    ],\n",
    "    hue=\"Challenge\",\n",
    "    hue_kws={\"corr_position\": [0, 1, 2]},\n",
    "    height=1.5,\n",
    "    diag_sharey=False,\n",
    ")\n",
    "grid.map_diag(sns.kdeplot, warn_singular=False)\n",
    "grid.map_lower(sns.scatterplot)\n",
    "grid.map_upper(fa.pairs_stats, comparisons=comb(8, 2), corr_total=3)\n",
    "\n",
    "for ax in grid.axes.flatten():\n",
    "    ax.ticklabel_format(style=\"sci\", scilimits=(0, 0), axis=\"both\")\n",
    "# grid.tight_layout()\n",
    "\n",
    "grid.add_legend()\n",
    "# grid.add_legend(fontsize=20, title_fontproperties={\"size\": 25})\n",
    "\n",
    "grid.figure.savefig(\"Challenge-stats-freq[T8A].pdf\")\n",
    "plt.close(\"all\")"
   ],
   "metadata": {
    "collapsed": false,
    "pycharm": {
     "name": "#%%\n"
    }
   }
  },
  {
   "cell_type": "code",
   "execution_count": null,
   "outputs": [],
   "source": [
    "grid = sns.PairGrid(\n",
    "    data=t8a_chDF[(t8a_chDF.Challenge != \"Primary\") & (t8a_chDF.Challenge != \"Memory\")],\n",
    "    height=1.5,\n",
    "    diag_sharey=False,\n",
    ")\n",
    "grid.map_diag(sns.kdeplot, warn_singular=False)\n",
    "grid.map_lower(sns.scatterplot)\n",
    "grid.map_upper(fa.pairs_stats, comparisons=comb(8, 2))\n",
    "for ax in grid.axes.flatten():\n",
    "    ax.ticklabel_format(style=\"sci\", scilimits=(0, 0), axis=\"both\")\n",
    "\n",
    "grid.figure.savefig(\"Challenge-stats-combined[T8A].pdf\")\n",
    "plt.close(\"all\")"
   ],
   "metadata": {
    "collapsed": false,
    "pycharm": {
     "name": "#%%\n"
    }
   }
  },
  {
   "cell_type": "code",
   "execution_count": null,
   "outputs": [],
   "source": [
    "grid = sns.PairGrid(\n",
    "    data=t8a_chDF_freq[\n",
    "        (t8a_chDF_freq.Challenge != \"Primary\") & (t8a_chDF_freq.Challenge != \"Memory\")\n",
    "    ],\n",
    "    height=1.5,\n",
    "    diag_sharey=False,\n",
    ")\n",
    "grid.map_diag(sns.kdeplot, warn_singular=False)\n",
    "grid.map_lower(sns.scatterplot)\n",
    "grid.map_upper(fa.pairs_stats, comparisons=comb(8, 2))\n",
    "for ax in grid.axes.flatten():\n",
    "    ax.ticklabel_format(style=\"sci\", scilimits=(0, 0), axis=\"both\")\n",
    "\n",
    "grid.figure.savefig(\"Challenge-stats-combined-freq[T8A].pdf\")\n",
    "plt.close(\"all\")"
   ],
   "metadata": {
    "collapsed": false,
    "pycharm": {
     "name": "#%%\n"
    }
   }
  },
  {
   "cell_type": "markdown",
   "source": [
    "## Challenge timepoint N3A"
   ],
   "metadata": {
    "collapsed": false,
    "pycharm": {
     "name": "#%% md\n"
    }
   }
  },
  {
   "cell_type": "code",
   "execution_count": null,
   "outputs": [],
   "source": [
    "n3a_chDF = fa.stats_dataframe_infection(\n",
    "    (n3a_p_data, n3a_p_data_neg),\n",
    "    [\"Challenge\", \"WT\", \"T8A\", \"WT+T8A\", \"N3A\", \"WT+N3A\", \"T8A+N3A\", \"TP\", \"TN\"],\n",
    "    complete=True,\n",
    ")\n",
    "\n",
    "n3a_chDF_freq = deepcopy(n3a_chDF)\n",
    "int_columns = [\"WT\", \"T8A\", \"WT+T8A\", \"N3A\", \"WT+N3A\", \"T8A+N3A\", \"TP\", \"TN\"]\n",
    "\n",
    "n3a_chDF_freq[int_columns] = n3a_chDF_freq[int_columns].div(\n",
    "    n3a_chDF_freq[int_columns].sum(axis=1), axis=0\n",
    ")\n",
    "\n",
    "n3a_chDF.to_csv(\"N3A.csv\", index=False)\n",
    "n3a_chDF_freq.to_csv(\"N3A-f.csv\", index=False)"
   ],
   "metadata": {
    "collapsed": false,
    "pycharm": {
     "name": "#%%\n"
    }
   }
  },
  {
   "cell_type": "code",
   "execution_count": null,
   "outputs": [],
   "source": [
    "grid = sns.PairGrid(\n",
    "    data=n3a_chDF[(n3a_chDF.Challenge != \"Primary\") & (n3a_chDF.Challenge != \"Memory\")],\n",
    "    hue=\"Challenge\",\n",
    "    hue_kws={\"corr_position\": [0, 1, 2]},\n",
    "    height=1.5,\n",
    "    diag_sharey=False,\n",
    ")\n",
    "grid.map_diag(sns.kdeplot, warn_singular=False)\n",
    "grid.map_lower(sns.scatterplot)\n",
    "grid.map_upper(fa.pairs_stats, comparisons=comb(8, 2), corr_total=3)\n",
    "\n",
    "for ax in grid.axes.flatten():\n",
    "    ax.ticklabel_format(style=\"sci\", scilimits=(0, 0), axis=\"both\")\n",
    "# grid.tight_layout()\n",
    "\n",
    "grid.add_legend()\n",
    "# grid.add_legend(fontsize=20, title_fontproperties={\"size\": 25})\n",
    "\n",
    "grid.figure.savefig(\"Challenge-stats[N3A].pdf\")\n",
    "plt.close(\"all\")"
   ],
   "metadata": {
    "collapsed": false,
    "pycharm": {
     "name": "#%%\n"
    }
   }
  },
  {
   "cell_type": "code",
   "execution_count": null,
   "outputs": [],
   "source": [
    "grid = sns.PairGrid(\n",
    "    data=n3a_chDF_freq[\n",
    "        (n3a_chDF_freq.Challenge != \"Primary\") & (n3a_chDF_freq.Challenge != \"Memory\")\n",
    "    ],\n",
    "    hue=\"Challenge\",\n",
    "    hue_kws={\"corr_position\": [0, 1, 2]},\n",
    "    height=1.5,\n",
    "    diag_sharey=False,\n",
    ")\n",
    "grid.map_diag(sns.kdeplot, warn_singular=False)\n",
    "grid.map_lower(sns.scatterplot)\n",
    "grid.map_upper(fa.pairs_stats, comparisons=comb(8, 2), corr_total=3)\n",
    "\n",
    "for ax in grid.axes.flatten():\n",
    "    ax.ticklabel_format(style=\"sci\", scilimits=(0, 0), axis=\"both\")\n",
    "# grid.tight_layout()\n",
    "\n",
    "grid.add_legend()\n",
    "# grid.add_legend(fontsize=20, title_fontproperties={\"size\": 25})\n",
    "\n",
    "grid.figure.savefig(\"Challenge-stats-freq[N3A].pdf\")\n",
    "plt.close(\"all\")"
   ],
   "metadata": {
    "collapsed": false,
    "pycharm": {
     "name": "#%%\n"
    }
   }
  },
  {
   "cell_type": "code",
   "execution_count": null,
   "outputs": [],
   "source": [
    "grid = sns.PairGrid(\n",
    "    data=n3a_chDF[(n3a_chDF.Challenge != \"Primary\") & (n3a_chDF.Challenge != \"Memory\")],\n",
    "    height=1.5,\n",
    "    diag_sharey=False,\n",
    ")\n",
    "grid.map_diag(sns.kdeplot, warn_singular=False)\n",
    "grid.map_lower(sns.scatterplot)\n",
    "grid.map_upper(fa.pairs_stats, comparisons=comb(8, 2))\n",
    "for ax in grid.axes.flatten():\n",
    "    ax.ticklabel_format(style=\"sci\", scilimits=(0, 0), axis=\"both\")\n",
    "\n",
    "grid.figure.savefig(\"Challenge-stats-combined[N3A].pdf\")\n",
    "plt.close(\"all\")"
   ],
   "metadata": {
    "collapsed": false,
    "pycharm": {
     "name": "#%%\n"
    }
   }
  },
  {
   "cell_type": "code",
   "execution_count": null,
   "outputs": [],
   "source": [
    "grid = sns.PairGrid(\n",
    "    data=n3a_chDF_freq[\n",
    "        (n3a_chDF_freq.Challenge != \"Primary\") & (n3a_chDF_freq.Challenge != \"Memory\")\n",
    "    ],\n",
    "    height=1.5,\n",
    "    diag_sharey=False,\n",
    ")\n",
    "grid.map_diag(sns.kdeplot, warn_singular=False)\n",
    "grid.map_lower(sns.scatterplot)\n",
    "grid.map_upper(fa.pairs_stats, comparisons=comb(8, 2))\n",
    "for ax in grid.axes.flatten():\n",
    "    ax.ticklabel_format(style=\"sci\", scilimits=(0, 0), axis=\"both\")\n",
    "\n",
    "grid.figure.savefig(\"Challenge-stats-combined-freq[N3A].pdf\")\n",
    "plt.close(\"all\")"
   ],
   "metadata": {
    "collapsed": false,
    "pycharm": {
     "name": "#%%\n"
    }
   }
  },
  {
   "cell_type": "markdown",
   "source": [
    "## Naive absolute numbers"
   ],
   "metadata": {
    "collapsed": false,
    "pycharm": {
     "name": "#%% md\n"
    }
   }
  },
  {
   "cell_type": "code",
   "execution_count": null,
   "outputs": [],
   "source": [
    "fa.header_clipping(\"Naive\", check=True)"
   ],
   "metadata": {
    "collapsed": false,
    "pycharm": {
     "name": "#%%\n"
    }
   }
  },
  {
   "cell_type": "code",
   "execution_count": null,
   "outputs": [],
   "source": [
    "fa.header_clipping(\"Naive\")\n",
    "\n",
    "naive_headers = [\n",
    "    \"Tissue\",\n",
    "    \"Stain for Column Selection\",\n",
    "    \"CD8_WTSP_Num\",\n",
    "    \"CD8_T8ASP_Num\",\n",
    "    \"CD8_WTT8ADP_Num\",\n",
    "    \"CD8_N3ASP_Num\",\n",
    "    \"CD8_WTN3ADP_Num\",\n",
    "    \"CD8_N3AT8ADP_Num\",\n",
    "    \"CD8_TriplePos_Num\",\n",
    "    \"CD8_Num\",\n",
    "]\n",
    "\n",
    "naive_column_names = fa.time_name_list(\"Naive\", naive_headers)\n",
    "\n",
    "naive_data, naive_data_neg = fa.data_extraction(\n",
    "    \"Naive\", \"Spleen + Lymphnodes\", naive_headers, naive_column_names\n",
    ")\n",
    "\n",
    "naive_means, naive_actual_mice = fa.population_means(naive_data)\n",
    "\n",
    "naive_means_neg, naive_actual_mice_neg = fa.population_means(naive_data_neg)"
   ],
   "metadata": {
    "collapsed": false,
    "pycharm": {
     "name": "#%%\n"
    }
   }
  },
  {
   "cell_type": "code",
   "execution_count": null,
   "outputs": [],
   "source": [
    "fa.venn_plots(\n",
    "    3,\n",
    "    naive_data,\n",
    "    naiveColumns,\n",
    "    tetramerNames,\n",
    "    title=\"Naive data\",\n",
    "    file_name=\"Naive-Venn\",\n",
    "    # ignore=[0, 4],\n",
    ")"
   ],
   "metadata": {
    "collapsed": false,
    "pycharm": {
     "name": "#%%\n"
    }
   }
  },
  {
   "cell_type": "code",
   "execution_count": null,
   "outputs": [],
   "source": [
    "fa.header_clipping(\"Naive\", filename=\"WT\", check=True)\n",
    "fa.header_clipping(\"Naive\", filename=\"T8A\", check=True)\n",
    "fa.header_clipping(\"Naive\", filename=\"N3A\", check=True)"
   ],
   "metadata": {
    "collapsed": false,
    "pycharm": {
     "name": "#%%\n"
    }
   }
  },
  {
   "cell_type": "code",
   "execution_count": null,
   "outputs": [],
   "source": [
    "fa.header_clipping(\"Naive\", filename=\"WT\")\n",
    "fa.header_clipping(\"Naive\", filename=\"T8A\")\n",
    "fa.header_clipping(\"Naive\", filename=\"N3A\")\n",
    "\n",
    "naive_wt_headers = [\n",
    "    \"Tissue\",\n",
    "    \"Stain for Column Selection\",\n",
    "    \"CD8_WT_N3AT8Aneg_Num\",\n",
    "    \"CD8_WT_T8ASP_Num\",\n",
    "    \"CD8_WT_N3ASP_Num\",\n",
    "    \"CD8_WT_N3AT8ADP_Num\",\n",
    "    \"Column Selected WT Positive_Num\",\n",
    "]\n",
    "\n",
    "naive_t8a_headers = [\n",
    "    \"Tissue\",\n",
    "    \"Stain for Column Selection\",\n",
    "    \"CD8_T8A_N3AWTneg_Num\",\n",
    "    \"CD8_T8A_WTSP_Num\",\n",
    "    \"CD8_T8A_N3ASP_Num\",\n",
    "    \"CD8_T8A_N3AWTDP_Num\",\n",
    "    \"Column Selected T8A Positive_Num\",\n",
    "]\n",
    "\n",
    "naive_n3a_headers = [\n",
    "    \"Tissue\",\n",
    "    \"Stain for Column Selection\",\n",
    "    \"CD8_N3A_WTT8Aneg_Num\",\n",
    "    \"CD8_N3A_WTSP_Num\",\n",
    "    \"CD8_N3A_T8ASP_Num\",\n",
    "    \"CD8_N3A_T8AWTDP_Num\",\n",
    "    \"Column Selected N3A Positive_Num\",\n",
    "]\n",
    "\n",
    "naive_wt_column_names = fa.time_name_list(\"Naive\", naive_wt_headers, filename=\"WT\")\n",
    "naive_t8a_column_names = fa.time_name_list(\"Naive\", naive_t8a_headers, filename=\"T8A\")\n",
    "naive_n3a_column_names = fa.time_name_list(\"Naive\", naive_n3a_headers, filename=\"N3A\")\n",
    "\n",
    "naive_wt_data, _ = fa.data_extraction(\n",
    "    \"Naive\",\n",
    "    \"Spleen + Lymphnodes\",\n",
    "    naive_wt_headers,\n",
    "    naive_wt_column_names,\n",
    "    data_type=\"naive\",\n",
    "    column=\"WT\",\n",
    "    filename=\"WT\",\n",
    ")\n",
    "\n",
    "naive_t8a_data, _ = fa.data_extraction(\n",
    "    \"Naive\",\n",
    "    \"Spleen + Lymphnodes\",\n",
    "    naive_t8a_headers,\n",
    "    naive_t8a_column_names,\n",
    "    data_type=\"naive\",\n",
    "    column=\"T8A\",\n",
    "    filename=\"T8A\",\n",
    ")\n",
    "\n",
    "naive_n3a_data, _ = fa.data_extraction(\n",
    "    \"Naive\",\n",
    "    \"Spleen + Lymphnodes\",\n",
    "    naive_n3a_headers,\n",
    "    naive_n3a_column_names,\n",
    "    data_type=\"naive\",\n",
    "    column=\"N3A\",\n",
    "    filename=\"N3A\",\n",
    ")"
   ],
   "metadata": {
    "collapsed": false,
    "pycharm": {
     "name": "#%%\n"
    }
   }
  },
  {
   "cell_type": "code",
   "execution_count": null,
   "outputs": [],
   "source": [
    "combined_naive_data = fa.combine_naive_data(\n",
    "    [naive_wt_data, naive_t8a_data, naive_n3a_data]\n",
    ")"
   ],
   "metadata": {
    "collapsed": false,
    "pycharm": {
     "name": "#%%\n"
    }
   }
  },
  {
   "cell_type": "code",
   "execution_count": null,
   "outputs": [],
   "source": [
    "statsDF = fa.stats_dataframe_naive(combined_naive_data, naive_stats_column_names)"
   ],
   "metadata": {
    "collapsed": false,
    "pycharm": {
     "name": "#%%\n"
    }
   }
  },
  {
   "cell_type": "code",
   "execution_count": null,
   "outputs": [],
   "source": [
    "# sns.pairplot(statsDF, diag_kind=\"kde\", height=1.5)\n",
    "\n",
    "grid = sns.PairGrid(data=statsDF, height=1.5, diag_sharey=False)\n",
    "grid.map_diag(sns.kdeplot)\n",
    "grid.map_lower(sns.scatterplot)\n",
    "grid.map_upper(fa.pairs_stats, comparisons=comb(12, 2))\n",
    "grid.figure.savefig(\"Naive-stats.pdf\")\n",
    "# grid.tight_layout()\n",
    "\n",
    "plt.close(\"all\")"
   ],
   "metadata": {
    "collapsed": false,
    "pycharm": {
     "name": "#%%\n"
    }
   }
  },
  {
   "cell_type": "code",
   "execution_count": null,
   "outputs": [],
   "source": [
    "fa.venn_plots(\n",
    "    3,\n",
    "    combined_naive_data,\n",
    "    naiveColumns,\n",
    "    tetramerNames,\n",
    "    title=\"Naive data\",\n",
    "    file_name=\"Naive\",\n",
    ")"
   ],
   "metadata": {
    "collapsed": false,
    "pycharm": {
     "name": "#%%\n"
    }
   }
  },
  {
   "cell_type": "markdown",
   "source": [
    "## Naive frequencies"
   ],
   "metadata": {
    "collapsed": false,
    "pycharm": {
     "name": "#%% md\n"
    }
   }
  },
  {
   "cell_type": "code",
   "execution_count": null,
   "outputs": [],
   "source": [
    "fa.header_clipping(\"Naive\", filename=\"WT\")\n",
    "fa.header_clipping(\"Naive\", filename=\"T8A\")\n",
    "fa.header_clipping(\"Naive\", filename=\"N3A\")\n",
    "\n",
    "naive_wt_headers = [\n",
    "    \"Tissue\",\n",
    "    \"Stain for Column Selection\",\n",
    "    \"CD8_WT_N3AT8Aneg_Num\",\n",
    "    \"CD8_WT_T8ASP_Num\",\n",
    "    \"CD8_WT_N3ASP_Num\",\n",
    "    \"CD8_WT_N3AT8ADP_Num\",\n",
    "    \"Column Selected WT Positive_Num\",\n",
    "]\n",
    "\n",
    "naive_t8a_headers = [\n",
    "    \"Tissue\",\n",
    "    \"Stain for Column Selection\",\n",
    "    \"CD8_T8A_N3AWTneg_Num\",\n",
    "    \"CD8_T8A_WTSP_Num\",\n",
    "    \"CD8_T8A_N3ASP_Num\",\n",
    "    \"CD8_T8A_N3AWTDP_Num\",\n",
    "    \"Column Selected T8A Positive_Num\",\n",
    "]\n",
    "\n",
    "naive_n3a_headers = [\n",
    "    \"Tissue\",\n",
    "    \"Stain for Column Selection\",\n",
    "    \"CD8_N3A_WTT8Aneg_Num\",\n",
    "    \"CD8_N3A_WTSP_Num\",\n",
    "    \"CD8_N3A_T8ASP_Num\",\n",
    "    \"CD8_N3A_T8AWTDP_Num\",\n",
    "    \"Column Selected N3A Positive_Num\",\n",
    "]\n",
    "\n",
    "naive_wt_column_names = fa.time_name_list(\"Naive\", naive_wt_headers, filename=\"WT\")\n",
    "naive_t8a_column_names = fa.time_name_list(\"Naive\", naive_t8a_headers, filename=\"T8A\")\n",
    "naive_n3a_column_names = fa.time_name_list(\"Naive\", naive_n3a_headers, filename=\"N3A\")\n",
    "\n",
    "naive_wt_data_freq, naive_wt_data_neg_norm = fa.data_extraction(\n",
    "    \"Naive\",\n",
    "    \"Spleen + Lymphnodes\",\n",
    "    naive_wt_headers,\n",
    "    naive_wt_column_names,\n",
    "    data_type=\"naive\",\n",
    "    column=\"WT\",\n",
    "    filename=\"WT\",\n",
    "    normalise=True,\n",
    ")\n",
    "\n",
    "naive_t8a_data_freq, naive_t8a_data_neg_norm = fa.data_extraction(\n",
    "    \"Naive\",\n",
    "    \"Spleen + Lymphnodes\",\n",
    "    naive_t8a_headers,\n",
    "    naive_t8a_column_names,\n",
    "    data_type=\"naive\",\n",
    "    column=\"T8A\",\n",
    "    filename=\"T8A\",\n",
    "    normalise=True,\n",
    ")\n",
    "\n",
    "naive_n3a_data_freq, naive_n3a_data_neg_norm = fa.data_extraction(\n",
    "    \"Naive\",\n",
    "    \"Spleen + Lymphnodes\",\n",
    "    naive_n3a_headers,\n",
    "    naive_n3a_column_names,\n",
    "    data_type=\"naive\",\n",
    "    column=\"N3A\",\n",
    "    filename=\"N3A\",\n",
    "    normalise=True,\n",
    ")\n",
    "\n",
    "combined_naive_data_freq = fa.combine_naive_data(\n",
    "    [naive_wt_data_freq, naive_t8a_data_freq, naive_n3a_data_freq]\n",
    ")\n",
    "\n",
    "stats_freqDF = fa.stats_dataframe_naive(\n",
    "    combined_naive_data_freq, naive_stats_column_names\n",
    ")"
   ],
   "metadata": {
    "collapsed": false,
    "pycharm": {
     "name": "#%%\n"
    }
   }
  },
  {
   "cell_type": "code",
   "execution_count": 75,
   "id": "3fa159dc",
   "metadata": {
    "pycharm": {
     "name": "#%%\n"
    }
   },
   "outputs": [],
   "source": [
    "grid = sns.PairGrid(data=stats_freqDF, height=1.5, diag_sharey=False)\n",
    "grid.map_diag(sns.kdeplot)\n",
    "grid.map_lower(sns.scatterplot)\n",
    "grid.map_upper(fa.pairs_stats, comparisons=comb(12, 2))\n",
    "grid.figure.savefig(\"Naive-freq-stats.pdf\")\n",
    "\n",
    "plt.close(\"all\")"
   ]
  },
  {
   "cell_type": "code",
   "execution_count": 76,
   "id": "a87c6c71",
   "metadata": {
    "scrolled": false,
    "pycharm": {
     "name": "#%%\n"
    }
   },
   "outputs": [
    {
     "name": "stderr",
     "output_type": "stream",
     "text": [
      "/Users/danny/anaconda3/envs/P37T2/lib/python3.7/site-packages/matplotlib_venn/_venn3.py:117: UserWarning: Bad circle positioning\n",
      "  warnings.warn(\"Bad circle positioning\")\n",
      "/Users/danny/anaconda3/envs/P37T2/lib/python3.7/site-packages/matplotlib_venn/_venn3.py:53: UserWarning: Circle A has zero area\n",
      "  warnings.warn(\"Circle A has zero area\")\n",
      "/Users/danny/anaconda3/envs/P37T2/lib/python3.7/site-packages/matplotlib_venn/_venn3.py:61: UserWarning: Circle C has zero area\n",
      "  warnings.warn(\"Circle C has zero area\")\n"
     ]
    }
   ],
   "source": [
    "fa.venn_plots(\n",
    "    3,\n",
    "    combined_naive_data_freq,\n",
    "    naiveColumns,\n",
    "    tetramerNames,\n",
    "    title=\"Naive data (frequencies)\",\n",
    "    file_name=\"Naive-freq\",\n",
    "    decimals=3,\n",
    ")"
   ]
  },
  {
   "cell_type": "markdown",
   "id": "9da6d6ed",
   "metadata": {
    "pycharm": {
     "name": "#%% md\n"
    }
   },
   "source": [
    "# Plotly tests"
   ]
  },
  {
   "cell_type": "markdown",
   "id": "b482a2d7",
   "metadata": {
    "pycharm": {
     "name": "#%% md\n"
    }
   },
   "source": [
    "## Plots"
   ]
  },
  {
   "cell_type": "code",
   "execution_count": 77,
   "id": "84da1640",
   "metadata": {
    "pycharm": {
     "name": "#%%\n"
    }
   },
   "outputs": [],
   "source": [
    "data = [\n",
    "    wt_p_data,\n",
    "    t8a_p_data,\n",
    "    n3a_p_data,\n",
    "    wt_p_data_neg,\n",
    "    t8a_p_data_neg,\n",
    "    n3a_p_data_neg,\n",
    "]\n",
    "priming = [\"WT\", \"T8A\", \"N3A\"]\n",
    "time = [10, 70, 90, 90, 90]\n",
    "organ = [\"Spleen\", \"Spleen\", \"Spleen\"]\n",
    "cd45 = [\"-\", \"-\", \"-\"]\n",
    "columns = [\"Organ\", \"CD45\", \"Priming\", \"Time (dpi)\", \"Cells\", \"Tetramer\", \"Timepoint\"]\n",
    "infection_dict = {0: \"Primary\", 1: \"Memory\", 2: \"WT\", 3: \"T8A\", 4: \"N3A\"}\n",
    "patch_dict = {\n",
    "    0: \"WT\",\n",
    "    1: \"T8A\",\n",
    "    3: \"N3A\",\n",
    "    2: \"WT+T8A\",\n",
    "    4: \"WT+N3A\",\n",
    "    5: \"T8A+N3A\",\n",
    "    6: \"Triple positive\",\n",
    "}\n",
    "\n",
    "dataDF = fa.plot_dataframe(\n",
    "    data, priming, time, organ, cd45, columns, patch_dict, infection_dict\n",
    ")"
   ]
  },
  {
   "cell_type": "code",
   "execution_count": 78,
   "id": "19649be4",
   "metadata": {
    "pycharm": {
     "name": "#%%\n"
    }
   },
   "outputs": [],
   "source": [
    "fig = px.line(\n",
    "    dataDF[\n",
    "        (dataDF.Timepoint == \"Primary\")\n",
    "        | (dataDF.Timepoint == \"Memory\")\n",
    "        | (dataDF.Timepoint == \"WT\")\n",
    "    ],\n",
    "    x=\"Time (dpi)\",\n",
    "    y=\"Cells\",\n",
    "    color=\"Tetramer\",\n",
    "    title=\"Contration and expansion slopes\",\n",
    "    markers=True,\n",
    "    log_y=False  # ,\n",
    "    # symbol='Priming'\n",
    ")\n",
    "\n",
    "# fig.show()\n",
    "\n",
    "fig.write_html(\"single-slope-plot.html\")"
   ]
  },
  {
   "cell_type": "code",
   "execution_count": 79,
   "id": "bfc47690",
   "metadata": {
    "pycharm": {
     "name": "#%%\n"
    }
   },
   "outputs": [
    {
     "data": {
      "text/plain": "      Organ CD45 Priming  Time (dpi)        Cells Tetramer Timepoint\n14   Spleen    -      WT          90   1057312.00       WT        WT\n15   Spleen    -      WT          90     32473.25      T8A        WT\n16   Spleen    -      WT          90   1130300.00   WT+T8A        WT\n17   Spleen    -      WT          90      1815.00      N3A        WT\n18   Spleen    -      WT          90     11830.00   WT+N3A        WT\n..      ...  ...     ...         ...          ...      ...       ...\n113  Spleen    -     T8A          90  11359368.00    Total       T8A\n114  Spleen    -     T8A          90   7176572.20    Total       N3A\n117  Spleen    -     N3A          90  17245409.67    Total        WT\n118  Spleen    -     N3A          90   4330925.75    Total       T8A\n119  Spleen    -     N3A          90  14290919.67    Total       N3A\n\n[72 rows x 7 columns]",
      "text/html": "<div>\n<style scoped>\n    .dataframe tbody tr th:only-of-type {\n        vertical-align: middle;\n    }\n\n    .dataframe tbody tr th {\n        vertical-align: top;\n    }\n\n    .dataframe thead th {\n        text-align: right;\n    }\n</style>\n<table border=\"1\" class=\"dataframe\">\n  <thead>\n    <tr style=\"text-align: right;\">\n      <th></th>\n      <th>Organ</th>\n      <th>CD45</th>\n      <th>Priming</th>\n      <th>Time (dpi)</th>\n      <th>Cells</th>\n      <th>Tetramer</th>\n      <th>Timepoint</th>\n    </tr>\n  </thead>\n  <tbody>\n    <tr>\n      <th>14</th>\n      <td>Spleen</td>\n      <td>-</td>\n      <td>WT</td>\n      <td>90</td>\n      <td>1057312.00</td>\n      <td>WT</td>\n      <td>WT</td>\n    </tr>\n    <tr>\n      <th>15</th>\n      <td>Spleen</td>\n      <td>-</td>\n      <td>WT</td>\n      <td>90</td>\n      <td>32473.25</td>\n      <td>T8A</td>\n      <td>WT</td>\n    </tr>\n    <tr>\n      <th>16</th>\n      <td>Spleen</td>\n      <td>-</td>\n      <td>WT</td>\n      <td>90</td>\n      <td>1130300.00</td>\n      <td>WT+T8A</td>\n      <td>WT</td>\n    </tr>\n    <tr>\n      <th>17</th>\n      <td>Spleen</td>\n      <td>-</td>\n      <td>WT</td>\n      <td>90</td>\n      <td>1815.00</td>\n      <td>N3A</td>\n      <td>WT</td>\n    </tr>\n    <tr>\n      <th>18</th>\n      <td>Spleen</td>\n      <td>-</td>\n      <td>WT</td>\n      <td>90</td>\n      <td>11830.00</td>\n      <td>WT+N3A</td>\n      <td>WT</td>\n    </tr>\n    <tr>\n      <th>...</th>\n      <td>...</td>\n      <td>...</td>\n      <td>...</td>\n      <td>...</td>\n      <td>...</td>\n      <td>...</td>\n      <td>...</td>\n    </tr>\n    <tr>\n      <th>113</th>\n      <td>Spleen</td>\n      <td>-</td>\n      <td>T8A</td>\n      <td>90</td>\n      <td>11359368.00</td>\n      <td>Total</td>\n      <td>T8A</td>\n    </tr>\n    <tr>\n      <th>114</th>\n      <td>Spleen</td>\n      <td>-</td>\n      <td>T8A</td>\n      <td>90</td>\n      <td>7176572.20</td>\n      <td>Total</td>\n      <td>N3A</td>\n    </tr>\n    <tr>\n      <th>117</th>\n      <td>Spleen</td>\n      <td>-</td>\n      <td>N3A</td>\n      <td>90</td>\n      <td>17245409.67</td>\n      <td>Total</td>\n      <td>WT</td>\n    </tr>\n    <tr>\n      <th>118</th>\n      <td>Spleen</td>\n      <td>-</td>\n      <td>N3A</td>\n      <td>90</td>\n      <td>4330925.75</td>\n      <td>Total</td>\n      <td>T8A</td>\n    </tr>\n    <tr>\n      <th>119</th>\n      <td>Spleen</td>\n      <td>-</td>\n      <td>N3A</td>\n      <td>90</td>\n      <td>14290919.67</td>\n      <td>Total</td>\n      <td>N3A</td>\n    </tr>\n  </tbody>\n</table>\n<p>72 rows × 7 columns</p>\n</div>"
     },
     "execution_count": 79,
     "metadata": {},
     "output_type": "execute_result"
    }
   ],
   "source": [
    "dataDF[\n",
    "    (dataDF.Timepoint == \"WT\")\n",
    "    | (dataDF.Timepoint == \"T8A\")\n",
    "    | (dataDF.Timepoint == \"N3A\")\n",
    "]"
   ]
  },
  {
   "cell_type": "markdown",
   "id": "6ed03bb3",
   "metadata": {
    "pycharm": {
     "name": "#%% md\n"
    }
   },
   "source": [
    "## Multi-col test"
   ]
  },
  {
   "cell_type": "code",
   "execution_count": 80,
   "id": "1754d741",
   "metadata": {
    "scrolled": false,
    "pycharm": {
     "name": "#%%\n"
    }
   },
   "outputs": [],
   "source": [
    "times = [10, 70, 90]\n",
    "left_col = [0, 1, 2, 6, 7, 8, 12, 13, 14]\n",
    "right_col = [3, 4, 5, 9, 10, 11, 15, 16, 17]\n",
    "colours = [\"#29e0c3\", \"#f28b2e\", \"#34a0e0\"]\n",
    "tetramers = [\"WT\", \"T8A\", \"N3A\"]\n",
    "\n",
    "fig = go.Figure().set_subplots(\n",
    "    rows=3,\n",
    "    cols=2,\n",
    "    subplot_titles=(\n",
    "        \"WT primary\",\n",
    "        \"WT primary\",\n",
    "        \"T8A primary\",\n",
    "        \"T8A primary\",\n",
    "        \"N3A primary\",\n",
    "        \"N3A primary\",\n",
    "    ),\n",
    "    shared_xaxes=True,\n",
    "    shared_yaxes=True,\n",
    "    vertical_spacing=0.05,\n",
    ")\n",
    "\n",
    "fig.update_layout(\n",
    "    legend_title_text=\"Challenge infection\",\n",
    "    legend=dict(\n",
    "        yanchor=\"bottom\",\n",
    "        xanchor=\"center\",\n",
    "        y=1.02,\n",
    "        x=0.5,\n",
    "        orientation=\"h\",\n",
    "        font={\"size\": 18},\n",
    "    ),\n",
    "    height=1200,\n",
    "    width=750,\n",
    ")\n",
    "\n",
    "fig.update_xaxes(title_text=\"Time (dpi)\", row=3, col=1)\n",
    "fig.update_xaxes(title_text=\"Time (dpi)\", row=3, col=2)\n",
    "fig.update_xaxes(tickvals=[10, 70, 90], title_font={\"size\": 14})\n",
    "fig.update_yaxes(title_text=\"Cells\", title_font={\"size\": 14}, col=1)\n",
    "# fig.update_yaxes(type='log')\n",
    "# , rangemode='nonnegative')\n",
    "\n",
    "\n",
    "# WT primary\n",
    "\n",
    "# Left column\n",
    "for colour, challenge in enumerate(tetramers):\n",
    "    fig.add_trace(\n",
    "        go.Scatter(\n",
    "            x=times,\n",
    "            y=fa.separate_data(dataDF, \"WT\", challenge, \"WT\").Cells,\n",
    "            mode=\"lines+markers\",\n",
    "            name=challenge,\n",
    "            line=dict(color=colours[colour]),\n",
    "        ),\n",
    "        1,\n",
    "        1,\n",
    "    )\n",
    "\n",
    "\n",
    "# Right column\n",
    "for colour, challenge in enumerate(tetramers):\n",
    "    fig.add_trace(\n",
    "        go.Scatter(\n",
    "            x=times,\n",
    "            y=fa.separate_data(dataDF, \"WT\", challenge, \"WT\").Cells,\n",
    "            mode=\"lines+markers\",\n",
    "            name=challenge,\n",
    "            showlegend=False,\n",
    "            line=dict(color=colours[colour]),\n",
    "        ),\n",
    "        1,\n",
    "        2,\n",
    "    )\n",
    "\n",
    "# SEPARATE INTO ONE LINE FOR FIRST CONTRACTION AND 3 LINES FOR EXPASIONS\n",
    "\n",
    "\n",
    "# T8A primary\n",
    "\n",
    "# Left column\n",
    "for colour, challenge in enumerate(tetramers):\n",
    "    fig.add_trace(\n",
    "        go.Scatter(\n",
    "            x=times,\n",
    "            y=fa.separate_data(dataDF, \"T8A\", challenge, \"WT\").Cells,\n",
    "            mode=\"lines+markers\",\n",
    "            name=challenge,\n",
    "            showlegend=False,\n",
    "            line=dict(color=colours[colour]),\n",
    "        ),\n",
    "        2,\n",
    "        1,\n",
    "    )\n",
    "\n",
    "# Right column\n",
    "for colour, challenge in enumerate(tetramers):\n",
    "    fig.add_trace(\n",
    "        go.Scatter(\n",
    "            x=times,\n",
    "            y=fa.separate_data(dataDF, \"T8A\", challenge, \"WT\").Cells,\n",
    "            mode=\"lines+markers\",\n",
    "            name=challenge,\n",
    "            showlegend=False,\n",
    "            line=dict(color=colours[colour]),\n",
    "        ),\n",
    "        2,\n",
    "        2,\n",
    "    )\n",
    "\n",
    "# SEPARATE INTO ONE LINE FOR FIRST CONTRACTION AND 3 LINES FOR EXPASIONS\n",
    "\n",
    "\n",
    "# N3A primary\n",
    "\n",
    "# Left column\n",
    "for colour, challenge in enumerate(tetramers):\n",
    "    fig.add_trace(\n",
    "        go.Scatter(\n",
    "            x=times,\n",
    "            y=fa.separate_data(dataDF, \"N3A\", challenge, \"WT\").Cells,\n",
    "            mode=\"lines+markers\",\n",
    "            name=challenge,\n",
    "            showlegend=False,\n",
    "            line=dict(color=colours[colour]),\n",
    "        ),\n",
    "        3,\n",
    "        1,\n",
    "    )\n",
    "\n",
    "# Right column\n",
    "for colour, challenge in enumerate(tetramers):\n",
    "    fig.add_trace(\n",
    "        go.Scatter(\n",
    "            x=times,\n",
    "            y=fa.separate_data(dataDF, \"N3A\", challenge, \"WT\").Cells,\n",
    "            mode=\"lines+markers\",\n",
    "            name=challenge,\n",
    "            showlegend=False,\n",
    "            line=dict(color=colours[colour]),\n",
    "        ),\n",
    "        3,\n",
    "        2,\n",
    "    )\n",
    "\n",
    "# SEPARATE INTO ONE LINE FOR FIRST CONTRACTION AND 3 LINES FOR EXPASIONS\n",
    "\n",
    "fig.update_layout(\n",
    "    updatemenus=[\n",
    "        dict(\n",
    "            # type=\"buttons\",  # Remove for dropdown\n",
    "            direction=\"down\",  # down if dropdown, right if buttons\n",
    "            x=0.25,\n",
    "            y=1.06,\n",
    "            showactive=True,\n",
    "            xanchor=\"center\",\n",
    "            yanchor=\"bottom\",\n",
    "            buttons=list(\n",
    "                [\n",
    "                    dict(\n",
    "                        label=\"WT\",\n",
    "                        method=\"restyle\",\n",
    "                        args=[{\"y\": fa.data_update(dataDF, \"WT\")}, left_col],\n",
    "                    ),\n",
    "                    dict(\n",
    "                        label=\"T8A\",\n",
    "                        method=\"restyle\",\n",
    "                        args=[{\"y\": fa.data_update(dataDF, \"T8A\")}, left_col],\n",
    "                    ),\n",
    "                    dict(\n",
    "                        label=\"N3A\",\n",
    "                        method=\"restyle\",\n",
    "                        args=[{\"y\": fa.data_update(dataDF, \"N3A\")}, left_col],\n",
    "                    ),\n",
    "                    dict(\n",
    "                        label=\"WT+T8A\",\n",
    "                        method=\"restyle\",\n",
    "                        args=[{\"y\": fa.data_update(dataDF, \"WT+T8A\")}, left_col],\n",
    "                    ),\n",
    "                    dict(\n",
    "                        label=\"WT+N3A\",\n",
    "                        method=\"restyle\",\n",
    "                        args=[{\"y\": fa.data_update(dataDF, \"WT+N3A\")}, left_col],\n",
    "                    ),\n",
    "                    dict(\n",
    "                        label=\"T8A+N3A\",\n",
    "                        method=\"restyle\",\n",
    "                        args=[{\"y\": fa.data_update(dataDF, \"T8A+N3A\")}, left_col],\n",
    "                    ),\n",
    "                    dict(\n",
    "                        label=\"Triple positive\",\n",
    "                        method=\"restyle\",\n",
    "                        args=[\n",
    "                            {\"y\": fa.data_update(dataDF, \"Triple positive\")},\n",
    "                            left_col,\n",
    "                        ],\n",
    "                    ),\n",
    "                    dict(\n",
    "                        label=\"Triple negative\",\n",
    "                        method=\"restyle\",\n",
    "                        args=[\n",
    "                            {\"y\": fa.data_update(dataDF, \"Triple negative\")},\n",
    "                            left_col,\n",
    "                        ],\n",
    "                    ),\n",
    "                    dict(\n",
    "                        label=\"Total\",\n",
    "                        method=\"restyle\",\n",
    "                        args=[{\"y\": fa.data_update(dataDF, \"Total\")}, left_col],\n",
    "                    ),\n",
    "                ]\n",
    "            ),\n",
    "        ),\n",
    "        dict(\n",
    "            direction=\"down\",\n",
    "            x=0.75,\n",
    "            y=1.06,\n",
    "            showactive=True,\n",
    "            xanchor=\"center\",\n",
    "            yanchor=\"bottom\",\n",
    "            buttons=list(\n",
    "                [\n",
    "                    dict(\n",
    "                        label=\"WT\",\n",
    "                        method=\"restyle\",\n",
    "                        args=[{\"y\": fa.data_update(dataDF, \"WT\")}, right_col],\n",
    "                    ),\n",
    "                    dict(\n",
    "                        label=\"T8A\",\n",
    "                        method=\"restyle\",\n",
    "                        args=[{\"y\": fa.data_update(dataDF, \"T8A\")}, right_col],\n",
    "                    ),\n",
    "                    dict(\n",
    "                        label=\"N3A\",\n",
    "                        method=\"restyle\",\n",
    "                        args=[{\"y\": fa.data_update(dataDF, \"N3A\")}, right_col],\n",
    "                    ),\n",
    "                    dict(\n",
    "                        label=\"WT+T8A\",\n",
    "                        method=\"restyle\",\n",
    "                        args=[{\"y\": fa.data_update(dataDF, \"WT+T8A\")}, right_col],\n",
    "                    ),\n",
    "                    dict(\n",
    "                        label=\"WT+N3A\",\n",
    "                        method=\"restyle\",\n",
    "                        args=[{\"y\": fa.data_update(dataDF, \"WT+N3A\")}, right_col],\n",
    "                    ),\n",
    "                    dict(\n",
    "                        label=\"T8A+N3A\",\n",
    "                        method=\"restyle\",\n",
    "                        args=[{\"y\": fa.data_update(dataDF, \"T8A+N3A\")}, right_col],\n",
    "                    ),\n",
    "                    dict(\n",
    "                        label=\"Triple positive\",\n",
    "                        method=\"restyle\",\n",
    "                        args=[\n",
    "                            {\"y\": fa.data_update(dataDF, \"Triple positive\")},\n",
    "                            right_col,\n",
    "                        ],\n",
    "                    ),\n",
    "                    dict(\n",
    "                        label=\"Triple negative\",\n",
    "                        method=\"restyle\",\n",
    "                        args=[\n",
    "                            {\"y\": fa.data_update(dataDF, \"Triple negative\")},\n",
    "                            right_col,\n",
    "                        ],\n",
    "                    ),\n",
    "                    dict(\n",
    "                        label=\"Total\",\n",
    "                        method=\"restyle\",\n",
    "                        args=[{\"y\": fa.data_update(dataDF, \"Total\")}, right_col],\n",
    "                    ),\n",
    "                ]\n",
    "            ),\n",
    "        ),\n",
    "    ]\n",
    ")\n",
    "\n",
    "# fig.show()\n",
    "\n",
    "fig.write_html(\"slope-plots.html\")"
   ]
  },
  {
   "cell_type": "code",
   "execution_count": 81,
   "id": "a1d96173",
   "metadata": {
    "pycharm": {
     "name": "#%%\n"
    }
   },
   "outputs": [],
   "source": [
    "def data_test(positive_data, total_data):\n",
    "    print(\n",
    "        f\"{'Mouse' : ^9}{'Time' : ^8}{'Positive' : ^12}{'Total' : ^12}{'Fraction' : ^12}{'Correct' : ^11}\"\n",
    "    )\n",
    "    print(\"=\" * 64)\n",
    "    for mouse in range(len(positive_data)):\n",
    "        for current_time in range(len(positive_data[mouse])):\n",
    "            print(\n",
    "                f\"{mouse + 1 : ^9}{current_time + 1 : ^8}{sum(positive_data[mouse][current_time]) : ^12}{total_data[mouse][current_time][0] : ^12}{round(sum(positive_data[mouse][current_time]) / total_data[mouse][current_time][0], 5) : ^12}{sum(positive_data[mouse][current_time]) <= total_data[mouse][current_time][0] : ^11}\"\n",
    "            )"
   ]
  },
  {
   "cell_type": "code",
   "execution_count": 82,
   "id": "5063df6a",
   "metadata": {
    "pycharm": {
     "name": "#%%\n"
    }
   },
   "outputs": [
    {
     "name": "stdout",
     "output_type": "stream",
     "text": [
      "  Mouse    Time    Positive     Total      Fraction    Correct  \n",
      "================================================================\n",
      "    1       1       84100      4105900     0.02048        1     \n",
      "    1       2       16790       977210     0.01718        1     \n",
      "    1       3      9128700     17571300    0.51952        1     \n",
      "    1       4       125767     5934233     0.02119        1     \n",
      "    1       5      7558420     20341580    0.37157        1     \n",
      "    2       1       229240     6920760     0.03312        1     \n",
      "    2       2       56730      5973270      0.0095        1     \n",
      "    2       3      16179440    26620560    0.60778        1     \n",
      "    2       4       141180     4308820     0.03277        1     \n",
      "    2       5       501620     2138380     0.23458        1     \n",
      "    3       1       89800      4790200     0.01875        1     \n",
      "    3       2       64640      7115360     0.00908        1     \n",
      "    3       3      4755630     7544370     0.63035        1     \n",
      "    3       4       303210     5166790     0.05868        1     \n",
      "    3       5      1007200     20392800    0.04939        1     \n",
      "    4       1         -1          -1         1.0          1     \n",
      "    4       2         -1          -1         1.0          1     \n",
      "    4       3         -1          -1         1.0          1     \n",
      "    4       4       156140     1913860     0.08158        1     \n",
      "    4       5         -1          -1         1.0          1     \n"
     ]
    }
   ],
   "source": [
    "data_test(n3a_p_data, n3a_p_data_neg)"
   ]
  },
  {
   "cell_type": "markdown",
   "id": "2c1a6873",
   "metadata": {
    "pycharm": {
     "name": "#%% md\n"
    }
   },
   "source": [
    "# Tests"
   ]
  },
  {
   "cell_type": "code",
   "execution_count": 83,
   "id": "f33f985a",
   "metadata": {
    "pycharm": {
     "name": "#%%\n"
    }
   },
   "outputs": [],
   "source": [
    "test = fa.Mouse(1, 2, 3, 4, 5, 6, 7.257567, 0.124143141)"
   ]
  },
  {
   "cell_type": "code",
   "execution_count": 84,
   "id": "0f57cae6",
   "metadata": {
    "pycharm": {
     "name": "#%%\n"
    }
   },
   "outputs": [
    {
     "data": {
      "text/plain": "(1, 2, 4, 3, 5, 6, 7.257567)"
     },
     "execution_count": 84,
     "metadata": {},
     "output_type": "execute_result"
    }
   ],
   "source": [
    "test.venn()"
   ]
  },
  {
   "cell_type": "code",
   "execution_count": 85,
   "id": "7f4abbaf",
   "metadata": {
    "pycharm": {
     "name": "#%%\n"
    }
   },
   "outputs": [
    {
     "data": {
      "text/plain": "(1, 2, 4, 3, 5, 6, 7)"
     },
     "execution_count": 85,
     "metadata": {},
     "output_type": "execute_result"
    }
   ],
   "source": [
    "round(test)"
   ]
  },
  {
   "cell_type": "code",
   "execution_count": 86,
   "id": "01eb9b88",
   "metadata": {
    "pycharm": {
     "name": "#%%\n"
    }
   },
   "outputs": [
    {
     "data": {
      "text/plain": "(-1, 0, 0, 0, 0, 0, 0)"
     },
     "execution_count": 86,
     "metadata": {},
     "output_type": "execute_result"
    }
   ],
   "source": [
    "test1 = fa.Mouse()\n",
    "test1.venn()"
   ]
  },
  {
   "cell_type": "code",
   "execution_count": 87,
   "id": "cd4e09ad",
   "metadata": {
    "pycharm": {
     "name": "#%%\n"
    }
   },
   "outputs": [
    {
     "data": {
      "text/plain": "(-1, 0, 0, 0, 0, 0, 0)"
     },
     "execution_count": 87,
     "metadata": {},
     "output_type": "execute_result"
    }
   ],
   "source": [
    "round(test1)"
   ]
  }
 ],
 "metadata": {
  "kernelspec": {
   "display_name": "Python 3 (ipykernel)",
   "language": "python",
   "name": "python3"
  },
  "language_info": {
   "codemirror_mode": {
    "name": "ipython",
    "version": 3
   },
   "file_extension": ".py",
   "mimetype": "text/x-python",
   "name": "python",
   "nbconvert_exporter": "python",
   "pygments_lexer": "ipython3",
   "version": "3.7.11"
  }
 },
 "nbformat": 4,
 "nbformat_minor": 5
}
