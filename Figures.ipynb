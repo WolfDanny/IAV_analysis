{
 "cells": [
  {
   "cell_type": "markdown",
   "source": [
    "# Packages and global variables"
   ],
   "metadata": {
    "collapsed": false,
    "pycharm": {
     "name": "#%% md\n"
    }
   }
  },
  {
   "cell_type": "code",
   "execution_count": null,
   "id": "d50db85a",
   "metadata": {
    "pycharm": {
     "name": "#%%\n"
    }
   },
   "outputs": [],
   "source": [
    "%matplotlib inline"
   ]
  },
  {
   "cell_type": "code",
   "execution_count": null,
   "id": "d5c63525",
   "metadata": {
    "pycharm": {
     "name": "#%%\n"
    }
   },
   "outputs": [],
   "source": [
    "import warnings\n",
    "import os\n",
    "import pandas as pd\n",
    "import plotly.express as px\n",
    "import plotly.graph_objects as go\n",
    "from plotly.subplots import make_subplots\n",
    "from copy import deepcopy\n",
    "from scipy import stats\n",
    "from scipy.special import comb\n",
    "\n",
    "import seaborn as sns\n",
    "import matplotlib.pyplot as plt\n",
    "\n",
    "import flowanalysis.definitions as fa"
   ]
  },
  {
   "cell_type": "code",
   "execution_count": null,
   "outputs": [],
   "source": [
    "required_directories = [\n",
    "    \"Data/\",\n",
    "    \"ANOVA/WT/\",\n",
    "    \"ANOVA/N3A/\",\n",
    "    \"ANOVA/T8A/\",\n",
    "    \"ANOVA/Data/\",\n",
    "    \"Fig-Venn/\",\n",
    "    \"Fig-Slopes/\",\n",
    "    \"Fig-Correlations/\",\n",
    "]\n",
    "for directory in required_directories:\n",
    "    os.makedirs(os.path.dirname(directory), exist_ok=True)"
   ],
   "metadata": {
    "collapsed": false,
    "pycharm": {
     "name": "#%%\n"
    }
   }
  },
  {
   "cell_type": "code",
   "execution_count": null,
   "outputs": [],
   "source": [
    "sns.set_style(\"ticks\")\n",
    "plt.rcParams.update({\"text.usetex\": True})\n",
    "plt.rcParams[\"text.latex.preamble\"] = r\"\\usepackage{graphicx}\"\n",
    "plt.rcParams[\"font.family\"] = \"serif\"\n",
    "plt.rcParams[\"mathtext.fontset\"] = \"dejavuserif\"\n",
    "\n",
    "absolute_numbers = False\n",
    "mean_only_venn = True\n",
    "\n",
    "stats_timepoints = (\"Memory\", \"WT challenge\", \"T8A challenge\", \"N3A challenge\")\n",
    "time_names = (\"Primary\", \"Memory\", \"WT challenge\", \"T8A challenge\", \"N3A challenge\")\n",
    "naive_columns = (\"WT column\", \"T8A column\", \"N3A column\")\n",
    "tetramer_names = (\"WT\", \"T8A\", \"N3A\")\n",
    "naive_stats_column_names = (\n",
    "    \"SP [WT]\",\n",
    "    \"T8A [WT]\",\n",
    "    \"N3A [WT]\",\n",
    "    \"TP [WT]\",\n",
    "    \"SP [T8A]\",\n",
    "    \"WT [T8A]\",\n",
    "    \"N3A [T8A]\",\n",
    "    \"TP [T8A]\",\n",
    "    \"SP [N3A]\",\n",
    "    \"WT [N3A]\",\n",
    "    \"T8A [N3A]\",\n",
    "    \"TP [N3A]\",\n",
    ")"
   ],
   "metadata": {
    "collapsed": false,
    "pycharm": {
     "name": "#%%\n"
    }
   }
  },
  {
   "cell_type": "markdown",
   "source": [
    "# Venn and slope plots\n",
    "## Spleen\n",
    "### Circulating"
   ],
   "metadata": {
    "collapsed": false,
    "pycharm": {
     "name": "#%% md\n"
    }
   }
  },
  {
   "cell_type": "code",
   "execution_count": null,
   "outputs": [],
   "source": [
    "fa.header_clipping(\"WT\", check=True)\n",
    "fa.header_clipping(\"T8A\", check=True)\n",
    "fa.header_clipping(\"N3A\", check=True)"
   ],
   "metadata": {
    "collapsed": false,
    "pycharm": {
     "name": "#%%\n"
    }
   }
  },
  {
   "cell_type": "code",
   "execution_count": null,
   "outputs": [],
   "source": [
    "fa.header_clipping(\"WT\")\n",
    "fa.header_clipping(\"T8A\")\n",
    "fa.header_clipping(\"N3A\")\n",
    "\n",
    "wt_p_headers = [\n",
    "    \"Tissue\",\n",
    "    \"Condition\",\n",
    "    \"WTSP_Num\",\n",
    "    \"T8ASP_Num\",\n",
    "    \"N3ASP_Num\",\n",
    "    \"CD8p_WTT8ADP_Num\",\n",
    "    \"CD8p_WTN3ADP_Num\",\n",
    "    \"CD8p_N3AT8ADP_Num\",\n",
    "    \"CD8p_TriplePos_Num\",\n",
    "    \"CD8p_Num\",\n",
    "]\n",
    "t8a_p_headers = [\n",
    "    \"Tissue\",\n",
    "    \"T8A Primary\",\n",
    "    \"CD8p_WTSP_Num\",\n",
    "    \"CD8p_T8ASP_Num\",\n",
    "    \"CD8p_N3ASP_Num\",\n",
    "    \"CD8p_WTT8ADP_Num\",\n",
    "    \"CD8p_WTN3ADP_Num\",\n",
    "    \"CD8p_N3AT8ADP_Num\",\n",
    "    \"CD8p_TriplePos_Num\",\n",
    "    \"CD8p_Num\",\n",
    "]\n",
    "n3a_p_headers = [\n",
    "    \"Tissue\",\n",
    "    \"Infection\",\n",
    "    \"CD8p_WTSP_Num\",\n",
    "    \"CD8p_T8ASP_Num\",\n",
    "    \"CD8p_N3ASP_Num\",\n",
    "    \"CD8p_WTT8ADP_Num\",\n",
    "    \"CD8p_N3AWTDP_Num\",\n",
    "    \"CD8p_N3AT8ADP_Num\",\n",
    "    \"CD8p_TriplePos_Num\",\n",
    "    \"CD8+CD45-_Norm_Num\",\n",
    "]\n",
    "\n",
    "wt_p_time_names = fa.time_name_list(\"WT\", wt_p_headers)\n",
    "t8a_p_time_names = fa.time_name_list(\"T8A\", t8a_p_headers)\n",
    "n3a_p_time_names = fa.time_name_list(\"N3A\", n3a_p_headers)\n",
    "\n",
    "wt_spleen_cir_exp = fa.data_extraction(\n",
    "    \"WT\",\n",
    "    \"spleen\",\n",
    "    wt_p_headers,\n",
    "    wt_p_time_names,\n",
    "    standard_names=time_names,\n",
    "    timepoints=5,\n",
    ")\n",
    "t8a_spleen_cir_exp = fa.data_extraction(\n",
    "    \"T8A\",\n",
    "    \"spleen\",\n",
    "    t8a_p_headers,\n",
    "    t8a_p_time_names,\n",
    "    standard_names=time_names,\n",
    "    timepoints=5,\n",
    ")\n",
    "n3a_spleen_cir_exp = fa.data_extraction(\n",
    "    \"N3A\",\n",
    "    \"spleen\",\n",
    "    n3a_p_headers,\n",
    "    n3a_p_time_names,\n",
    "    standard_names=time_names,\n",
    "    timepoints=5,\n",
    ")"
   ],
   "metadata": {
    "collapsed": false,
    "pycharm": {
     "name": "#%%\n"
    }
   }
  },
  {
   "cell_type": "markdown",
   "source": [
    "#### Venn plots"
   ],
   "metadata": {
    "collapsed": false,
    "pycharm": {
     "name": "#%% md\n"
    }
   }
  },
  {
   "cell_type": "code",
   "execution_count": null,
   "outputs": [],
   "source": [
    "wt_spleen_cir_exp.venn_plot(\n",
    "    \"Fig-Venn/V-WT-S-Cir\", frequency=False, mean_only=mean_only_venn\n",
    ")\n",
    "wt_spleen_cir_exp.venn_plot(\n",
    "    \"Fig-Venn/V-WT-S-Cir-F\", frequency=True, labels=False, mean_only=mean_only_venn\n",
    ")"
   ],
   "metadata": {
    "collapsed": false,
    "pycharm": {
     "name": "#%%\n"
    }
   }
  },
  {
   "cell_type": "code",
   "execution_count": null,
   "outputs": [],
   "source": [
    "t8a_spleen_cir_exp.venn_plot(\n",
    "    \"Fig-Venn/V-T8A-S-Cir\", frequency=False, mean_only=mean_only_venn\n",
    ")\n",
    "t8a_spleen_cir_exp.venn_plot(\n",
    "    \"Fig-Venn/V-T8A-S-Cir-F\", frequency=True, labels=False, mean_only=mean_only_venn\n",
    ")"
   ],
   "metadata": {
    "collapsed": false,
    "pycharm": {
     "name": "#%%\n"
    }
   }
  },
  {
   "cell_type": "code",
   "execution_count": null,
   "outputs": [],
   "source": [
    "n3a_spleen_cir_exp.venn_plot(\n",
    "    \"Fig-Venn/V-N3A-S-Cir\", frequency=False, mean_only=mean_only_venn\n",
    ")\n",
    "n3a_spleen_cir_exp.venn_plot(\n",
    "    \"Fig-Venn/V-N3A-S-Cir-F\", frequency=True, labels=False, mean_only=mean_only_venn\n",
    ")"
   ],
   "metadata": {
    "collapsed": false,
    "pycharm": {
     "name": "#%%\n"
    }
   }
  },
  {
   "cell_type": "markdown",
   "source": [
    "#### Slopes"
   ],
   "metadata": {
    "collapsed": false,
    "pycharm": {
     "name": "#%% md\n"
    }
   }
  },
  {
   "cell_type": "code",
   "execution_count": null,
   "outputs": [],
   "source": [
    "wt_spleen_cir_exp.slope_plot(\"Fig-Slopes/L-WT-S-Cir\")"
   ],
   "metadata": {
    "collapsed": false,
    "pycharm": {
     "name": "#%%\n"
    }
   }
  },
  {
   "cell_type": "code",
   "execution_count": null,
   "outputs": [],
   "source": [
    "t8a_spleen_cir_exp.slope_plot(\"Fig-Slopes/L-T8A-S-Cir\")"
   ],
   "metadata": {
    "collapsed": false,
    "pycharm": {
     "name": "#%%\n"
    }
   }
  },
  {
   "cell_type": "code",
   "execution_count": null,
   "outputs": [],
   "source": [
    "n3a_spleen_cir_exp.slope_plot(\"Fig-Slopes/L-N3A-S-Cir\")"
   ],
   "metadata": {
    "collapsed": false,
    "pycharm": {
     "name": "#%%\n"
    }
   }
  },
  {
   "cell_type": "markdown",
   "source": [
    "### Resident"
   ],
   "metadata": {
    "collapsed": false,
    "pycharm": {
     "name": "#%% md\n"
    }
   }
  },
  {
   "cell_type": "code",
   "execution_count": null,
   "outputs": [],
   "source": [
    "fa.header_clipping(\"WT\", cd45=\"-\", check=True)\n",
    "fa.header_clipping(\"T8A\", cd45=\"-\", check=True)\n",
    "fa.header_clipping(\"N3A\", cd45=\"-\", check=True)"
   ],
   "metadata": {
    "collapsed": false,
    "pycharm": {
     "name": "#%%\n"
    }
   }
  },
  {
   "cell_type": "code",
   "execution_count": null,
   "outputs": [],
   "source": [
    "fa.header_clipping(\"WT\", cd45=\"-\")\n",
    "fa.header_clipping(\"T8A\", cd45=\"-\")\n",
    "fa.header_clipping(\"N3A\", cd45=\"-\")\n",
    "\n",
    "wt_n_headers = [\n",
    "    \"Tissue\",\n",
    "    \"Condition\",\n",
    "    \"CD8n_WTSP_Num\",\n",
    "    \"CD8n_T8ASP_Num\",\n",
    "    \"CD8n_N3ASP_Num\",\n",
    "    \"CD8n_WTT8ADP_Num\",\n",
    "    \"CD8n_WTN3ADP_Num\",\n",
    "    \"CD8n_N3AT8ADP_Num\",\n",
    "    \"CD8n_Triplepos_Num\",\n",
    "    \"CD8n_Num\",\n",
    "]\n",
    "t8a_n_headers = [\n",
    "    \"Tissue\",\n",
    "    \"Infection\",\n",
    "    \"CD8p_WTSP_Num\",\n",
    "    \"CD8p_T8ASP_Num\",\n",
    "    \"CD8p_N3ASP_Num\",\n",
    "    \"CD8p_WTT8ADP_Num\",\n",
    "    \"CD8p_WTN3ADP_Num\",\n",
    "    \"CD8p_N3AT8ADP_Num\",\n",
    "    \"CD8p_TriplePos_Num\",\n",
    "    \"CD8n_Num\",\n",
    "]\n",
    "n3a_n_headers = [\n",
    "    \"Tissue\",\n",
    "    \"Infection\",\n",
    "    \"CD8n_WTSP_Num\",\n",
    "    \"CD8n_T8ASP_Num\",\n",
    "    \"CD8n_N3ASP_Num\",\n",
    "    \"CD8n_WTT8ADP_Num\",\n",
    "    \"CD8n_N3AWTDP_Num\",\n",
    "    \"CD8n_N3AT8ADP_Num\",\n",
    "    \"CD8n_TriplePos_Num\",\n",
    "    \"CD8+CD45-_Norm_Num\",\n",
    "]\n",
    "\n",
    "wt_n_time_names = fa.time_name_list(\"WT\", wt_n_headers, cd45=\"-\")\n",
    "t8a_n_time_names = fa.time_name_list(\"T8A\", t8a_n_headers, cd45=\"-\")\n",
    "n3a_n_time_names = fa.time_name_list(\"N3A\", n3a_n_headers, cd45=\"-\")\n",
    "\n",
    "wt_spleen_res_exp = fa.data_extraction(\n",
    "    \"WT\",\n",
    "    \"spleen\",\n",
    "    wt_n_headers,\n",
    "    wt_n_time_names,\n",
    "    standard_names=time_names,\n",
    "    cd45=\"-\",\n",
    "    timepoints=5,\n",
    ")\n",
    "t8a_spleen_res_exp = fa.data_extraction(\n",
    "    \"T8A\",\n",
    "    \"spleen\",\n",
    "    t8a_n_headers,\n",
    "    t8a_n_time_names,\n",
    "    standard_names=time_names,\n",
    "    cd45=\"-\",\n",
    "    timepoints=5,\n",
    ")\n",
    "n3a_spleen_res_exp = fa.data_extraction(\n",
    "    \"N3A\",\n",
    "    \"spleen\",\n",
    "    n3a_n_headers,\n",
    "    n3a_n_time_names,\n",
    "    standard_names=time_names,\n",
    "    cd45=\"-\",\n",
    "    timepoints=5,\n",
    ")"
   ],
   "metadata": {
    "collapsed": false,
    "pycharm": {
     "name": "#%%\n"
    }
   }
  },
  {
   "cell_type": "markdown",
   "source": [
    "#### Venn plots"
   ],
   "metadata": {
    "collapsed": false,
    "pycharm": {
     "name": "#%% md\n"
    }
   }
  },
  {
   "cell_type": "code",
   "execution_count": null,
   "outputs": [],
   "source": [
    "wt_spleen_res_exp.venn_plot(\n",
    "    \"Fig-Venn/V-WT-S-Res\", frequency=False, mean_only=mean_only_venn\n",
    ")\n",
    "wt_spleen_res_exp.venn_plot(\n",
    "    \"Fig-Venn/V-WT-S-Res-F\", frequency=True, labels=False, mean_only=mean_only_venn\n",
    ")"
   ],
   "metadata": {
    "collapsed": false,
    "pycharm": {
     "name": "#%%\n"
    }
   }
  },
  {
   "cell_type": "code",
   "execution_count": null,
   "outputs": [],
   "source": [
    "t8a_spleen_res_exp.venn_plot(\n",
    "    \"Fig-Venn/V-T8A-S-Res\", frequency=False, mean_only=mean_only_venn\n",
    ")\n",
    "t8a_spleen_res_exp.venn_plot(\n",
    "    \"Fig-Venn/V-T8A-S-Res-F\", frequency=True, labels=False, mean_only=mean_only_venn\n",
    ")"
   ],
   "metadata": {
    "collapsed": false,
    "pycharm": {
     "name": "#%%\n"
    }
   }
  },
  {
   "cell_type": "code",
   "execution_count": null,
   "outputs": [],
   "source": [
    "n3a_spleen_res_exp.venn_plot(\n",
    "    \"Fig-Venn/V-N3A-S-Res\", frequency=False, mean_only=mean_only_venn\n",
    ")\n",
    "n3a_spleen_res_exp.venn_plot(\n",
    "    \"Fig-Venn/V-N3A-S-Res-F\", frequency=True, labels=False, mean_only=mean_only_venn\n",
    ")"
   ],
   "metadata": {
    "collapsed": false,
    "pycharm": {
     "name": "#%%\n"
    }
   }
  },
  {
   "cell_type": "markdown",
   "source": [
    "#### Slopes"
   ],
   "metadata": {
    "collapsed": false,
    "pycharm": {
     "name": "#%% md\n"
    }
   }
  },
  {
   "cell_type": "code",
   "execution_count": null,
   "outputs": [],
   "source": [
    "wt_spleen_res_exp.slope_plot(\"Fig-Slopes/L-WT-S-Res\")"
   ],
   "metadata": {
    "collapsed": false,
    "pycharm": {
     "name": "#%%\n"
    }
   }
  },
  {
   "cell_type": "code",
   "execution_count": null,
   "outputs": [],
   "source": [
    "t8a_spleen_res_exp.slope_plot(\"Fig-Slopes/L-T8A-S-Res\")"
   ],
   "metadata": {
    "collapsed": false,
    "pycharm": {
     "name": "#%%\n"
    }
   }
  },
  {
   "cell_type": "code",
   "execution_count": null,
   "outputs": [],
   "source": [
    "n3a_spleen_res_exp.slope_plot(\"Fig-Slopes/L-N3A-S-Res\")"
   ],
   "metadata": {
    "collapsed": false,
    "pycharm": {
     "name": "#%%\n"
    }
   }
  },
  {
   "cell_type": "markdown",
   "source": [
    "## Lungs\n",
    "### Circulating"
   ],
   "metadata": {
    "collapsed": false,
    "pycharm": {
     "name": "#%% md\n"
    }
   }
  },
  {
   "cell_type": "code",
   "execution_count": null,
   "outputs": [],
   "source": [
    "fa.header_clipping(\"WT\")\n",
    "fa.header_clipping(\"T8A\")\n",
    "fa.header_clipping(\"N3A\")\n",
    "\n",
    "wt_p_headers = [\n",
    "    \"Tissue\",\n",
    "    \"Condition\",\n",
    "    \"WTSP_Num\",\n",
    "    \"T8ASP_Num\",\n",
    "    \"N3ASP_Num\",\n",
    "    \"CD8p_WTT8ADP_Num\",\n",
    "    \"CD8p_WTN3ADP_Num\",\n",
    "    \"CD8p_N3AT8ADP_Num\",\n",
    "    \"CD8p_TriplePos_Num\",\n",
    "    \"CD8p_Num\",\n",
    "]\n",
    "t8a_p_headers = [\n",
    "    \"Tissue\",\n",
    "    \"T8A Primary\",\n",
    "    \"CD8p_WTSP_Num\",\n",
    "    \"CD8p_T8ASP_Num\",\n",
    "    \"CD8p_N3ASP_Num\",\n",
    "    \"CD8p_WTT8ADP_Num\",\n",
    "    \"CD8p_WTN3ADP_Num\",\n",
    "    \"CD8p_N3AT8ADP_Num\",\n",
    "    \"CD8p_TriplePos_Num\",\n",
    "    \"CD8p_Num\",\n",
    "]\n",
    "n3a_p_headers = [\n",
    "    \"Tissue\",\n",
    "    \"Infection\",\n",
    "    \"CD8p_WTSP_Num\",\n",
    "    \"CD8p_T8ASP_Num\",\n",
    "    \"CD8p_N3ASP_Num\",\n",
    "    \"CD8p_WTT8ADP_Num\",\n",
    "    \"CD8p_N3AWTDP_Num\",\n",
    "    \"CD8p_N3AT8ADP_Num\",\n",
    "    \"CD8p_TriplePos_Num\",\n",
    "    \"CD8+CD45-_Norm_Num\",\n",
    "]\n",
    "\n",
    "wt_p_time_names = fa.time_name_list(\"WT\", wt_p_headers)\n",
    "t8a_p_time_names = fa.time_name_list(\"T8A\", t8a_p_headers)\n",
    "n3a_p_time_names = fa.time_name_list(\"N3A\", n3a_p_headers)\n",
    "\n",
    "wt_lungs_cir_exp = fa.data_extraction(\n",
    "    \"WT\",\n",
    "    \"lungs\",\n",
    "    wt_p_headers,\n",
    "    wt_p_time_names,\n",
    "    standard_names=time_names,\n",
    "    timepoints=5,\n",
    ")\n",
    "t8a_lungs_cir_exp = fa.data_extraction(\n",
    "    \"T8A\",\n",
    "    \"lungs\",\n",
    "    t8a_p_headers,\n",
    "    t8a_p_time_names,\n",
    "    standard_names=time_names,\n",
    "    timepoints=5,\n",
    ")\n",
    "n3a_lungs_cir_exp = fa.data_extraction(\n",
    "    \"N3A\",\n",
    "    \"lungs\",\n",
    "    n3a_p_headers,\n",
    "    n3a_p_time_names,\n",
    "    standard_names=time_names,\n",
    "    timepoints=5,\n",
    ")"
   ],
   "metadata": {
    "collapsed": false,
    "pycharm": {
     "name": "#%%\n"
    }
   }
  },
  {
   "cell_type": "markdown",
   "source": [
    "#### Venn plots"
   ],
   "metadata": {
    "collapsed": false,
    "pycharm": {
     "name": "#%% md\n"
    }
   }
  },
  {
   "cell_type": "code",
   "execution_count": null,
   "outputs": [],
   "source": [
    "wt_lungs_cir_exp.venn_plot(\n",
    "    \"Fig-Venn/V-WT-L-Cir\", frequency=False, mean_only=mean_only_venn\n",
    ")\n",
    "wt_lungs_cir_exp.venn_plot(\n",
    "    \"Fig-Venn/V-WT-L-Cir-F\", frequency=True, labels=False, mean_only=mean_only_venn\n",
    ")"
   ],
   "metadata": {
    "collapsed": false,
    "pycharm": {
     "name": "#%%\n"
    }
   }
  },
  {
   "cell_type": "code",
   "execution_count": null,
   "outputs": [],
   "source": [
    "t8a_lungs_cir_exp.venn_plot(\n",
    "    \"Fig-Venn/V-T8A-L-Cir\", frequency=False, mean_only=mean_only_venn\n",
    ")\n",
    "t8a_lungs_cir_exp.venn_plot(\n",
    "    \"Fig-Venn/V-T8A-L-Cir-F\", frequency=True, labels=False, mean_only=mean_only_venn\n",
    ")"
   ],
   "metadata": {
    "collapsed": false,
    "pycharm": {
     "name": "#%%\n"
    }
   }
  },
  {
   "cell_type": "code",
   "execution_count": null,
   "outputs": [],
   "source": [
    "n3a_lungs_cir_exp.venn_plot(\n",
    "    \"Fig-Venn/V-N3A-L-Cir\", frequency=False, mean_only=mean_only_venn\n",
    ")\n",
    "n3a_lungs_cir_exp.venn_plot(\n",
    "    \"Fig-Venn/V-N3A-L-Cir-F\", frequency=True, labels=False, mean_only=mean_only_venn\n",
    ")"
   ],
   "metadata": {
    "collapsed": false,
    "pycharm": {
     "name": "#%%\n"
    }
   }
  },
  {
   "cell_type": "markdown",
   "source": [
    "#### Slopes"
   ],
   "metadata": {
    "collapsed": false,
    "pycharm": {
     "name": "#%% md\n"
    }
   }
  },
  {
   "cell_type": "code",
   "execution_count": null,
   "outputs": [],
   "source": [
    "wt_lungs_cir_exp.slope_plot(\"Fig-Slopes/L-WT-L-Cir\")"
   ],
   "metadata": {
    "collapsed": false,
    "pycharm": {
     "name": "#%%\n"
    }
   }
  },
  {
   "cell_type": "code",
   "execution_count": null,
   "outputs": [],
   "source": [
    "t8a_lungs_cir_exp.slope_plot(\"Fig-Slopes/L-T8A-L-Cir\")"
   ],
   "metadata": {
    "collapsed": false,
    "pycharm": {
     "name": "#%%\n"
    }
   }
  },
  {
   "cell_type": "code",
   "execution_count": null,
   "outputs": [],
   "source": [
    "n3a_lungs_cir_exp.slope_plot(\"Fig-Slopes/L-N3A-L-Cir\")"
   ],
   "metadata": {
    "collapsed": false,
    "pycharm": {
     "name": "#%%\n"
    }
   }
  },
  {
   "cell_type": "markdown",
   "source": [
    "### Resident"
   ],
   "metadata": {
    "collapsed": false,
    "pycharm": {
     "name": "#%% md\n"
    }
   }
  },
  {
   "cell_type": "code",
   "execution_count": null,
   "outputs": [],
   "source": [
    "fa.header_clipping(\"WT\", cd45=\"-\")\n",
    "fa.header_clipping(\"T8A\", cd45=\"-\")\n",
    "fa.header_clipping(\"N3A\", cd45=\"-\")\n",
    "\n",
    "wt_n_headers = [\n",
    "    \"Tissue\",\n",
    "    \"Condition\",\n",
    "    \"CD8n_WTSP_Num\",\n",
    "    \"CD8n_T8ASP_Num\",\n",
    "    \"CD8n_N3ASP_Num\",\n",
    "    \"CD8n_WTT8ADP_Num\",\n",
    "    \"CD8n_WTN3ADP_Num\",\n",
    "    \"CD8n_N3AT8ADP_Num\",\n",
    "    \"CD8n_Triplepos_Num\",\n",
    "    \"CD8n_Num\",\n",
    "]\n",
    "t8a_n_headers = [\n",
    "    \"Tissue\",\n",
    "    \"Infection\",\n",
    "    \"CD8p_WTSP_Num\",\n",
    "    \"CD8p_T8ASP_Num\",\n",
    "    \"CD8p_N3ASP_Num\",\n",
    "    \"CD8p_WTT8ADP_Num\",\n",
    "    \"CD8p_WTN3ADP_Num\",\n",
    "    \"CD8p_N3AT8ADP_Num\",\n",
    "    \"CD8p_TriplePos_Num\",\n",
    "    \"CD8n_Num\",\n",
    "]\n",
    "n3a_n_headers = [\n",
    "    \"Tissue\",\n",
    "    \"Infection\",\n",
    "    \"CD8n_WTSP_Num\",\n",
    "    \"CD8n_T8ASP_Num\",\n",
    "    \"CD8n_N3ASP_Num\",\n",
    "    \"CD8n_WTT8ADP_Num\",\n",
    "    \"CD8n_N3AWTDP_Num\",\n",
    "    \"CD8n_N3AT8ADP_Num\",\n",
    "    \"CD8n_TriplePos_Num\",\n",
    "    \"CD8+CD45-_Norm_Num\",\n",
    "]\n",
    "\n",
    "wt_n_time_names = fa.time_name_list(\"WT\", wt_n_headers, cd45=\"-\")\n",
    "t8a_n_time_names = fa.time_name_list(\"T8A\", t8a_n_headers, cd45=\"-\")\n",
    "n3a_n_time_names = fa.time_name_list(\"N3A\", n3a_n_headers, cd45=\"-\")\n",
    "\n",
    "wt_lungs_res_exp = fa.data_extraction(\n",
    "    \"WT\",\n",
    "    \"lungs\",\n",
    "    wt_n_headers,\n",
    "    wt_n_time_names,\n",
    "    standard_names=time_names,\n",
    "    cd45=\"-\",\n",
    "    timepoints=5,\n",
    ")\n",
    "t8a_lungs_res_exp = fa.data_extraction(\n",
    "    \"T8A\",\n",
    "    \"lungs\",\n",
    "    t8a_n_headers,\n",
    "    t8a_n_time_names,\n",
    "    standard_names=time_names,\n",
    "    cd45=\"-\",\n",
    "    timepoints=5,\n",
    ")\n",
    "n3a_lungs_res_exp = fa.data_extraction(\n",
    "    \"N3A\",\n",
    "    \"lungs\",\n",
    "    n3a_n_headers,\n",
    "    n3a_n_time_names,\n",
    "    standard_names=time_names,\n",
    "    cd45=\"-\",\n",
    "    timepoints=5,\n",
    ")"
   ],
   "metadata": {
    "collapsed": false,
    "pycharm": {
     "name": "#%%\n"
    }
   }
  },
  {
   "cell_type": "markdown",
   "source": [
    "#### Venn plots"
   ],
   "metadata": {
    "collapsed": false,
    "pycharm": {
     "name": "#%% md\n"
    }
   }
  },
  {
   "cell_type": "code",
   "execution_count": null,
   "outputs": [],
   "source": [
    "wt_lungs_res_exp.venn_plot(\n",
    "    \"Fig-Venn/V-WT-L-Res\", frequency=False, mean_only=mean_only_venn\n",
    ")\n",
    "wt_lungs_res_exp.venn_plot(\n",
    "    \"Fig-Venn/V-WT-L-Res-F\", frequency=True, labels=False, mean_only=mean_only_venn\n",
    ")"
   ],
   "metadata": {
    "collapsed": false,
    "pycharm": {
     "name": "#%%\n"
    }
   }
  },
  {
   "cell_type": "code",
   "execution_count": null,
   "outputs": [],
   "source": [
    "t8a_lungs_res_exp.venn_plot(\n",
    "    \"Fig-Venn/V-T8A-L-Res\", frequency=False, mean_only=mean_only_venn\n",
    ")\n",
    "t8a_lungs_res_exp.venn_plot(\n",
    "    \"Fig-Venn/V-T8A-L-Res-F\", frequency=True, labels=False, mean_only=mean_only_venn\n",
    ")"
   ],
   "metadata": {
    "collapsed": false,
    "pycharm": {
     "name": "#%%\n"
    }
   }
  },
  {
   "cell_type": "code",
   "execution_count": null,
   "outputs": [],
   "source": [
    "n3a_lungs_res_exp.venn_plot(\n",
    "    \"Fig-Venn/V-N3A-L-Res\", frequency=False, mean_only=mean_only_venn\n",
    ")\n",
    "n3a_lungs_res_exp.venn_plot(\n",
    "    \"Fig-Venn/V-N3A-L-Res-F\", frequency=True, labels=False, mean_only=mean_only_venn\n",
    ")"
   ],
   "metadata": {
    "collapsed": false,
    "pycharm": {
     "name": "#%%\n"
    }
   }
  },
  {
   "cell_type": "markdown",
   "source": [
    "#### Slopes"
   ],
   "metadata": {
    "collapsed": false,
    "pycharm": {
     "name": "#%% md\n"
    }
   }
  },
  {
   "cell_type": "code",
   "execution_count": null,
   "outputs": [],
   "source": [
    "wt_lungs_res_exp.slope_plot(\"Fig-Slopes/L-WT-L-Res\")"
   ],
   "metadata": {
    "collapsed": false,
    "pycharm": {
     "name": "#%%\n"
    }
   }
  },
  {
   "cell_type": "code",
   "execution_count": null,
   "outputs": [],
   "source": [
    "t8a_lungs_res_exp.slope_plot(\"Fig-Slopes/L-T8A-L-Res\")"
   ],
   "metadata": {
    "collapsed": false,
    "pycharm": {
     "name": "#%%\n"
    }
   }
  },
  {
   "cell_type": "code",
   "execution_count": null,
   "outputs": [],
   "source": [
    "n3a_lungs_res_exp.slope_plot(\"Fig-Slopes/L-N3A-L-Res\")"
   ],
   "metadata": {
    "collapsed": false,
    "pycharm": {
     "name": "#%%\n"
    }
   }
  },
  {
   "cell_type": "markdown",
   "source": [
    "# Stats\n",
    "## WT Priming\n",
    "### Spleen\n",
    "#### Circulating"
   ],
   "metadata": {
    "collapsed": false,
    "pycharm": {
     "name": "#%% md\n"
    }
   }
  },
  {
   "cell_type": "code",
   "execution_count": null,
   "outputs": [],
   "source": [
    "wt_spleen_cir_exp.correlation_heatmap(\n",
    "    timepoints=[0, 1, 2, 3, 4], show=True, file_name=\"full_test\"\n",
    ")"
   ],
   "metadata": {
    "collapsed": false,
    "pycharm": {
     "name": "#%%\n"
    }
   }
  },
  {
   "cell_type": "code",
   "execution_count": null,
   "outputs": [],
   "source": [
    "for timepoint in stats_timepoints:\n",
    "    wt_spleen_cir_exp.correlation_heatmap(\n",
    "        timepoint, file_name=f\"Fig-Correlations/WT-{timepoint.split(' ')[0]}-S-Cir\"\n",
    "    )"
   ],
   "metadata": {
    "collapsed": false,
    "pycharm": {
     "name": "#%%\n"
    }
   }
  },
  {
   "cell_type": "markdown",
   "source": [
    "#### Resident"
   ],
   "metadata": {
    "collapsed": false,
    "pycharm": {
     "name": "#%% md\n"
    }
   }
  },
  {
   "cell_type": "code",
   "execution_count": null,
   "outputs": [],
   "source": [
    "for timepoint in stats_timepoints:\n",
    "    wt_spleen_res_exp.correlation_heatmap(\n",
    "        timepoint, file_name=f\"Fig-Correlations/WT-{timepoint.split(' ')[0]}-S-Res\"\n",
    "    )"
   ],
   "metadata": {
    "collapsed": false,
    "pycharm": {
     "name": "#%%\n"
    }
   }
  },
  {
   "cell_type": "markdown",
   "source": [
    "### Lungs\n",
    "#### Circulating"
   ],
   "metadata": {
    "collapsed": false,
    "pycharm": {
     "name": "#%% md\n"
    }
   }
  },
  {
   "cell_type": "code",
   "execution_count": null,
   "outputs": [],
   "source": [
    "for timepoint in stats_timepoints:\n",
    "    wt_lungs_cir_exp.correlation_heatmap(\n",
    "        timepoint, file_name=f\"Fig-Correlations/WT-{timepoint.split(' ')[0]}-L-Cir\"\n",
    "    )"
   ],
   "metadata": {
    "collapsed": false,
    "pycharm": {
     "name": "#%%\n"
    }
   }
  },
  {
   "cell_type": "markdown",
   "source": [
    "#### Resident"
   ],
   "metadata": {
    "collapsed": false,
    "pycharm": {
     "name": "#%% md\n"
    }
   }
  },
  {
   "cell_type": "code",
   "execution_count": null,
   "outputs": [],
   "source": [
    "for timepoint in stats_timepoints:\n",
    "    wt_lungs_res_exp.correlation_heatmap(\n",
    "        timepoint, file_name=f\"Fig-Correlations/WT-{timepoint.split(' ')[0]}-L-Res\"\n",
    "    )"
   ],
   "metadata": {
    "collapsed": false,
    "pycharm": {
     "name": "#%%\n"
    }
   }
  },
  {
   "cell_type": "markdown",
   "source": [
    "## T8A Priming\n",
    "### Spleen\n",
    "#### Circulating"
   ],
   "metadata": {
    "collapsed": false,
    "pycharm": {
     "name": "#%% md\n"
    }
   }
  },
  {
   "cell_type": "code",
   "execution_count": null,
   "outputs": [],
   "source": [
    "for timepoint in stats_timepoints:\n",
    "    t8a_spleen_cir_exp.correlation_heatmap(\n",
    "        timepoint, file_name=f\"Fig-Correlations/T8A-{timepoint.split(' ')[0]}-S-Cir\"\n",
    "    )"
   ],
   "metadata": {
    "collapsed": false,
    "pycharm": {
     "name": "#%%\n"
    }
   }
  },
  {
   "cell_type": "markdown",
   "source": [
    "#### Resident"
   ],
   "metadata": {
    "collapsed": false,
    "pycharm": {
     "name": "#%% md\n"
    }
   }
  },
  {
   "cell_type": "code",
   "execution_count": null,
   "outputs": [],
   "source": [
    "for timepoint in stats_timepoints:\n",
    "    t8a_spleen_res_exp.correlation_heatmap(\n",
    "        timepoint, file_name=f\"Fig-Correlations/T8A-{timepoint.split(' ')[0]}-S-Res\"\n",
    "    )"
   ],
   "metadata": {
    "collapsed": false,
    "pycharm": {
     "name": "#%%\n"
    }
   }
  },
  {
   "cell_type": "markdown",
   "source": [
    "### Lungs\n",
    "#### Circulating"
   ],
   "metadata": {
    "collapsed": false,
    "pycharm": {
     "name": "#%% md\n"
    }
   }
  },
  {
   "cell_type": "code",
   "execution_count": null,
   "outputs": [],
   "source": [
    "for timepoint in stats_timepoints:\n",
    "    t8a_lungs_cir_exp.correlation_heatmap(\n",
    "        timepoint, file_name=f\"Fig-Correlations/T8A-{timepoint.split(' ')[0]}-L-Cir\"\n",
    "    )"
   ],
   "metadata": {
    "collapsed": false,
    "pycharm": {
     "name": "#%%\n"
    }
   }
  },
  {
   "cell_type": "markdown",
   "source": [
    "#### Resident"
   ],
   "metadata": {
    "collapsed": false,
    "pycharm": {
     "name": "#%% md\n"
    }
   }
  },
  {
   "cell_type": "code",
   "execution_count": null,
   "outputs": [],
   "source": [
    "for timepoint in stats_timepoints:\n",
    "    t8a_lungs_res_exp.correlation_heatmap(\n",
    "        timepoint, file_name=f\"Fig-Correlations/T8A-{timepoint.split(' ')[0]}-L-Res\"\n",
    "    )"
   ],
   "metadata": {
    "collapsed": false,
    "pycharm": {
     "name": "#%%\n"
    }
   }
  },
  {
   "cell_type": "markdown",
   "source": [
    "## N3A Priming\n",
    "### Spleen\n",
    "#### Circulating"
   ],
   "metadata": {
    "collapsed": false,
    "pycharm": {
     "name": "#%% md\n"
    }
   }
  },
  {
   "cell_type": "code",
   "execution_count": null,
   "outputs": [],
   "source": [
    "for timepoint in stats_timepoints:\n",
    "    n3a_spleen_cir_exp.correlation_heatmap(\n",
    "        timepoint, file_name=f\"Fig-Correlations/N3A-{timepoint.split(' ')[0]}-S-Cir\"\n",
    "    )"
   ],
   "metadata": {
    "collapsed": false,
    "pycharm": {
     "name": "#%%\n"
    }
   }
  },
  {
   "cell_type": "markdown",
   "source": [
    "#### Resident"
   ],
   "metadata": {
    "collapsed": false,
    "pycharm": {
     "name": "#%% md\n"
    }
   }
  },
  {
   "cell_type": "code",
   "execution_count": null,
   "outputs": [],
   "source": [
    "for timepoint in stats_timepoints:\n",
    "    n3a_spleen_res_exp.correlation_heatmap(\n",
    "        timepoint, file_name=f\"Fig-Correlations/N3A-{timepoint.split(' ')[0]}-S-Res\"\n",
    "    )"
   ],
   "metadata": {
    "collapsed": false,
    "pycharm": {
     "name": "#%%\n"
    }
   }
  },
  {
   "cell_type": "markdown",
   "source": [
    "### Lungs\n",
    "#### Circulating"
   ],
   "metadata": {
    "collapsed": false,
    "pycharm": {
     "name": "#%% md\n"
    }
   }
  },
  {
   "cell_type": "code",
   "execution_count": null,
   "outputs": [],
   "source": [
    "for timepoint in stats_timepoints:\n",
    "    n3a_lungs_cir_exp.correlation_heatmap(\n",
    "        timepoint, file_name=f\"Fig-Correlations/N3A-{timepoint.split(' ')[0]}-L-Cir\"\n",
    "    )"
   ],
   "metadata": {
    "collapsed": false,
    "pycharm": {
     "name": "#%%\n"
    }
   }
  },
  {
   "cell_type": "markdown",
   "source": [
    "#### Resident"
   ],
   "metadata": {
    "collapsed": false,
    "pycharm": {
     "name": "#%% md\n"
    }
   }
  },
  {
   "cell_type": "code",
   "execution_count": null,
   "outputs": [],
   "source": [
    "for timepoint in stats_timepoints:\n",
    "    n3a_lungs_res_exp.correlation_heatmap(\n",
    "        timepoint, file_name=f\"Fig-Correlations/N3A-{timepoint.split(' ')[0]}-L-Res\"\n",
    "    )"
   ],
   "metadata": {
    "collapsed": false,
    "pycharm": {
     "name": "#%%\n"
    }
   }
  }
 ],
 "metadata": {
  "kernelspec": {
   "display_name": "Python 3 (ipykernel)",
   "language": "python",
   "name": "python3"
  },
  "language_info": {
   "codemirror_mode": {
    "name": "ipython",
    "version": 3
   },
   "file_extension": ".py",
   "mimetype": "text/x-python",
   "name": "python",
   "nbconvert_exporter": "python",
   "pygments_lexer": "ipython3",
   "version": "3.7.11"
  }
 },
 "nbformat": 4,
 "nbformat_minor": 5
}
