{
 "cells": [
  {
   "cell_type": "code",
   "execution_count": 1,
   "id": "d50db85a",
   "metadata": {},
   "outputs": [],
   "source": [
    "%matplotlib inline"
   ]
  },
  {
   "cell_type": "code",
   "execution_count": 2,
   "id": "d5c63525",
   "metadata": {},
   "outputs": [],
   "source": [
    "import pandas as pd\n",
    "import plotly.express as px\n",
    "import plotly.graph_objects as go\n",
    "from plotly.subplots import make_subplots\n",
    "\n",
    "from flowanalysis import definitions as fa"
   ]
  },
  {
   "cell_type": "markdown",
   "id": "c26935c1",
   "metadata": {
    "pycharm": {
     "name": "#%% md\n"
    }
   },
   "source": [
    "import csv\n",
    "import numpy as np\n",
    "import scipy\n",
    "import matplotlib.pyplot as plt\n",
    "from matplotlib_venn import venn3, venn3_circles"
   ]
  },
  {
   "cell_type": "markdown",
   "id": "094d9775",
   "metadata": {
    "pycharm": {
     "name": "#%% md\n"
    }
   },
   "source": [
    "plt.rcParams.update({\"text.usetex\": True})\n",
    "plt.rcParams[\"text.latex.preamble\"] = r\"\\usepackage{graphicx}\"\n",
    "plt.rcParams[\"font.family\"] = \"serif\"\n",
    "plt.rcParams[\"mathtext.fontset\"] = \"dejavuserif\""
   ]
  },
  {
   "cell_type": "code",
   "execution_count": 3,
   "id": "0891bb2b",
   "metadata": {},
   "outputs": [],
   "source": [
    "timeNames = (\"Primary\", \"Memory\", \"WT challenge\", \"T8A challege\", \"N3A challenge\")\n",
    "naiveColumns = (\"WT column\", \"T8A column\", \"N3A column\")\n",
    "tetramerNames = (\"WT\", \"T8A\", \"N3A\")"
   ]
  },
  {
   "cell_type": "markdown",
   "id": "e24b73c1",
   "metadata": {},
   "source": [
    "# Data formating\n",
    "\n",
    "For each timepoint and sample the data needs to be formated as a 7-tuple, ordered as follows:\n",
    "1. WT single positive cells\n",
    "2. T8A single positive cells\n",
    "3. WT + T8A double positive cells\n",
    "4. N3A single positive cells\n",
    "5. WT + N3A double positive cells\n",
    "6. T8A + N3A double positive cells\n",
    "7. WT + T8A + N3A triple positive cells\n",
    "\n",
    "For each priming infection the data is stored on a list indexed as follows:\n",
    "1. Mouse\n",
    "2. Timepoint\n",
    "\n",
    "If there are fewer mice on one of the timepoints the remaining entries on the list must be (-1, 0, 0, 0, 0, 0, 0) to make sure that the mean is correctly calculated"
   ]
  },
  {
   "cell_type": "markdown",
   "id": "ff12190a",
   "metadata": {},
   "source": [
    "# Spleen circulating"
   ]
  },
  {
   "cell_type": "code",
   "execution_count": 4,
   "id": "b8821793",
   "metadata": {},
   "outputs": [
    {
     "name": "stdout",
     "output_type": "stream",
     "text": [
      "['Mouse', 'Cell_Count', 'Tissue', 'Condition', 'Sample:', 'Lymphocytes', 'Singlets', 'Live Cells', 'F480 B220 Negative', 'CD8p_Freq', 'CD8p_Norm_Freq', 'CD8p_Num', 'CD8p_N3ATotal_Freq', 'CD8p_N3ATotal_Num', 'CD8p_T8ATotal_Freq', 'CD8p_T8ATotal_Num', 'CD8p_WTTotal_Freq', 'CD8p_WTTotal_Num', 'CD8p_TriplePos_Freq', 'CD8p_TriplePos_Num', 'CD8p_N3AT8ADP_Freq', 'CD8p_N3AT8ADP_Num', 'CD8p_WTN3ADP_Freq', 'CD8p_WTN3ADP_Num', 'CD8p_WTT8ADP_Freq', 'CD8p_WTT8ADP_Num', 'WTSP_Freq', 'WTSP_Num', 'N3ASP_Freq', 'N3ASP_Num', 'T8ASP_Freq', 'T8ASP_Num']\n",
      "['Mouse', 'Cell Count', 'Tissue', 'T8A Primary', 'Sample:', 'Lymphocytes', 'Singlets', 'Live Cells', 'F480 B220 Negative', 'CD8p_Freq', 'CD8p_Norm_Freq', 'CD8p_Num', 'CD8p_N3ATotal_Freq', 'CD8p_N3ATotal_Num', 'CD8p_T8ATotal_Freq', 'CD8p_T8ATotal_Num', 'CD8p_WTTotal_Freq', 'CD8p_WTTotal_Num', 'CD8p_TriplePos_Freq', 'CD8p_TriplePos_Num', 'CD8p_N3AT8ADP_Freq', 'CD8p_N3AT8ADP_Num', 'CD8p_WTN3ADP_Freq', 'CD8p_WTN3ADP_Num', 'CD8p_WTT8ADP_Freq', 'CD8p_WTT8ADP_Num', 'CD8p_WTSP_Freq', 'CD8p_WTSP_Num', 'CD8p_N3ASP_Freq', 'CD8p_N3ASP_Num', 'CD8p_T8ASP_Freq', 'CD8p_T8ASP_Num']\n",
      "['Mouse', 'Tissue', 'Cell Count', 'Infection', 'Sample:', 'Lymphocytes', 'Singlets', 'Live Cells', 'B220F480Neg', 'CD8+', 'CD8+CD45-_Freq', 'CD8+CD45-_Norm_Freq', 'CD8+CD45-_Norm_Num', 'CD8p_N3ATotal_Freq', 'CD8p_N3ATotal_Num', 'CD8p_T8ATotal_Freq', 'CD8p_T8ATotal_Num', 'CD8p_WTTotal_Freq', 'CD8p_WTTotal_Num', 'N3A Neg', 'T8A Neg', 'WT Neg', 'CD8p_TriplePos_Freq', 'CD8p_TriplePos_Num', 'CD8p_N3AT8ADP_Freq', 'CD8p_N3AT8ADP_Num', 'CD8p_N3AWTDP_Freq', 'CD8p_N3AWTDP_Num', 'CD8p_N3ASP_Freq', 'CD8p_N3ASP_Num', 'CD8p_WTT8ADP_Freq', 'CD8p_WTT8ADP_Num', 'CD8p_T8ASP_Freq', 'CD8p_T8ASP_Num', 'CD8p_WTSP_Freq', 'CD8p_WTSP_Num', 'Triple Neg', 'Triple Neg_Num']\n"
     ]
    }
   ],
   "source": [
    "fa.header_clipping(\"WT\", check=True)\n",
    "fa.header_clipping(\"T8A\", check=True)\n",
    "fa.header_clipping(\"N3A\", check=True)"
   ]
  },
  {
   "cell_type": "code",
   "execution_count": 5,
   "id": "17466647",
   "metadata": {},
   "outputs": [],
   "source": [
    "fa.header_clipping(\"WT\")\n",
    "fa.header_clipping(\"T8A\")\n",
    "fa.header_clipping(\"N3A\")\n",
    "\n",
    "wt_p_headers = [\n",
    "    \"Tissue\",\n",
    "    \"Condition\",\n",
    "    \"WTSP_Num\",\n",
    "    \"T8ASP_Num\",\n",
    "    \"CD8p_WTT8ADP_Num\",\n",
    "    \"N3ASP_Num\",\n",
    "    \"CD8p_WTN3ADP_Num\",\n",
    "    \"CD8p_N3AT8ADP_Num\",\n",
    "    \"CD8p_TriplePos_Num\",\n",
    "    \"CD8p_Num\",\n",
    "]\n",
    "t8a_p_headers = [\n",
    "    \"Tissue\",\n",
    "    \"T8A Primary\",\n",
    "    \"CD8p_WTSP_Num\",\n",
    "    \"CD8p_T8ASP_Num\",\n",
    "    \"CD8p_WTT8ADP_Num\",\n",
    "    \"CD8p_N3ASP_Num\",\n",
    "    \"CD8p_WTN3ADP_Num\",\n",
    "    \"CD8p_N3AT8ADP_Num\",\n",
    "    \"CD8p_TriplePos_Num\",\n",
    "    \"CD8p_Num\",\n",
    "]\n",
    "n3a_p_headers = [\n",
    "    \"Tissue\",\n",
    "    \"Infection\",\n",
    "    \"CD8p_WTSP_Num\",\n",
    "    \"CD8p_T8ASP_Num\",\n",
    "    \"CD8p_WTT8ADP_Num\",\n",
    "    \"CD8p_N3ASP_Num\",\n",
    "    \"CD8p_N3AWTDP_Num\",\n",
    "    \"CD8p_N3AT8ADP_Num\",\n",
    "    \"CD8p_TriplePos_Num\",\n",
    "    \"CD8+CD45-_Norm_Num\",\n",
    "]\n",
    "\n",
    "wt_p_time_names = fa.time_name_list(\"WT\", wt_p_headers)\n",
    "t8a_p_time_names = fa.time_name_list(\"T8A\", t8a_p_headers)\n",
    "n3a_p_time_names = fa.time_name_list(\"N3A\", n3a_p_headers)\n",
    "\n",
    "wt_p_data, wt_p_data_neg = fa.data_extraction(\n",
    "    \"WT\", \"spleen\", wt_p_headers, wt_p_time_names, timepoints=5\n",
    ")\n",
    "t8a_p_data, t8a_p_data_neg = fa.data_extraction(\n",
    "    \"T8A\", \"spleen\", t8a_p_headers, t8a_p_time_names, timepoints=5\n",
    ")\n",
    "n3a_p_data, n3a_p_data_neg = fa.data_extraction(\n",
    "    \"N3A\", \"spleen\", n3a_p_headers, n3a_p_time_names, timepoints=5\n",
    ")"
   ]
  },
  {
   "cell_type": "code",
   "execution_count": 6,
   "id": "089c1521",
   "metadata": {},
   "outputs": [
    {
     "name": "stderr",
     "output_type": "stream",
     "text": [
      "/Users/danny/anaconda3/envs/P37T2/lib/python3.7/site-packages/matplotlib_venn/_venn3.py:61: UserWarning: Circle C has zero area\n",
      "  warnings.warn(\"Circle C has zero area\")\n",
      "/Users/danny/anaconda3/envs/P37T2/lib/python3.7/site-packages/matplotlib_venn/_venn3.py:117: UserWarning: Bad circle positioning\n",
      "  warnings.warn(\"Bad circle positioning\")\n",
      "/Users/danny/anaconda3/envs/P37T2/lib/python3.7/site-packages/matplotlib_venn/_venn3.py:57: UserWarning: Circle B has zero area\n",
      "  warnings.warn(\"Circle B has zero area\")\n"
     ]
    }
   ],
   "source": [
    "fa.venn_plots(\n",
    "    5,\n",
    "    wt_p_data,\n",
    "    timeNames,\n",
    "    tetramerNames,\n",
    "    title=\"Spleen Circulating - WT primary\",\n",
    "    fileName=\"WT-C\",\n",
    ")"
   ]
  },
  {
   "cell_type": "code",
   "execution_count": 7,
   "id": "3c77288c",
   "metadata": {},
   "outputs": [
    {
     "name": "stderr",
     "output_type": "stream",
     "text": [
      "/Users/danny/anaconda3/envs/P37T2/lib/python3.7/site-packages/matplotlib_venn/_venn3.py:53: UserWarning: Circle A has zero area\n",
      "  warnings.warn(\"Circle A has zero area\")\n",
      "/Users/danny/anaconda3/envs/P37T2/lib/python3.7/site-packages/matplotlib_venn/_venn3.py:61: UserWarning: Circle C has zero area\n",
      "  warnings.warn(\"Circle C has zero area\")\n",
      "/Users/danny/anaconda3/envs/P37T2/lib/python3.7/site-packages/matplotlib_venn/_venn3.py:117: UserWarning: Bad circle positioning\n",
      "  warnings.warn(\"Bad circle positioning\")\n"
     ]
    }
   ],
   "source": [
    "fa.venn_plots(\n",
    "    5,\n",
    "    t8a_p_data,\n",
    "    timeNames,\n",
    "    tetramerNames,\n",
    "    title=\"Spleen Circulating - T8A primary\",\n",
    "    fileName=\"T8A-C\",\n",
    ")"
   ]
  },
  {
   "cell_type": "code",
   "execution_count": 8,
   "id": "abacc0d8",
   "metadata": {},
   "outputs": [
    {
     "name": "stderr",
     "output_type": "stream",
     "text": [
      "/Users/danny/anaconda3/envs/P37T2/lib/python3.7/site-packages/matplotlib_venn/_venn3.py:57: UserWarning: Circle B has zero area\n",
      "  warnings.warn(\"Circle B has zero area\")\n"
     ]
    }
   ],
   "source": [
    "fa.venn_plots(\n",
    "    5,\n",
    "    n3a_p_data,\n",
    "    timeNames,\n",
    "    tetramerNames,\n",
    "    title=\"Spleen Circulating - N3A primary\",\n",
    "    fileName=\"N3A-C\",\n",
    ")"
   ]
  },
  {
   "cell_type": "markdown",
   "id": "5126b82c",
   "metadata": {},
   "source": [
    "# Slopes"
   ]
  },
  {
   "cell_type": "markdown",
   "id": "fe49ad37",
   "metadata": {},
   "source": [
    "## Circulating"
   ]
  },
  {
   "cell_type": "code",
   "execution_count": 9,
   "id": "6d7498a5",
   "metadata": {},
   "outputs": [],
   "source": [
    "wt_p_means = fa.population_means(wt_p_data)\n",
    "t8a_p_means = fa.population_means(t8a_p_data)\n",
    "n3a_p_means = fa.population_means(n3a_p_data)\n",
    "\n",
    "wt_p_means_neg = fa.population_means(wt_p_data_neg)\n",
    "t8a_p_means_neg = fa.population_means(t8a_p_data_neg)\n",
    "n3a_p_means_neg = fa.population_means(n3a_p_data_neg)\n",
    "\n",
    "patch_names = [\n",
    "    \"WT\",\n",
    "    \"T8A\",\n",
    "    \"N3A\",\n",
    "    \"WT+T8A\",\n",
    "    \"WT+N3A\",\n",
    "    \"T8A+N3A\",\n",
    "    \"Triple positive\",\n",
    "    \"Triple negative\",\n",
    "]\n",
    "patch_indices = [0, 1, 3, 2, 4, 5, 6]\n",
    "times = [10, 70, 90]"
   ]
  },
  {
   "cell_type": "code",
   "execution_count": 10,
   "id": "998461eb",
   "metadata": {},
   "outputs": [],
   "source": [
    "fa.slope_plots(\n",
    "    \"Spleen circulating - WT primary\",\n",
    "    wt_p_means,\n",
    "    wt_p_means_neg,\n",
    "    times,\n",
    "    patch_names,\n",
    "    patch_indices,\n",
    "    fileName=\"WT-C-S\",\n",
    "    zeroline=True,\n",
    ")"
   ]
  },
  {
   "cell_type": "code",
   "execution_count": 11,
   "id": "d9ea4365",
   "metadata": {},
   "outputs": [],
   "source": [
    "fa.slope_plots(\n",
    "    \"Spleen circulating - T8A primary\",\n",
    "    t8a_p_means,\n",
    "    t8a_p_means_neg,\n",
    "    times,\n",
    "    patch_names,\n",
    "    patch_indices,\n",
    "    fileName=\"T8A-C-S\",\n",
    "    zeroline=True,\n",
    ")"
   ]
  },
  {
   "cell_type": "code",
   "execution_count": 12,
   "id": "d0e3f215",
   "metadata": {},
   "outputs": [],
   "source": [
    "fa.slope_plots(\n",
    "    \"Spleen circulating - N3A primary\",\n",
    "    n3a_p_means,\n",
    "    n3a_p_means_neg,\n",
    "    times,\n",
    "    patch_names,\n",
    "    patch_indices,\n",
    "    fileName=\"N3A-C-S\",\n",
    "    zeroline=True,\n",
    ")"
   ]
  },
  {
   "cell_type": "markdown",
   "id": "ef069445",
   "metadata": {},
   "source": [
    "## Resident"
   ]
  },
  {
   "cell_type": "code",
   "execution_count": 13,
   "id": "aac7a02f",
   "metadata": {},
   "outputs": [
    {
     "name": "stdout",
     "output_type": "stream",
     "text": [
      "['Mouse', 'Cell Count', 'Tissue', 'Condition', 'Sample:', 'Lymphocytes', 'Singlets', 'Live Cells', 'F480 B220 Negative', 'CD8n_Freq', 'CD8n_Norm_Freq', 'CD8n_Num', 'CD8n_N3ATotal_Freq', 'CD8n_N3ATotal_Num', 'CD8n_T8ATotal_Freq', 'CD8n_T8Atotal_Num', 'CD8n_WTTotal_Freq', 'CD8n_WTTotal_Num', 'CD8n_Triplepos_Freq', 'CD8n_Triplepos_Num', 'CD8n_N3AT8ADP_Freq', 'CD8n_N3AT8ADP_Num', 'CD8n_WTN3ADP_Freq', 'CD8n_WTN3ADP_Num', 'CD8n_WTT8ADP_Freq', 'CD8n_WTT8ADP_Num', 'CD8n_WTSP_Freq', 'CD8n_WTSP_Num', 'CD8n_N3ASP_Freq', 'CD8n_N3ASP_Num', 'CD8n_T8ASP_Freq', 'CD8n_T8ASP_Num', 'Triple Neg', 'total frequency tet+ cells']\n",
      "['Mouse', 'Cell Count', 'Tissue', 'Infection', 'Sample:', 'Lymphocytes', 'Singlets', 'Live Cells', 'F480 B220 Negative', 'CD8n_Freq', 'CD8n_Norm_Freq', 'CD8n_Num', 'CD8n_N3A_Total_Freq', 'CD8n_N3A_Total_Num', 'CD8n_T8ATotalFreq', 'CD8p_T8ATotal_Num', 'CD8p_WTTotal_Freq', 'CD8p_WTTotal_Num', 'CD8p_TriplePos_Freq', 'CD8p_TriplePos_Num', 'CD8p_N3AT8ADP_Freq', 'CD8p_N3AT8ADP_Num', 'CD8p_WTN3ADP_Freq', 'CD8p_WTN3ADP_Num', 'CD8p_WTT8ADP_Freq', 'CD8p_WTT8ADP_Num', 'CD8p_WTSP_Freq', 'CD8p_WTSP_Num', 'CD8p_N3ASP_Freq', 'CD8p_N3ASP_Num', 'CD8p_T8ASP_Freq', 'CD8p_T8ASP_Num']\n",
      "['Mouse', 'Tissue', 'Cell Count', 'Infection', 'Sample:', 'Lymphocytes', 'Singlets', 'Live Cells', 'B220F480Neg', 'CD8+', 'CD8+CD45-_Freq', 'CD8+CD45-_Norm_Freq', 'CD8+CD45-_Norm_Num', 'CD8n_N3ATotal_Freq', 'CD8n_N3ATotal_Num', 'CD8n_T8ATotal_Freq', 'CD8n_T8ATotal_Num', 'CD8n_WTTotal_Freq', 'CD8n_WTTotal_Num', 'N3A Neg', 'T8A Neg', 'WT Neg', 'CD8n_TriplePos_Freq', 'CD8n_TriplePos_Num', 'CD8n_N3AT8ADP_Freq', 'CD8n_N3AT8ADP_Num', 'CD8n_N3AWTDP_Freq', 'CD8n_N3AWTDP_Num', 'CD8n_N3ASP_Freq', 'CD8n_N3ASP_Num', 'CD8n_WTT8ADP_Freq', 'CD8n_WTT8ADP_Num', 'CD8n_T8ASP_Freq', 'CD8n_T8ASP_Num', 'CD8n_WTSP_Freq', 'CD8n_WTSP_Num', 'Triple Neg', 'Triple Neg_Num']\n"
     ]
    }
   ],
   "source": [
    "fa.header_clipping(\"WT\", cd45=\"-\", check=True)\n",
    "fa.header_clipping(\"T8A\", cd45=\"-\", check=True)\n",
    "fa.header_clipping(\"N3A\", cd45=\"-\", check=True)"
   ]
  },
  {
   "cell_type": "code",
   "execution_count": 14,
   "id": "adfd485e",
   "metadata": {},
   "outputs": [],
   "source": [
    "fa.header_clipping(\"WT\", cd45=\"-\")\n",
    "fa.header_clipping(\"T8A\", cd45=\"-\")\n",
    "fa.header_clipping(\"N3A\", cd45=\"-\")\n",
    "\n",
    "wt_n_headers = [\n",
    "    \"Tissue\",\n",
    "    \"Condition\",\n",
    "    \"CD8n_WTSP_Num\",\n",
    "    \"CD8n_T8ASP_Num\",\n",
    "    \"CD8n_WTT8ADP_Num\",\n",
    "    \"CD8n_N3ASP_Num\",\n",
    "    \"CD8n_WTN3ADP_Num\",\n",
    "    \"CD8n_N3AT8ADP_Num\",\n",
    "    \"CD8n_Triplepos_Num\",\n",
    "    \"CD8n_Num\",\n",
    "]\n",
    "t8a_n_headers = [\n",
    "    \"Tissue\",\n",
    "    \"Infection\",\n",
    "    \"CD8p_WTSP_Num\",\n",
    "    \"CD8p_T8ASP_Num\",\n",
    "    \"CD8p_WTT8ADP_Num\",\n",
    "    \"CD8p_N3ASP_Num\",\n",
    "    \"CD8p_WTN3ADP_Num\",\n",
    "    \"CD8p_N3AT8ADP_Num\",\n",
    "    \"CD8p_TriplePos_Num\",\n",
    "    \"CD8n_Num\",\n",
    "]\n",
    "n3a_n_headers = [\n",
    "    \"Tissue\",\n",
    "    \"Infection\",\n",
    "    \"CD8n_WTSP_Num\",\n",
    "    \"CD8n_T8ASP_Num\",\n",
    "    \"CD8n_WTT8ADP_Num\",\n",
    "    \"CD8n_N3ASP_Num\",\n",
    "    \"CD8n_N3AWTDP_Num\",\n",
    "    \"CD8n_N3AT8ADP_Num\",\n",
    "    \"CD8n_TriplePos_Num\",\n",
    "    \"CD8+CD45-_Norm_Num\",\n",
    "]\n",
    "\n",
    "wt_n_time_names = fa.time_name_list(\"WT\", wt_n_headers, cd45=\"-\")\n",
    "t8a_n_time_names = fa.time_name_list(\"T8A\", t8a_n_headers, cd45=\"-\")\n",
    "n3a_n_time_names = fa.time_name_list(\"N3A\", n3a_n_headers, cd45=\"-\")\n",
    "\n",
    "wt_n_data, wt_n_data_neg = fa.data_extraction(\n",
    "    \"WT\", \"spleen\", wt_n_headers, wt_n_time_names, cd45=\"-\", timepoints=5\n",
    ")\n",
    "t8a_n_data, t8a_n_data_neg = fa.data_extraction(\n",
    "    \"T8A\", \"spleen\", t8a_n_headers, t8a_n_time_names, cd45=\"-\", timepoints=5\n",
    ")\n",
    "n3a_n_data, n3a_n_data_neg = fa.data_extraction(\n",
    "    \"N3A\", \"spleen\", n3a_n_headers, n3a_n_time_names, cd45=\"-\", timepoints=5\n",
    ")\n",
    "\n",
    "wt_n_means = fa.population_means(wt_n_data)\n",
    "t8a_n_means = fa.population_means(t8a_n_data)\n",
    "n3a_n_means = fa.population_means(n3a_n_data)\n",
    "\n",
    "wt_n_means_neg = fa.population_means(wt_n_data_neg)\n",
    "t8a_n_means_neg = fa.population_means(t8a_n_data_neg)\n",
    "n3a_n_means_neg = fa.population_means(n3a_n_data_neg)"
   ]
  },
  {
   "cell_type": "code",
   "execution_count": 15,
   "id": "320d8899",
   "metadata": {},
   "outputs": [],
   "source": [
    "fa.slope_plots(\n",
    "    \"Spleen resident - WT primary\",\n",
    "    wt_n_means,\n",
    "    wt_n_means_neg,\n",
    "    times,\n",
    "    patch_names,\n",
    "    patch_indices,\n",
    "    fileName=\"WT-R-S\",\n",
    "    zeroline=True,\n",
    ")"
   ]
  },
  {
   "cell_type": "code",
   "execution_count": 16,
   "id": "6e7be8d8",
   "metadata": {},
   "outputs": [],
   "source": [
    "fa.slope_plots(\n",
    "    \"Spleen resident - T8A primary\",\n",
    "    t8a_n_means,\n",
    "    t8a_n_means_neg,\n",
    "    times,\n",
    "    patch_names,\n",
    "    patch_indices,\n",
    "    fileName=\"T8A-R-S\",\n",
    "    zeroline=True,\n",
    ")"
   ]
  },
  {
   "cell_type": "code",
   "execution_count": 17,
   "id": "9e3abe86",
   "metadata": {},
   "outputs": [],
   "source": [
    "fa.slope_plots(\n",
    "    \"Spleen resident - N3A primary\",\n",
    "    n3a_n_means,\n",
    "    n3a_n_means_neg,\n",
    "    times,\n",
    "    patch_names,\n",
    "    patch_indices,\n",
    "    fileName=\"N3A-R-S\",\n",
    "    zeroline=True,\n",
    ")"
   ]
  },
  {
   "cell_type": "code",
   "execution_count": 18,
   "id": "d42becea",
   "metadata": {},
   "outputs": [],
   "source": [
    "fa.venn_plots(\n",
    "    5,\n",
    "    wt_n_data,\n",
    "    timeNames,\n",
    "    tetramerNames,\n",
    "    title=\"Spleen resident - WT primary\",\n",
    "    fileName=\"WT-R\",\n",
    ")"
   ]
  },
  {
   "cell_type": "code",
   "execution_count": 19,
   "id": "f0bb6700",
   "metadata": {},
   "outputs": [],
   "source": [
    "fa.venn_plots(\n",
    "    5,\n",
    "    t8a_n_data,\n",
    "    timeNames,\n",
    "    tetramerNames,\n",
    "    title=\"Spleen resident - T8A primary\",\n",
    "    fileName=\"T8A-R\",\n",
    ")"
   ]
  },
  {
   "cell_type": "code",
   "execution_count": 20,
   "id": "18a17664",
   "metadata": {},
   "outputs": [],
   "source": [
    "fa.venn_plots(\n",
    "    5,\n",
    "    n3a_n_data,\n",
    "    timeNames,\n",
    "    tetramerNames,\n",
    "    title=\"Spleen resident - N3A primary\",\n",
    "    fileName=\"N3A-R\",\n",
    ")"
   ]
  },
  {
   "cell_type": "markdown",
   "id": "c5c76d46",
   "metadata": {},
   "source": [
    "# Naive tests"
   ]
  },
  {
   "cell_type": "code",
   "execution_count": 21,
   "id": "5b7f9231",
   "metadata": {},
   "outputs": [
    {
     "name": "stdout",
     "output_type": "stream",
     "text": [
      "['Mouse', 'Tissue', 'Cell Count', 'Experiment', 'Stain for Column Selection', 'Sample:', 'Lymphocytes', 'Singlets', 'Live Cells', 'B220 F480 Neg', 'CD8_Freq', 'CD8_Num', 'CD8_N3ATotal_Freq', 'CD8_N3ATotal_Num', 'CD8_T8ATotal_Freq', 'CD8_T8ATotal_Num', 'CD8_WTTotal_Freq', 'CD8_WTTotal_Num', 'N3A Neg', 'T8A Neg', 'WT Neg', 'CD8_TriplePos_Freq', 'CD8_TriplePos_Num', 'CD8_N3AT8ADP_Freq', 'CD8_N3AT8ADP_Num', 'CD8_WTN3ADP_Freq', 'CD8_WTN3ADP_Num', 'CD8_N3ASP_Freq', 'CD8_N3ASP_Num', 'CD8_WTT8ADP_Freq', 'CD8_WTT8ADP_Num', 'CD8_T8ASP_Freq', 'CD8_T8ASP_Num', 'CD8_WTSP_Freq', 'CD8_WTSP_Num', 'CD8_TripleNeg_Freq', 'CD8_TripleNeg_Num']\n"
     ]
    }
   ],
   "source": [
    "fa.header_clipping(\"Naive\", check=True)"
   ]
  },
  {
   "cell_type": "code",
   "execution_count": 22,
   "id": "b287b8ae",
   "metadata": {},
   "outputs": [],
   "source": [
    "fa.header_clipping(\"Naive\")\n",
    "\n",
    "naive_headers = [\n",
    "    \"Tissue\",\n",
    "    \"Stain for Column Selection\",\n",
    "    \"CD8_WTSP_Num\",\n",
    "    \"CD8_T8ASP_Num\",\n",
    "    \"CD8_WTT8ADP_Num\",\n",
    "    \"CD8_N3ASP_Num\",\n",
    "    \"CD8_WTN3ADP_Num\",\n",
    "    \"CD8_N3AT8ADP_Num\",\n",
    "    \"CD8_TriplePos_Num\",\n",
    "    \"CD8_Num\",\n",
    "]\n",
    "\n",
    "naive_column_names = fa.time_name_list(\"Naive\", naive_headers)\n",
    "\n",
    "naive_data, naive_data_neg = fa.data_extraction(\n",
    "    \"Naive\", \"Spleen + Lymphnodes\", naive_headers, naive_column_names\n",
    ")\n",
    "\n",
    "naive_means = fa.population_means(naive_data)\n",
    "\n",
    "naive_means_neg = fa.population_means(naive_data_neg)"
   ]
  },
  {
   "cell_type": "code",
   "execution_count": 23,
   "id": "ffd72de6",
   "metadata": {},
   "outputs": [
    {
     "data": {
      "text/plain": "[(1061.4, 1470.4, 13558.2, 1602.8, 1573.2, 1359.2, 6932.2),\n (145.2, 1748.2, 298.2, 3082.0, 186.6, 473.6, 990.6),\n (478.4, 2174.0, 297.8, 90.0, 90.0, 0.0, 185.8)]"
     },
     "execution_count": 23,
     "metadata": {},
     "output_type": "execute_result"
    }
   ],
   "source": [
    "naive_means"
   ]
  },
  {
   "cell_type": "code",
   "execution_count": 24,
   "id": "92055103",
   "metadata": {},
   "outputs": [],
   "source": [
    "fa.venn_plots(\n",
    "    3,\n",
    "    naive_data,\n",
    "    naiveColumns,\n",
    "    tetramerNames,\n",
    "    title=\"Naive data\",\n",
    "    fileName=\"Naive-Venn\",\n",
    ")"
   ]
  },
  {
   "cell_type": "markdown",
   "id": "9da6d6ed",
   "metadata": {},
   "source": [
    "# Plotly tests"
   ]
  },
  {
   "cell_type": "markdown",
   "id": "b482a2d7",
   "metadata": {},
   "source": [
    "## Plots"
   ]
  },
  {
   "cell_type": "code",
   "execution_count": 27,
   "id": "84da1640",
   "metadata": {},
   "outputs": [],
   "source": [
    "data = [\n",
    "    wt_p_data,\n",
    "    t8a_p_data,\n",
    "    n3a_p_data,\n",
    "    wt_p_data_neg,\n",
    "    t8a_p_data_neg,\n",
    "    n3a_p_data_neg,\n",
    "]\n",
    "priming = [\"WT\", \"T8A\", \"N3A\"]\n",
    "time = [10, 70, 90, 90, 90]\n",
    "organ = [\"Spleen\", \"Spleen\", \"Spleen\"]\n",
    "cd45 = [\"-\", \"-\", \"-\"]\n",
    "columns = [\"Organ\", \"CD45\", \"Priming\", \"Time (dpi)\", \"Cells\", \"Tetramer\", \"Timepoint\"]\n",
    "infection_dict = {0: \"Primary\", 1: \"Memory\", 2: \"WT\", 3: \"T8A\", 4: \"N3A\"}\n",
    "patch_dict = {\n",
    "    0: \"WT\",\n",
    "    1: \"T8A\",\n",
    "    3: \"N3A\",\n",
    "    2: \"WT+T8A\",\n",
    "    4: \"WT+N3A\",\n",
    "    5: \"T8A+N3A\",\n",
    "    6: \"Triple positive\",\n",
    "}\n",
    "\n",
    "dataDF = fa.plot_dataframe(\n",
    "    data, priming, time, organ, cd45, columns, patch_dict, infection_dict\n",
    ")"
   ]
  },
  {
   "cell_type": "code",
   "execution_count": 31,
   "id": "19649be4",
   "metadata": {},
   "outputs": [],
   "source": [
    "fig = px.line(\n",
    "    dataDF[\n",
    "        (dataDF.Timepoint == \"Primary\")\n",
    "        | (dataDF.Timepoint == \"Memory\")\n",
    "        | (dataDF.Timepoint == \"WT\")\n",
    "    ],\n",
    "    x=\"Time (dpi)\",\n",
    "    y=\"Cells\",\n",
    "    color=\"Tetramer\",\n",
    "    title=\"Contration and expansion slopes\",\n",
    "    markers=True,\n",
    "    log_y=False  # ,\n",
    "    # symbol='Priming'\n",
    ")\n",
    "\n",
    "# fig.show()\n",
    "\n",
    "fig.write_html(\"single-slope-plot.html\")"
   ]
  },
  {
   "cell_type": "markdown",
   "id": "6ed03bb3",
   "metadata": {},
   "source": [
    "## Multi-col test"
   ]
  },
  {
   "cell_type": "code",
   "execution_count": 30,
   "id": "1754d741",
   "metadata": {
    "scrolled": false
   },
   "outputs": [],
   "source": [
    "times = [10, 70, 90]\n",
    "left_col = [0, 1, 2, 6, 7, 8, 12, 13, 14]\n",
    "right_col = [3, 4, 5, 9, 10, 11, 15, 16, 17]\n",
    "colours = [\"#29e0c3\", \"#f28b2e\", \"#34a0e0\"]\n",
    "tetramers = [\"WT\", \"T8A\", \"N3A\"]\n",
    "\n",
    "fig = go.Figure().set_subplots(\n",
    "    rows=3,\n",
    "    cols=2,\n",
    "    subplot_titles=(\n",
    "        \"WT primary\",\n",
    "        \"WT primary\",\n",
    "        \"T8A primary\",\n",
    "        \"T8A primary\",\n",
    "        \"N3A primary\",\n",
    "        \"N3A primary\",\n",
    "    ),\n",
    "    shared_xaxes=True,\n",
    "    shared_yaxes=True,\n",
    "    vertical_spacing=0.05,\n",
    ")\n",
    "\n",
    "fig.update_layout(\n",
    "    legend_title_text=\"Challenge infection\",\n",
    "    legend=dict(\n",
    "        yanchor=\"bottom\",\n",
    "        xanchor=\"center\",\n",
    "        y=1.02,\n",
    "        x=0.5,\n",
    "        orientation=\"h\",\n",
    "        font={\"size\": 18},\n",
    "    ),\n",
    "    height=1200,\n",
    "    width=750,\n",
    ")\n",
    "\n",
    "fig.update_xaxes(title_text=\"Time (dpi)\", row=3, col=1)\n",
    "fig.update_xaxes(title_text=\"Time (dpi)\", row=3, col=2)\n",
    "fig.update_xaxes(tickvals=[10, 70, 90], title_font={\"size\": 14})\n",
    "fig.update_yaxes(title_text=\"Cells\", title_font={\"size\": 14}, col=1)\n",
    "# fig.update_yaxes(type='log')\n",
    "# , rangemode='nonnegative')\n",
    "\n",
    "\n",
    "# WT primary\n",
    "\n",
    "# Left column\n",
    "for colour, challenge in enumerate(tetramers):\n",
    "    fig.add_trace(\n",
    "        go.Scatter(\n",
    "            x=times,\n",
    "            y=fa.separate_data(dataDF, \"WT\", challenge, \"WT\").Cells,\n",
    "            mode=\"lines+markers\",\n",
    "            name=challenge,\n",
    "            line=dict(color=colours[colour]),\n",
    "        ),\n",
    "        1,\n",
    "        1,\n",
    "    )\n",
    "\n",
    "\n",
    "# Right column\n",
    "for colour, challenge in enumerate(tetramers):\n",
    "    fig.add_trace(\n",
    "        go.Scatter(\n",
    "            x=times,\n",
    "            y=fa.separate_data(dataDF, \"WT\", challenge, \"WT\").Cells,\n",
    "            mode=\"lines+markers\",\n",
    "            name=challenge,\n",
    "            showlegend=False,\n",
    "            line=dict(color=colours[colour]),\n",
    "        ),\n",
    "        1,\n",
    "        2,\n",
    "    )\n",
    "\n",
    "# SEPARATE INTO ONE LINE FOR FIRST CONTRACTION AND 3 LINES FOR EXPASIONS\n",
    "\n",
    "\n",
    "# T8A primary\n",
    "\n",
    "# Left column\n",
    "for colour, challenge in enumerate(tetramers):\n",
    "    fig.add_trace(\n",
    "        go.Scatter(\n",
    "            x=times,\n",
    "            y=fa.separate_data(dataDF, \"T8A\", challenge, \"WT\").Cells,\n",
    "            mode=\"lines+markers\",\n",
    "            name=challenge,\n",
    "            showlegend=False,\n",
    "            line=dict(color=colours[colour]),\n",
    "        ),\n",
    "        2,\n",
    "        1,\n",
    "    )\n",
    "\n",
    "# Right column\n",
    "for colour, challenge in enumerate(tetramers):\n",
    "    fig.add_trace(\n",
    "        go.Scatter(\n",
    "            x=times,\n",
    "            y=fa.separate_data(dataDF, \"T8A\", challenge, \"WT\").Cells,\n",
    "            mode=\"lines+markers\",\n",
    "            name=challenge,\n",
    "            showlegend=False,\n",
    "            line=dict(color=colours[colour]),\n",
    "        ),\n",
    "        2,\n",
    "        2,\n",
    "    )\n",
    "\n",
    "# SEPARATE INTO ONE LINE FOR FIRST CONTRACTION AND 3 LINES FOR EXPASIONS\n",
    "\n",
    "\n",
    "# N3A primary\n",
    "\n",
    "# Left column\n",
    "for colour, challenge in enumerate(tetramers):\n",
    "    fig.add_trace(\n",
    "        go.Scatter(\n",
    "            x=times,\n",
    "            y=fa.separate_data(dataDF, \"N3A\", challenge, \"WT\").Cells,\n",
    "            mode=\"lines+markers\",\n",
    "            name=challenge,\n",
    "            showlegend=False,\n",
    "            line=dict(color=colours[colour]),\n",
    "        ),\n",
    "        3,\n",
    "        1,\n",
    "    )\n",
    "\n",
    "# Right column\n",
    "for colour, challenge in enumerate(tetramers):\n",
    "    fig.add_trace(\n",
    "        go.Scatter(\n",
    "            x=times,\n",
    "            y=fa.separate_data(dataDF, \"N3A\", challenge, \"WT\").Cells,\n",
    "            mode=\"lines+markers\",\n",
    "            name=challenge,\n",
    "            showlegend=False,\n",
    "            line=dict(color=colours[colour]),\n",
    "        ),\n",
    "        3,\n",
    "        2,\n",
    "    )\n",
    "\n",
    "# SEPARATE INTO ONE LINE FOR FIRST CONTRACTION AND 3 LINES FOR EXPASIONS\n",
    "\n",
    "fig.update_layout(\n",
    "    updatemenus=[\n",
    "        dict(\n",
    "            # type=\"buttons\",  # Remove for dropdown\n",
    "            direction=\"down\",  # down if dropdown, right if buttons\n",
    "            x=0.25,\n",
    "            y=1.06,\n",
    "            showactive=True,\n",
    "            xanchor=\"center\",\n",
    "            yanchor=\"bottom\",\n",
    "            buttons=list(\n",
    "                [\n",
    "                    dict(\n",
    "                        label=\"WT\",\n",
    "                        method=\"restyle\",\n",
    "                        args=[{\"y\": fa.data_update(dataDF, \"WT\")}, left_col],\n",
    "                    ),\n",
    "                    dict(\n",
    "                        label=\"T8A\",\n",
    "                        method=\"restyle\",\n",
    "                        args=[{\"y\": fa.data_update(dataDF, \"T8A\")}, left_col],\n",
    "                    ),\n",
    "                    dict(\n",
    "                        label=\"N3A\",\n",
    "                        method=\"restyle\",\n",
    "                        args=[{\"y\": fa.data_update(dataDF, \"N3A\")}, left_col],\n",
    "                    ),\n",
    "                    dict(\n",
    "                        label=\"WT+T8A\",\n",
    "                        method=\"restyle\",\n",
    "                        args=[{\"y\": fa.data_update(dataDF, \"WT+T8A\")}, left_col],\n",
    "                    ),\n",
    "                    dict(\n",
    "                        label=\"WT+N3A\",\n",
    "                        method=\"restyle\",\n",
    "                        args=[{\"y\": fa.data_update(dataDF, \"WT+N3A\")}, left_col],\n",
    "                    ),\n",
    "                    dict(\n",
    "                        label=\"T8A+N3A\",\n",
    "                        method=\"restyle\",\n",
    "                        args=[{\"y\": fa.data_update(dataDF, \"T8A+N3A\")}, left_col],\n",
    "                    ),\n",
    "                    dict(\n",
    "                        label=\"Triple positive\",\n",
    "                        method=\"restyle\",\n",
    "                        args=[\n",
    "                            {\"y\": fa.data_update(dataDF, \"Triple positive\")},\n",
    "                            left_col,\n",
    "                        ],\n",
    "                    ),\n",
    "                    dict(\n",
    "                        label=\"Triple negative\",\n",
    "                        method=\"restyle\",\n",
    "                        args=[\n",
    "                            {\"y\": fa.data_update(dataDF, \"Triple negative\")},\n",
    "                            left_col,\n",
    "                        ],\n",
    "                    ),\n",
    "                    dict(\n",
    "                        label=\"Total\",\n",
    "                        method=\"restyle\",\n",
    "                        args=[{\"y\": fa.data_update(dataDF, \"Total\")}, left_col],\n",
    "                    ),\n",
    "                ]\n",
    "            ),\n",
    "        ),\n",
    "        dict(\n",
    "            direction=\"down\",\n",
    "            x=0.75,\n",
    "            y=1.06,\n",
    "            showactive=True,\n",
    "            xanchor=\"center\",\n",
    "            yanchor=\"bottom\",\n",
    "            buttons=list(\n",
    "                [\n",
    "                    dict(\n",
    "                        label=\"WT\",\n",
    "                        method=\"restyle\",\n",
    "                        args=[{\"y\": fa.data_update(dataDF, \"WT\")}, right_col],\n",
    "                    ),\n",
    "                    dict(\n",
    "                        label=\"T8A\",\n",
    "                        method=\"restyle\",\n",
    "                        args=[{\"y\": fa.data_update(dataDF, \"T8A\")}, right_col],\n",
    "                    ),\n",
    "                    dict(\n",
    "                        label=\"N3A\",\n",
    "                        method=\"restyle\",\n",
    "                        args=[{\"y\": fa.data_update(dataDF, \"N3A\")}, right_col],\n",
    "                    ),\n",
    "                    dict(\n",
    "                        label=\"WT+T8A\",\n",
    "                        method=\"restyle\",\n",
    "                        args=[{\"y\": fa.data_update(dataDF, \"WT+T8A\")}, right_col],\n",
    "                    ),\n",
    "                    dict(\n",
    "                        label=\"WT+N3A\",\n",
    "                        method=\"restyle\",\n",
    "                        args=[{\"y\": fa.data_update(dataDF, \"WT+N3A\")}, right_col],\n",
    "                    ),\n",
    "                    dict(\n",
    "                        label=\"T8A+N3A\",\n",
    "                        method=\"restyle\",\n",
    "                        args=[{\"y\": fa.data_update(dataDF, \"T8A+N3A\")}, right_col],\n",
    "                    ),\n",
    "                    dict(\n",
    "                        label=\"Triple positive\",\n",
    "                        method=\"restyle\",\n",
    "                        args=[\n",
    "                            {\"y\": fa.data_update(dataDF, \"Triple positive\")},\n",
    "                            right_col,\n",
    "                        ],\n",
    "                    ),\n",
    "                    dict(\n",
    "                        label=\"Triple negative\",\n",
    "                        method=\"restyle\",\n",
    "                        args=[\n",
    "                            {\"y\": fa.data_update(dataDF, \"Triple negative\")},\n",
    "                            right_col,\n",
    "                        ],\n",
    "                    ),\n",
    "                    dict(\n",
    "                        label=\"Total\",\n",
    "                        method=\"restyle\",\n",
    "                        args=[{\"y\": fa.data_update(dataDF, \"Total\")}, right_col],\n",
    "                    ),\n",
    "                ]\n",
    "            ),\n",
    "        ),\n",
    "    ]\n",
    ")\n",
    "\n",
    "# fig.show()\n",
    "\n",
    "fig.write_html(\"slope-plots.html\")"
   ]
  },
  {
   "cell_type": "code",
   "execution_count": 32,
   "id": "a1d96173",
   "metadata": {},
   "outputs": [],
   "source": [
    "def data_test(positive_data, total_data):\n",
    "    print(\n",
    "        f\"{'Mouse' : ^9}{'Time' : ^8}{'Positive' : ^12}{'Total' : ^12}{'Fraction' : ^12}{'Correct' : ^11}\"\n",
    "    )\n",
    "    print(\"=\" * 64)\n",
    "    for mouse in range(len(positive_data)):\n",
    "        for time in range(len(positive_data[mouse])):\n",
    "            print(\n",
    "                f\"{mouse + 1 : ^9}{time + 1 : ^8}{sum(positive_data[mouse][time]) : ^12}{total_data[mouse][time][0] : ^12}{round(sum(positive_data[mouse][time]) / total_data[mouse][time][0], 5) : ^12}{sum(positive_data[mouse][time]) <= total_data[mouse][time][0] : ^11}\"\n",
    "            )"
   ]
  },
  {
   "cell_type": "code",
   "execution_count": 33,
   "id": "5063df6a",
   "metadata": {},
   "outputs": [
    {
     "name": "stdout",
     "output_type": "stream",
     "text": [
      "  Mouse    Time    Positive     Total      Fraction    Correct  \n",
      "================================================================\n",
      "    1       1       84100      4190000     0.02007        1     \n",
      "    1       2       16790       994000     0.01689        1     \n",
      "    1       3      9128700     26700000     0.3419        1     \n",
      "    1       4       125767     6060000     0.02075        1     \n",
      "    1       5      7558420     27900000    0.27091        1     \n",
      "    2       1       229240     7150000     0.03206        1     \n",
      "    2       2       56730      6030000     0.00941        1     \n",
      "    2       3      16179440    42800000    0.37802        1     \n",
      "    2       4       141180     4450000     0.03173        1     \n",
      "    2       5       501620     2640000     0.19001        1     \n",
      "    3       1       89800      4880000      0.0184        1     \n",
      "    3       2       64640      7180000      0.009         1     \n",
      "    3       3      4755630     12300000    0.38664        1     \n",
      "    3       4       303210     5470000     0.05543        1     \n",
      "    3       5      1007200     21400000    0.04707        1     \n",
      "    4       1         -1          -1         1.0          1     \n",
      "    4       2         -1          -1         1.0          1     \n",
      "    4       3         -1          -1         1.0          1     \n",
      "    4       4       156140     2070000     0.07543        1     \n",
      "    4       5         -1          -1         1.0          1     \n"
     ]
    }
   ],
   "source": [
    "data_test(n3a_p_data, n3a_p_data_neg)"
   ]
  },
  {
   "cell_type": "code",
   "execution_count": null,
   "id": "61bbe7e5",
   "metadata": {},
   "outputs": [],
   "source": []
  }
 ],
 "metadata": {
  "kernelspec": {
   "display_name": "Python 3 (ipykernel)",
   "language": "python",
   "name": "python3"
  },
  "language_info": {
   "codemirror_mode": {
    "name": "ipython",
    "version": 3
   },
   "file_extension": ".py",
   "mimetype": "text/x-python",
   "name": "python",
   "nbconvert_exporter": "python",
   "pygments_lexer": "ipython3",
   "version": "3.7.11"
  }
 },
 "nbformat": 4,
 "nbformat_minor": 5
}
