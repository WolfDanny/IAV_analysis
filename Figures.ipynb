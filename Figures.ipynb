{
 "cells": [
  {
   "cell_type": "code",
   "execution_count": 1,
   "id": "d50db85a",
   "metadata": {
    "pycharm": {
     "name": "#%%\n"
    }
   },
   "outputs": [],
   "source": [
    "%matplotlib inline"
   ]
  },
  {
   "cell_type": "code",
   "execution_count": 2,
   "id": "d5c63525",
   "metadata": {
    "pycharm": {
     "name": "#%%\n"
    }
   },
   "outputs": [],
   "source": [
    "import warnings\n",
    "import os\n",
    "import pandas as pd\n",
    "import plotly.express as px\n",
    "import plotly.graph_objects as go\n",
    "from plotly.subplots import make_subplots\n",
    "from copy import deepcopy\n",
    "from scipy import stats\n",
    "from scipy.special import comb\n",
    "\n",
    "import seaborn as sns\n",
    "import matplotlib.pyplot as plt\n",
    "\n",
    "import flowanalysis.definitions as fa"
   ]
  },
  {
   "cell_type": "code",
   "execution_count": 3,
   "outputs": [],
   "source": [
    "required_directories = [\n",
    "    \"Data/\",\n",
    "    \"ANOVA/WT/\",\n",
    "    \"ANOVA/N3A/\",\n",
    "    \"ANOVA/T8A/\",\n",
    "    \"ANOVA/Data/\",\n",
    "    \"Fig-Venn/\",\n",
    "    \"Fig-Slopes/\",\n",
    "    \"Fig-Correlations/\",\n",
    "]\n",
    "for directory in required_directories:\n",
    "    os.makedirs(os.path.dirname(directory), exist_ok=True)"
   ],
   "metadata": {
    "collapsed": false,
    "pycharm": {
     "name": "#%%\n"
    }
   }
  },
  {
   "cell_type": "markdown",
   "source": [
    "import csv\n",
    "import numpy as np\n",
    "import scipy\n",
    "import matplotlib.pyplot as plt\n",
    "from matplotlib_venn import venn3, venn3_circles"
   ],
   "metadata": {
    "collapsed": false,
    "pycharm": {
     "name": "#%% md\n"
    }
   }
  },
  {
   "cell_type": "code",
   "execution_count": 4,
   "outputs": [],
   "source": [
    "sns.set_style(\"ticks\")\n",
    "plt.rcParams.update({\"text.usetex\": True})\n",
    "plt.rcParams[\"text.latex.preamble\"] = r\"\\usepackage{graphicx}\"\n",
    "plt.rcParams[\"font.family\"] = \"serif\"\n",
    "plt.rcParams[\"mathtext.fontset\"] = \"dejavuserif\""
   ],
   "metadata": {
    "collapsed": false,
    "pycharm": {
     "name": "#%%\n"
    }
   }
  },
  {
   "cell_type": "code",
   "execution_count": 5,
   "outputs": [],
   "source": [
    "absolute_numbers = False\n",
    "mean_only_venn = True\n",
    "stats_challenges = [\"Memory\", \"WT challenge\", \"T8A challenge\", \"N3A challenge\"]"
   ],
   "metadata": {
    "collapsed": false,
    "pycharm": {
     "name": "#%%\n"
    }
   }
  },
  {
   "cell_type": "code",
   "execution_count": 6,
   "outputs": [],
   "source": [
    "time_names = (\"Primary\", \"Memory\", \"WT challenge\", \"T8A challenge\", \"N3A challenge\")\n",
    "naiveColumns = (\"WT column\", \"T8A column\", \"N3A column\")\n",
    "tetramerNames = (\"WT\", \"T8A\", \"N3A\")\n",
    "naive_stats_column_names = [\n",
    "    \"SP [WT]\",\n",
    "    \"T8A [WT]\",\n",
    "    \"N3A [WT]\",\n",
    "    \"TP [WT]\",\n",
    "    \"SP [T8A]\",\n",
    "    \"WT [T8A]\",\n",
    "    \"N3A [T8A]\",\n",
    "    \"TP [T8A]\",\n",
    "    \"SP [N3A]\",\n",
    "    \"WT [N3A]\",\n",
    "    \"T8A [N3A]\",\n",
    "    \"TP [N3A]\",\n",
    "]"
   ],
   "metadata": {
    "collapsed": false,
    "pycharm": {
     "name": "#%%\n"
    }
   }
  },
  {
   "cell_type": "markdown",
   "source": [
    "# Data formating\n",
    "\n",
    "For each timepoint and sample the data needs to be formated as a 7-tuple, ordered as follows:\n",
    "1. WT single positive cells\n",
    "2. T8A single positive cells\n",
    "3. WT + T8A double positive cells\n",
    "4. N3A single positive cells\n",
    "5. WT + N3A double positive cells\n",
    "6. T8A + N3A double positive cells\n",
    "7. WT + T8A + N3A triple positive cells\n",
    "\n",
    "For each priming infection the data is stored on a list indexed as follows:\n",
    "1. Mouse\n",
    "2. Timepoint\n",
    "\n",
    "If there are fewer mice on one of the timepoints the remaining entries on the list must be (-1, 0, 0, 0, 0, 0, 0) to make sure that the mean is correctly calculated\n",
    "\n",
    "When reading the data the headers are put in a list ordred as follows:\n",
    "1. Tissue\n",
    "2. Timepoint\n",
    "3. WT single positive cells\n",
    "4. T8A single positive cells\n",
    "5. WT + T8A double positive cells\n",
    "6. N3A single positive cells\n",
    "7. N3A + WT double positive cells\n",
    "8. N3A + T8A double positive cells\n",
    "9. WT + T8A + N3A triple positive cells\n",
    "10. Total CD8 cells"
   ],
   "metadata": {
    "collapsed": false,
    "pycharm": {
     "name": "#%% md\n"
    }
   }
  },
  {
   "cell_type": "markdown",
   "source": [
    "# Spleen\n",
    "## Circulating"
   ],
   "metadata": {
    "collapsed": false,
    "pycharm": {
     "name": "#%% md\n"
    }
   }
  },
  {
   "cell_type": "code",
   "execution_count": 7,
   "outputs": [
    {
     "name": "stdout",
     "output_type": "stream",
     "text": [
      "['Mouse', 'Cell_Count', 'Tissue', 'Condition', 'Sample:', 'Lymphocytes', 'Singlets', 'Live Cells', 'F480 B220 Negative', 'CD8p_Freq', 'CD8p_Norm_Freq', 'CD8p_Num', 'CD8p_N3ATotal_Freq', 'CD8p_N3ATotal_Num', 'CD8p_T8ATotal_Freq', 'CD8p_T8ATotal_Num', 'CD8p_WTTotal_Freq', 'CD8p_WTTotal_Num', 'CD8p_TriplePos_Freq', 'CD8p_TriplePos_Num', 'CD8p_N3AT8ADP_Freq', 'CD8p_N3AT8ADP_Num', 'CD8p_WTN3ADP_Freq', 'CD8p_WTN3ADP_Num', 'CD8p_WTT8ADP_Freq', 'CD8p_WTT8ADP_Num', 'WTSP_Freq', 'WTSP_Num', 'N3ASP_Freq', 'N3ASP_Num', 'T8ASP_Freq', 'T8ASP_Num']\n",
      "['Mouse', 'Cell Count', 'Tissue', 'T8A Primary', 'Sample:', 'Lymphocytes', 'Singlets', 'Live Cells', 'F480 B220 Negative', 'CD8p_Freq', 'CD8p_Norm_Freq', 'CD8p_Num', 'CD8p_N3ATotal_Freq', 'CD8p_N3ATotal_Num', 'CD8p_T8ATotal_Freq', 'CD8p_T8ATotal_Num', 'CD8p_WTTotal_Freq', 'CD8p_WTTotal_Num', 'CD8p_TriplePos_Freq', 'CD8p_TriplePos_Num', 'CD8p_N3AT8ADP_Freq', 'CD8p_N3AT8ADP_Num', 'CD8p_WTN3ADP_Freq', 'CD8p_WTN3ADP_Num', 'CD8p_WTT8ADP_Freq', 'CD8p_WTT8ADP_Num', 'CD8p_WTSP_Freq', 'CD8p_WTSP_Num', 'CD8p_N3ASP_Freq', 'CD8p_N3ASP_Num', 'CD8p_T8ASP_Freq', 'CD8p_T8ASP_Num']\n",
      "['Mouse', 'Tissue', 'Cell Count', 'Infection', 'Sample:', 'Lymphocytes', 'Singlets', 'Live Cells', 'B220F480Neg', 'CD8+', 'CD8+CD45-_Freq', 'CD8+CD45-_Norm_Freq', 'CD8+CD45-_Norm_Num', 'CD8p_N3ATotal_Freq', 'CD8p_N3ATotal_Num', 'CD8p_T8ATotal_Freq', 'CD8p_T8ATotal_Num', 'CD8p_WTTotal_Freq', 'CD8p_WTTotal_Num', 'N3A Neg', 'T8A Neg', 'WT Neg', 'CD8p_TriplePos_Freq', 'CD8p_TriplePos_Num', 'CD8p_N3AT8ADP_Freq', 'CD8p_N3AT8ADP_Num', 'CD8p_N3AWTDP_Freq', 'CD8p_N3AWTDP_Num', 'CD8p_N3ASP_Freq', 'CD8p_N3ASP_Num', 'CD8p_WTT8ADP_Freq', 'CD8p_WTT8ADP_Num', 'CD8p_T8ASP_Freq', 'CD8p_T8ASP_Num', 'CD8p_WTSP_Freq', 'CD8p_WTSP_Num', 'Triple Neg', 'Triple Neg_Num']\n"
     ]
    }
   ],
   "source": [
    "fa.header_clipping(\"WT\", check=True)\n",
    "fa.header_clipping(\"T8A\", check=True)\n",
    "fa.header_clipping(\"N3A\", check=True)"
   ],
   "metadata": {
    "collapsed": false,
    "pycharm": {
     "name": "#%%\n"
    }
   }
  },
  {
   "cell_type": "code",
   "execution_count": 8,
   "outputs": [],
   "source": [
    "fa.header_clipping(\"WT\")\n",
    "fa.header_clipping(\"T8A\")\n",
    "fa.header_clipping(\"N3A\")\n",
    "\n",
    "wt_p_headers = [\n",
    "    \"Tissue\",\n",
    "    \"Condition\",\n",
    "    \"WTSP_Num\",\n",
    "    \"T8ASP_Num\",\n",
    "    \"N3ASP_Num\",\n",
    "    \"CD8p_WTT8ADP_Num\",\n",
    "    \"CD8p_WTN3ADP_Num\",\n",
    "    \"CD8p_N3AT8ADP_Num\",\n",
    "    \"CD8p_TriplePos_Num\",\n",
    "    \"CD8p_Num\",\n",
    "]\n",
    "t8a_p_headers = [\n",
    "    \"Tissue\",\n",
    "    \"T8A Primary\",\n",
    "    \"CD8p_WTSP_Num\",\n",
    "    \"CD8p_T8ASP_Num\",\n",
    "    \"CD8p_N3ASP_Num\",\n",
    "    \"CD8p_WTT8ADP_Num\",\n",
    "    \"CD8p_WTN3ADP_Num\",\n",
    "    \"CD8p_N3AT8ADP_Num\",\n",
    "    \"CD8p_TriplePos_Num\",\n",
    "    \"CD8p_Num\",\n",
    "]\n",
    "n3a_p_headers = [\n",
    "    \"Tissue\",\n",
    "    \"Infection\",\n",
    "    \"CD8p_WTSP_Num\",\n",
    "    \"CD8p_T8ASP_Num\",\n",
    "    \"CD8p_N3ASP_Num\",\n",
    "    \"CD8p_WTT8ADP_Num\",\n",
    "    \"CD8p_N3AWTDP_Num\",\n",
    "    \"CD8p_N3AT8ADP_Num\",\n",
    "    \"CD8p_TriplePos_Num\",\n",
    "    \"CD8+CD45-_Norm_Num\",\n",
    "]\n",
    "\n",
    "wt_p_time_names = fa.time_name_list(\"WT\", wt_p_headers)\n",
    "t8a_p_time_names = fa.time_name_list(\"T8A\", t8a_p_headers)\n",
    "n3a_p_time_names = fa.time_name_list(\"N3A\", n3a_p_headers)\n",
    "\n",
    "wt_spleen_cir_exp = fa.data_extraction(\n",
    "    \"WT\",\n",
    "    \"spleen\",\n",
    "    wt_p_headers,\n",
    "    wt_p_time_names,\n",
    "    standard_names=time_names,\n",
    "    timepoints=5,\n",
    ")\n",
    "t8a_spleen_cir_exp = fa.data_extraction(\n",
    "    \"T8A\",\n",
    "    \"spleen\",\n",
    "    t8a_p_headers,\n",
    "    t8a_p_time_names,\n",
    "    standard_names=time_names,\n",
    "    timepoints=5,\n",
    ")\n",
    "n3a_spleen_cir_exp = fa.data_extraction(\n",
    "    \"N3A\",\n",
    "    \"spleen\",\n",
    "    n3a_p_headers,\n",
    "    n3a_p_time_names,\n",
    "    standard_names=time_names,\n",
    "    timepoints=5,\n",
    ")"
   ],
   "metadata": {
    "collapsed": false,
    "pycharm": {
     "name": "#%%\n"
    }
   }
  },
  {
   "cell_type": "markdown",
   "source": [
    "### Venn plots"
   ],
   "metadata": {
    "collapsed": false,
    "pycharm": {
     "name": "#%% md\n"
    }
   }
  },
  {
   "cell_type": "code",
   "execution_count": 9,
   "outputs": [],
   "source": [
    "wt_spleen_cir_exp.venn_plot(\n",
    "    \"Fig-Venn/V-WT-S-Cir\", frequency=False, mean_only=mean_only_venn\n",
    ")\n",
    "wt_spleen_cir_exp.venn_plot(\n",
    "    \"Fig-Venn/V-WT-S-Cir-F\", frequency=True, labels=False, mean_only=mean_only_venn\n",
    ")"
   ],
   "metadata": {
    "collapsed": false,
    "pycharm": {
     "name": "#%%\n"
    }
   }
  },
  {
   "cell_type": "code",
   "execution_count": 10,
   "outputs": [
    {
     "name": "stderr",
     "output_type": "stream",
     "text": [
      "/Users/danny/anaconda3/envs/P37T2/lib/python3.7/site-packages/matplotlib_venn/_venn3.py:61: UserWarning: Circle C has zero area\n",
      "  warnings.warn(\"Circle C has zero area\")\n"
     ]
    }
   ],
   "source": [
    "t8a_spleen_cir_exp.venn_plot(\n",
    "    \"Fig-Venn/V-T8A-S-Cir\", frequency=False, mean_only=mean_only_venn\n",
    ")\n",
    "t8a_spleen_cir_exp.venn_plot(\n",
    "    \"Fig-Venn/V-T8A-S-Cir-F\", frequency=True, labels=False, mean_only=mean_only_venn\n",
    ")"
   ],
   "metadata": {
    "collapsed": false,
    "pycharm": {
     "name": "#%%\n"
    }
   }
  },
  {
   "cell_type": "code",
   "execution_count": 11,
   "outputs": [
    {
     "name": "stderr",
     "output_type": "stream",
     "text": [
      "/Users/danny/anaconda3/envs/P37T2/lib/python3.7/site-packages/matplotlib_venn/_venn3.py:117: UserWarning: Bad circle positioning\n",
      "  warnings.warn(\"Bad circle positioning\")\n"
     ]
    }
   ],
   "source": [
    "n3a_spleen_cir_exp.venn_plot(\n",
    "    \"Fig-Venn/V-N3A-S-Cir\", frequency=False, mean_only=mean_only_venn\n",
    ")\n",
    "n3a_spleen_cir_exp.venn_plot(\n",
    "    \"Fig-Venn/V-N3A-S-Cir-F\", frequency=True, labels=False, mean_only=mean_only_venn\n",
    ")"
   ],
   "metadata": {
    "collapsed": false,
    "pycharm": {
     "name": "#%%\n"
    }
   }
  },
  {
   "cell_type": "markdown",
   "source": [
    "### Slopes"
   ],
   "metadata": {
    "collapsed": false,
    "pycharm": {
     "name": "#%% md\n"
    }
   }
  },
  {
   "cell_type": "code",
   "execution_count": 12,
   "outputs": [],
   "source": [
    "wt_spleen_cir_exp.slope_plot(\"Fig-Slopes/L-WT-S-Cir\")"
   ],
   "metadata": {
    "collapsed": false,
    "pycharm": {
     "name": "#%%\n"
    }
   }
  },
  {
   "cell_type": "code",
   "execution_count": 13,
   "outputs": [],
   "source": [
    "t8a_spleen_cir_exp.slope_plot(\"Fig-Slopes/L-T8A-S-Cir\")"
   ],
   "metadata": {
    "collapsed": false,
    "pycharm": {
     "name": "#%%\n"
    }
   }
  },
  {
   "cell_type": "code",
   "execution_count": 14,
   "outputs": [],
   "source": [
    "n3a_spleen_cir_exp.slope_plot(\"Fig-Slopes/L-N3A-S-Cir\")"
   ],
   "metadata": {
    "collapsed": false,
    "pycharm": {
     "name": "#%%\n"
    }
   }
  },
  {
   "cell_type": "markdown",
   "source": [
    "## Resident"
   ],
   "metadata": {
    "collapsed": false,
    "pycharm": {
     "name": "#%% md\n"
    }
   }
  },
  {
   "cell_type": "code",
   "execution_count": 15,
   "outputs": [
    {
     "name": "stdout",
     "output_type": "stream",
     "text": [
      "['Mouse', 'Cell Count', 'Tissue', 'Condition', 'Sample:', 'Lymphocytes', 'Singlets', 'Live Cells', 'F480 B220 Negative', 'CD8n_Freq', 'CD8n_Norm_Freq', 'CD8n_Num', 'CD8n_N3ATotal_Freq', 'CD8n_N3ATotal_Num', 'CD8n_T8ATotal_Freq', 'CD8n_T8Atotal_Num', 'CD8n_WTTotal_Freq', 'CD8n_WTTotal_Num', 'CD8n_Triplepos_Freq', 'CD8n_Triplepos_Num', 'CD8n_N3AT8ADP_Freq', 'CD8n_N3AT8ADP_Num', 'CD8n_WTN3ADP_Freq', 'CD8n_WTN3ADP_Num', 'CD8n_WTT8ADP_Freq', 'CD8n_WTT8ADP_Num', 'CD8n_WTSP_Freq', 'CD8n_WTSP_Num', 'CD8n_N3ASP_Freq', 'CD8n_N3ASP_Num', 'CD8n_T8ASP_Freq', 'CD8n_T8ASP_Num', 'Triple Neg', 'total frequency tet+ cells']\n",
      "['Mouse', 'Cell Count', 'Tissue', 'Infection', 'Sample:', 'Lymphocytes', 'Singlets', 'Live Cells', 'F480 B220 Negative', 'CD8n_Freq', 'CD8n_Norm_Freq', 'CD8n_Num', 'CD8n_N3A_Total_Freq', 'CD8n_N3A_Total_Num', 'CD8n_T8ATotalFreq', 'CD8p_T8ATotal_Num', 'CD8p_WTTotal_Freq', 'CD8p_WTTotal_Num', 'CD8p_TriplePos_Freq', 'CD8p_TriplePos_Num', 'CD8p_N3AT8ADP_Freq', 'CD8p_N3AT8ADP_Num', 'CD8p_WTN3ADP_Freq', 'CD8p_WTN3ADP_Num', 'CD8p_WTT8ADP_Freq', 'CD8p_WTT8ADP_Num', 'CD8p_WTSP_Freq', 'CD8p_WTSP_Num', 'CD8p_N3ASP_Freq', 'CD8p_N3ASP_Num', 'CD8p_T8ASP_Freq', 'CD8p_T8ASP_Num']\n",
      "['Mouse', 'Tissue', 'Cell Count', 'Infection', 'Sample:', 'Lymphocytes', 'Singlets', 'Live Cells', 'B220F480Neg', 'CD8+', 'CD8+CD45-_Freq', 'CD8+CD45-_Norm_Freq', 'CD8+CD45-_Norm_Num', 'CD8n_N3ATotal_Freq', 'CD8n_N3ATotal_Num', 'CD8n_T8ATotal_Freq', 'CD8n_T8ATotal_Num', 'CD8n_WTTotal_Freq', 'CD8n_WTTotal_Num', 'N3A Neg', 'T8A Neg', 'WT Neg', 'CD8n_TriplePos_Freq', 'CD8n_TriplePos_Num', 'CD8n_N3AT8ADP_Freq', 'CD8n_N3AT8ADP_Num', 'CD8n_N3AWTDP_Freq', 'CD8n_N3AWTDP_Num', 'CD8n_N3ASP_Freq', 'CD8n_N3ASP_Num', 'CD8n_WTT8ADP_Freq', 'CD8n_WTT8ADP_Num', 'CD8n_T8ASP_Freq', 'CD8n_T8ASP_Num', 'CD8n_WTSP_Freq', 'CD8n_WTSP_Num', 'Triple Neg', 'Triple Neg_Num']\n"
     ]
    }
   ],
   "source": [
    "fa.header_clipping(\"WT\", cd45=\"-\", check=True)\n",
    "fa.header_clipping(\"T8A\", cd45=\"-\", check=True)\n",
    "fa.header_clipping(\"N3A\", cd45=\"-\", check=True)"
   ],
   "metadata": {
    "collapsed": false,
    "pycharm": {
     "name": "#%%\n"
    }
   }
  },
  {
   "cell_type": "code",
   "execution_count": 16,
   "outputs": [],
   "source": [
    "fa.header_clipping(\"WT\", cd45=\"-\")\n",
    "fa.header_clipping(\"T8A\", cd45=\"-\")\n",
    "fa.header_clipping(\"N3A\", cd45=\"-\")\n",
    "\n",
    "wt_n_headers = [\n",
    "    \"Tissue\",\n",
    "    \"Condition\",\n",
    "    \"CD8n_WTSP_Num\",\n",
    "    \"CD8n_T8ASP_Num\",\n",
    "    \"CD8n_N3ASP_Num\",\n",
    "    \"CD8n_WTT8ADP_Num\",\n",
    "    \"CD8n_WTN3ADP_Num\",\n",
    "    \"CD8n_N3AT8ADP_Num\",\n",
    "    \"CD8n_Triplepos_Num\",\n",
    "    \"CD8n_Num\",\n",
    "]\n",
    "t8a_n_headers = [\n",
    "    \"Tissue\",\n",
    "    \"Infection\",\n",
    "    \"CD8p_WTSP_Num\",\n",
    "    \"CD8p_T8ASP_Num\",\n",
    "    \"CD8p_N3ASP_Num\",\n",
    "    \"CD8p_WTT8ADP_Num\",\n",
    "    \"CD8p_WTN3ADP_Num\",\n",
    "    \"CD8p_N3AT8ADP_Num\",\n",
    "    \"CD8p_TriplePos_Num\",\n",
    "    \"CD8n_Num\",\n",
    "]\n",
    "n3a_n_headers = [\n",
    "    \"Tissue\",\n",
    "    \"Infection\",\n",
    "    \"CD8n_WTSP_Num\",\n",
    "    \"CD8n_T8ASP_Num\",\n",
    "    \"CD8n_N3ASP_Num\",\n",
    "    \"CD8n_WTT8ADP_Num\",\n",
    "    \"CD8n_N3AWTDP_Num\",\n",
    "    \"CD8n_N3AT8ADP_Num\",\n",
    "    \"CD8n_TriplePos_Num\",\n",
    "    \"CD8+CD45-_Norm_Num\",\n",
    "]\n",
    "\n",
    "wt_n_time_names = fa.time_name_list(\"WT\", wt_n_headers, cd45=\"-\")\n",
    "t8a_n_time_names = fa.time_name_list(\"T8A\", t8a_n_headers, cd45=\"-\")\n",
    "n3a_n_time_names = fa.time_name_list(\"N3A\", n3a_n_headers, cd45=\"-\")\n",
    "\n",
    "wt_spleen_res_exp = fa.data_extraction(\n",
    "    \"WT\",\n",
    "    \"spleen\",\n",
    "    wt_n_headers,\n",
    "    wt_n_time_names,\n",
    "    standard_names=time_names,\n",
    "    cd45=\"-\",\n",
    "    timepoints=5,\n",
    ")\n",
    "t8a_spleen_res_exp = fa.data_extraction(\n",
    "    \"T8A\",\n",
    "    \"spleen\",\n",
    "    t8a_n_headers,\n",
    "    t8a_n_time_names,\n",
    "    standard_names=time_names,\n",
    "    cd45=\"-\",\n",
    "    timepoints=5,\n",
    ")\n",
    "n3a_spleen_res_exp = fa.data_extraction(\n",
    "    \"N3A\",\n",
    "    \"spleen\",\n",
    "    n3a_n_headers,\n",
    "    n3a_n_time_names,\n",
    "    standard_names=time_names,\n",
    "    cd45=\"-\",\n",
    "    timepoints=5,\n",
    ")"
   ],
   "metadata": {
    "collapsed": false,
    "pycharm": {
     "name": "#%%\n"
    }
   }
  },
  {
   "cell_type": "markdown",
   "source": [
    "### Venn plots"
   ],
   "metadata": {
    "collapsed": false,
    "pycharm": {
     "name": "#%% md\n"
    }
   }
  },
  {
   "cell_type": "code",
   "execution_count": 17,
   "outputs": [],
   "source": [
    "wt_spleen_res_exp.venn_plot(\n",
    "    \"Fig-Venn/V-WT-S-Res\", frequency=False, mean_only=mean_only_venn\n",
    ")\n",
    "wt_spleen_res_exp.venn_plot(\n",
    "    \"Fig-Venn/V-WT-S-Res-F\", frequency=True, labels=False, mean_only=mean_only_venn\n",
    ")"
   ],
   "metadata": {
    "collapsed": false,
    "pycharm": {
     "name": "#%%\n"
    }
   }
  },
  {
   "cell_type": "code",
   "execution_count": 18,
   "outputs": [],
   "source": [
    "t8a_spleen_res_exp.venn_plot(\n",
    "    \"Fig-Venn/V-T8A-S-Res\", frequency=False, mean_only=mean_only_venn\n",
    ")\n",
    "t8a_spleen_res_exp.venn_plot(\n",
    "    \"Fig-Venn/V-T8A-S-Res-F\", frequency=True, labels=False, mean_only=mean_only_venn\n",
    ")"
   ],
   "metadata": {
    "collapsed": false,
    "pycharm": {
     "name": "#%%\n"
    }
   }
  },
  {
   "cell_type": "code",
   "execution_count": 19,
   "outputs": [],
   "source": [
    "n3a_spleen_res_exp.venn_plot(\n",
    "    \"Fig-Venn/V-N3A-S-Res\", frequency=False, mean_only=mean_only_venn\n",
    ")\n",
    "n3a_spleen_res_exp.venn_plot(\n",
    "    \"Fig-Venn/V-N3A-S-Res-F\", frequency=True, labels=False, mean_only=mean_only_venn\n",
    ")"
   ],
   "metadata": {
    "collapsed": false,
    "pycharm": {
     "name": "#%%\n"
    }
   }
  },
  {
   "cell_type": "markdown",
   "source": [
    "### Slopes"
   ],
   "metadata": {
    "collapsed": false,
    "pycharm": {
     "name": "#%% md\n"
    }
   }
  },
  {
   "cell_type": "code",
   "execution_count": 20,
   "outputs": [],
   "source": [
    "wt_spleen_res_exp.slope_plot(\"Fig-Slopes/L-WT-S-Res\")"
   ],
   "metadata": {
    "collapsed": false,
    "pycharm": {
     "name": "#%%\n"
    }
   }
  },
  {
   "cell_type": "code",
   "execution_count": 21,
   "outputs": [],
   "source": [
    "t8a_spleen_res_exp.slope_plot(\"Fig-Slopes/L-T8A-S-Res\")"
   ],
   "metadata": {
    "collapsed": false,
    "pycharm": {
     "name": "#%%\n"
    }
   }
  },
  {
   "cell_type": "code",
   "execution_count": 22,
   "outputs": [],
   "source": [
    "n3a_spleen_res_exp.slope_plot(\"Fig-Slopes/L-N3A-S-Res\")"
   ],
   "metadata": {
    "collapsed": false,
    "pycharm": {
     "name": "#%%\n"
    }
   }
  },
  {
   "cell_type": "markdown",
   "source": [
    "# Lungs\n",
    "## Circulating"
   ],
   "metadata": {
    "collapsed": false,
    "pycharm": {
     "name": "#%% md\n"
    }
   }
  },
  {
   "cell_type": "code",
   "execution_count": 23,
   "outputs": [],
   "source": [
    "fa.header_clipping(\"WT\")\n",
    "fa.header_clipping(\"T8A\")\n",
    "fa.header_clipping(\"N3A\")\n",
    "\n",
    "wt_p_headers = [\n",
    "    \"Tissue\",\n",
    "    \"Condition\",\n",
    "    \"WTSP_Num\",\n",
    "    \"T8ASP_Num\",\n",
    "    \"N3ASP_Num\",\n",
    "    \"CD8p_WTT8ADP_Num\",\n",
    "    \"CD8p_WTN3ADP_Num\",\n",
    "    \"CD8p_N3AT8ADP_Num\",\n",
    "    \"CD8p_TriplePos_Num\",\n",
    "    \"CD8p_Num\",\n",
    "]\n",
    "t8a_p_headers = [\n",
    "    \"Tissue\",\n",
    "    \"T8A Primary\",\n",
    "    \"CD8p_WTSP_Num\",\n",
    "    \"CD8p_T8ASP_Num\",\n",
    "    \"CD8p_N3ASP_Num\",\n",
    "    \"CD8p_WTT8ADP_Num\",\n",
    "    \"CD8p_WTN3ADP_Num\",\n",
    "    \"CD8p_N3AT8ADP_Num\",\n",
    "    \"CD8p_TriplePos_Num\",\n",
    "    \"CD8p_Num\",\n",
    "]\n",
    "n3a_p_headers = [\n",
    "    \"Tissue\",\n",
    "    \"Infection\",\n",
    "    \"CD8p_WTSP_Num\",\n",
    "    \"CD8p_T8ASP_Num\",\n",
    "    \"CD8p_N3ASP_Num\",\n",
    "    \"CD8p_WTT8ADP_Num\",\n",
    "    \"CD8p_N3AWTDP_Num\",\n",
    "    \"CD8p_N3AT8ADP_Num\",\n",
    "    \"CD8p_TriplePos_Num\",\n",
    "    \"CD8+CD45-_Norm_Num\",\n",
    "]\n",
    "\n",
    "wt_p_time_names = fa.time_name_list(\"WT\", wt_p_headers)\n",
    "t8a_p_time_names = fa.time_name_list(\"T8A\", t8a_p_headers)\n",
    "n3a_p_time_names = fa.time_name_list(\"N3A\", n3a_p_headers)\n",
    "\n",
    "wt_lungs_cir_exp = fa.data_extraction(\n",
    "    \"WT\",\n",
    "    \"lungs\",\n",
    "    wt_p_headers,\n",
    "    wt_p_time_names,\n",
    "    standard_names=time_names,\n",
    "    timepoints=5,\n",
    ")\n",
    "t8a_lungs_cir_exp = fa.data_extraction(\n",
    "    \"T8A\",\n",
    "    \"lungs\",\n",
    "    t8a_p_headers,\n",
    "    t8a_p_time_names,\n",
    "    standard_names=time_names,\n",
    "    timepoints=5,\n",
    ")\n",
    "n3a_lungs_cir_exp = fa.data_extraction(\n",
    "    \"N3A\",\n",
    "    \"lungs\",\n",
    "    n3a_p_headers,\n",
    "    n3a_p_time_names,\n",
    "    standard_names=time_names,\n",
    "    timepoints=5,\n",
    ")"
   ],
   "metadata": {
    "collapsed": false,
    "pycharm": {
     "name": "#%%\n"
    }
   }
  },
  {
   "cell_type": "markdown",
   "source": [
    "### Venn plots"
   ],
   "metadata": {
    "collapsed": false,
    "pycharm": {
     "name": "#%% md\n"
    }
   }
  },
  {
   "cell_type": "code",
   "execution_count": 24,
   "outputs": [],
   "source": [
    "wt_lungs_cir_exp.venn_plot(\n",
    "    \"Fig-Venn/V-WT-L-Cir\", frequency=False, mean_only=mean_only_venn\n",
    ")\n",
    "wt_lungs_cir_exp.venn_plot(\n",
    "    \"Fig-Venn/V-WT-L-Cir-F\", frequency=True, labels=False, mean_only=mean_only_venn\n",
    ")"
   ],
   "metadata": {
    "collapsed": false,
    "pycharm": {
     "name": "#%%\n"
    }
   }
  },
  {
   "cell_type": "code",
   "execution_count": 25,
   "outputs": [],
   "source": [
    "t8a_lungs_cir_exp.venn_plot(\n",
    "    \"Fig-Venn/V-T8A-L-Cir\", frequency=False, mean_only=mean_only_venn\n",
    ")\n",
    "t8a_lungs_cir_exp.venn_plot(\n",
    "    \"Fig-Venn/V-T8A-L-Cir-F\", frequency=True, labels=False, mean_only=mean_only_venn\n",
    ")"
   ],
   "metadata": {
    "collapsed": false,
    "pycharm": {
     "name": "#%%\n"
    }
   }
  },
  {
   "cell_type": "code",
   "execution_count": 26,
   "outputs": [],
   "source": [
    "n3a_lungs_cir_exp.venn_plot(\n",
    "    \"Fig-Venn/V-N3A-L-Cir\", frequency=False, mean_only=mean_only_venn\n",
    ")\n",
    "n3a_lungs_cir_exp.venn_plot(\n",
    "    \"Fig-Venn/V-N3A-L-Cir-F\", frequency=True, labels=False, mean_only=mean_only_venn\n",
    ")"
   ],
   "metadata": {
    "collapsed": false,
    "pycharm": {
     "name": "#%%\n"
    }
   }
  },
  {
   "cell_type": "markdown",
   "source": [
    "### Slopes"
   ],
   "metadata": {
    "collapsed": false,
    "pycharm": {
     "name": "#%% md\n"
    }
   }
  },
  {
   "cell_type": "code",
   "execution_count": 27,
   "outputs": [],
   "source": [
    "wt_lungs_cir_exp.slope_plot(\"Fig-Slopes/L-WT-L-Cir\")"
   ],
   "metadata": {
    "collapsed": false,
    "pycharm": {
     "name": "#%%\n"
    }
   }
  },
  {
   "cell_type": "code",
   "execution_count": 28,
   "outputs": [],
   "source": [
    "t8a_lungs_cir_exp.slope_plot(\"Fig-Slopes/L-T8A-L-Cir\")"
   ],
   "metadata": {
    "collapsed": false,
    "pycharm": {
     "name": "#%%\n"
    }
   }
  },
  {
   "cell_type": "code",
   "execution_count": 29,
   "outputs": [],
   "source": [
    "n3a_lungs_cir_exp.slope_plot(\"Fig-Slopes/L-N3A-L-Cir\")"
   ],
   "metadata": {
    "collapsed": false,
    "pycharm": {
     "name": "#%%\n"
    }
   }
  },
  {
   "cell_type": "markdown",
   "source": [
    "## Resident"
   ],
   "metadata": {
    "collapsed": false,
    "pycharm": {
     "name": "#%% md\n"
    }
   }
  },
  {
   "cell_type": "code",
   "execution_count": 30,
   "outputs": [],
   "source": [
    "fa.header_clipping(\"WT\", cd45=\"-\")\n",
    "fa.header_clipping(\"T8A\", cd45=\"-\")\n",
    "fa.header_clipping(\"N3A\", cd45=\"-\")\n",
    "\n",
    "wt_n_headers = [\n",
    "    \"Tissue\",\n",
    "    \"Condition\",\n",
    "    \"CD8n_WTSP_Num\",\n",
    "    \"CD8n_T8ASP_Num\",\n",
    "    \"CD8n_N3ASP_Num\",\n",
    "    \"CD8n_WTT8ADP_Num\",\n",
    "    \"CD8n_WTN3ADP_Num\",\n",
    "    \"CD8n_N3AT8ADP_Num\",\n",
    "    \"CD8n_Triplepos_Num\",\n",
    "    \"CD8n_Num\",\n",
    "]\n",
    "t8a_n_headers = [\n",
    "    \"Tissue\",\n",
    "    \"Infection\",\n",
    "    \"CD8p_WTSP_Num\",\n",
    "    \"CD8p_T8ASP_Num\",\n",
    "    \"CD8p_N3ASP_Num\",\n",
    "    \"CD8p_WTT8ADP_Num\",\n",
    "    \"CD8p_WTN3ADP_Num\",\n",
    "    \"CD8p_N3AT8ADP_Num\",\n",
    "    \"CD8p_TriplePos_Num\",\n",
    "    \"CD8n_Num\",\n",
    "]\n",
    "n3a_n_headers = [\n",
    "    \"Tissue\",\n",
    "    \"Infection\",\n",
    "    \"CD8n_WTSP_Num\",\n",
    "    \"CD8n_T8ASP_Num\",\n",
    "    \"CD8n_N3ASP_Num\",\n",
    "    \"CD8n_WTT8ADP_Num\",\n",
    "    \"CD8n_N3AWTDP_Num\",\n",
    "    \"CD8n_N3AT8ADP_Num\",\n",
    "    \"CD8n_TriplePos_Num\",\n",
    "    \"CD8+CD45-_Norm_Num\",\n",
    "]\n",
    "\n",
    "wt_n_time_names = fa.time_name_list(\"WT\", wt_n_headers, cd45=\"-\")\n",
    "t8a_n_time_names = fa.time_name_list(\"T8A\", t8a_n_headers, cd45=\"-\")\n",
    "n3a_n_time_names = fa.time_name_list(\"N3A\", n3a_n_headers, cd45=\"-\")\n",
    "\n",
    "wt_lungs_res_exp = fa.data_extraction(\n",
    "    \"WT\",\n",
    "    \"lungs\",\n",
    "    wt_n_headers,\n",
    "    wt_n_time_names,\n",
    "    standard_names=time_names,\n",
    "    cd45=\"-\",\n",
    "    timepoints=5,\n",
    ")\n",
    "t8a_lungs_res_exp = fa.data_extraction(\n",
    "    \"T8A\",\n",
    "    \"lungs\",\n",
    "    t8a_n_headers,\n",
    "    t8a_n_time_names,\n",
    "    standard_names=time_names,\n",
    "    cd45=\"-\",\n",
    "    timepoints=5,\n",
    ")\n",
    "n3a_lungs_res_exp = fa.data_extraction(\n",
    "    \"N3A\",\n",
    "    \"lungs\",\n",
    "    n3a_n_headers,\n",
    "    n3a_n_time_names,\n",
    "    standard_names=time_names,\n",
    "    cd45=\"-\",\n",
    "    timepoints=5,\n",
    ")"
   ],
   "metadata": {
    "collapsed": false,
    "pycharm": {
     "name": "#%%\n"
    }
   }
  },
  {
   "cell_type": "markdown",
   "source": [
    "### Venn plots"
   ],
   "metadata": {
    "collapsed": false,
    "pycharm": {
     "name": "#%% md\n"
    }
   }
  },
  {
   "cell_type": "code",
   "execution_count": 31,
   "outputs": [],
   "source": [
    "wt_lungs_res_exp.venn_plot(\n",
    "    \"Fig-Venn/V-WT-L-Res\", frequency=False, mean_only=mean_only_venn\n",
    ")\n",
    "wt_lungs_res_exp.venn_plot(\n",
    "    \"Fig-Venn/V-WT-L-Res-F\", frequency=True, labels=False, mean_only=mean_only_venn\n",
    ")"
   ],
   "metadata": {
    "collapsed": false,
    "pycharm": {
     "name": "#%%\n"
    }
   }
  },
  {
   "cell_type": "code",
   "execution_count": 32,
   "outputs": [],
   "source": [
    "t8a_lungs_res_exp.venn_plot(\n",
    "    \"Fig-Venn/V-T8A-L-Res\", frequency=False, mean_only=mean_only_venn\n",
    ")\n",
    "t8a_lungs_res_exp.venn_plot(\n",
    "    \"Fig-Venn/V-T8A-L-Res-F\", frequency=True, labels=False, mean_only=mean_only_venn\n",
    ")"
   ],
   "metadata": {
    "collapsed": false,
    "pycharm": {
     "name": "#%%\n"
    }
   }
  },
  {
   "cell_type": "code",
   "execution_count": 33,
   "outputs": [],
   "source": [
    "n3a_lungs_res_exp.venn_plot(\n",
    "    \"Fig-Venn/V-N3A-L-Res\", frequency=False, mean_only=mean_only_venn\n",
    ")\n",
    "n3a_lungs_res_exp.venn_plot(\n",
    "    \"Fig-Venn/V-N3A-L-Res-F\", frequency=True, labels=False, mean_only=mean_only_venn\n",
    ")"
   ],
   "metadata": {
    "collapsed": false,
    "pycharm": {
     "name": "#%%\n"
    }
   }
  },
  {
   "cell_type": "markdown",
   "source": [
    "### Slopes"
   ],
   "metadata": {
    "collapsed": false,
    "pycharm": {
     "name": "#%% md\n"
    }
   }
  },
  {
   "cell_type": "code",
   "execution_count": 34,
   "outputs": [],
   "source": [
    "wt_lungs_res_exp.slope_plot(\"Fig-Slopes/L-WT-L-Res\")"
   ],
   "metadata": {
    "collapsed": false,
    "pycharm": {
     "name": "#%%\n"
    }
   }
  },
  {
   "cell_type": "code",
   "execution_count": 35,
   "outputs": [],
   "source": [
    "t8a_lungs_res_exp.slope_plot(\"Fig-Slopes/L-T8A-L-Res\")"
   ],
   "metadata": {
    "collapsed": false,
    "pycharm": {
     "name": "#%%\n"
    }
   }
  },
  {
   "cell_type": "code",
   "execution_count": 36,
   "outputs": [],
   "source": [
    "n3a_lungs_res_exp.slope_plot(\"Fig-Slopes/L-N3A-L-Res\")"
   ],
   "metadata": {
    "collapsed": false,
    "pycharm": {
     "name": "#%%\n"
    }
   }
  },
  {
   "cell_type": "markdown",
   "source": [
    "# Stats\n",
    "## WT Priming\n",
    "### Spleen\n",
    "#### Circulating"
   ],
   "metadata": {
    "collapsed": false,
    "pycharm": {
     "name": "#%% md\n"
    }
   }
  },
  {
   "cell_type": "code",
   "execution_count": null,
   "outputs": [],
   "source": [
    "wt_spleen_cir_df = wt_spleen_cir_exp.to_df(\n",
    "    file_name=\"ANOVA/Data/WT-S-Cir\", frequency=False\n",
    ")\n",
    "wt_spleen_cir_df_feq = wt_spleen_cir_exp.to_df(file_name=\"ANOVA/Data/WT-S-Cir-F\")"
   ],
   "metadata": {
    "collapsed": false,
    "pycharm": {
     "name": "#%%\n"
    }
   }
  },
  {
   "cell_type": "code",
   "execution_count": null,
   "outputs": [],
   "source": [
    "wt_spleen_cir_exp.combined_correlation_plot(\n",
    "    \"Fig-Correlations/S-WT-S-Cir\",\n",
    "    timepoints=stats_challenges,\n",
    ")\n",
    "for challenge in stats_challenges:\n",
    "    wt_spleen_cir_exp.correlation_plot(\n",
    "        challenge,\n",
    "        file_name=f\"Fig-Correlations/S-WT-{challenge.split(' ')[0]}-S-Cir\",\n",
    "    )"
   ],
   "metadata": {
    "collapsed": false,
    "pycharm": {
     "name": "#%%\n"
    }
   }
  },
  {
   "cell_type": "markdown",
   "source": [
    "#### Resident"
   ],
   "metadata": {
    "collapsed": false,
    "pycharm": {
     "name": "#%% md\n"
    }
   }
  },
  {
   "cell_type": "code",
   "execution_count": null,
   "outputs": [],
   "source": [
    "wt_spleen_res_df = wt_spleen_res_exp.to_df(\n",
    "    file_name=\"ANOVA/Data/WT-S-Res\", frequency=False\n",
    ")\n",
    "wt_spleen_res_df_feq = wt_spleen_res_exp.to_df(file_name=\"ANOVA/Data/WT-S-Res-F\")"
   ],
   "metadata": {
    "collapsed": false,
    "pycharm": {
     "name": "#%%\n"
    }
   }
  },
  {
   "cell_type": "code",
   "execution_count": null,
   "outputs": [],
   "source": [
    "wt_spleen_res_exp.combined_correlation_plot(\n",
    "    \"Fig-Correlations/S-WT-S-Res\",\n",
    "    timepoints=stats_challenges,\n",
    ")\n",
    "for challenge in stats_challenges:\n",
    "    wt_spleen_res_exp.correlation_plot(\n",
    "        challenge,\n",
    "        file_name=f\"Fig-Correlations/S-WT-{challenge.split(' ')[0]}-S-Res\",\n",
    "    )"
   ],
   "metadata": {
    "collapsed": false,
    "pycharm": {
     "name": "#%%\n"
    }
   }
  },
  {
   "cell_type": "markdown",
   "source": [
    "### Lungs\n",
    "#### Circulating"
   ],
   "metadata": {
    "collapsed": false,
    "pycharm": {
     "name": "#%% md\n"
    }
   }
  },
  {
   "cell_type": "code",
   "execution_count": null,
   "outputs": [],
   "source": [
    "wt_lungs_cir_df = wt_lungs_cir_exp.to_df(\n",
    "    file_name=\"ANOVA/Data/WT-L-Cir\", frequency=False\n",
    ")\n",
    "wt_lungs_cir_df_freq = wt_lungs_cir_exp.to_df(file_name=\"ANOVA/Data/WT-L-Cir-F\")"
   ],
   "metadata": {
    "collapsed": false,
    "pycharm": {
     "name": "#%%\n"
    }
   }
  },
  {
   "cell_type": "code",
   "execution_count": null,
   "outputs": [],
   "source": [
    "wt_lungs_cir_exp.combined_correlation_plot(\n",
    "    \"Fig-Correlations/S-WT-L-Cir\",\n",
    "    timepoints=stats_challenges,\n",
    ")\n",
    "for challenge in stats_challenges:\n",
    "    wt_lungs_cir_exp.correlation_plot(\n",
    "        challenge,\n",
    "        file_name=f\"Fig-Correlations/S-WT-{challenge.split(' ')[0]}-L-Cir\",\n",
    "    )"
   ],
   "metadata": {
    "collapsed": false,
    "pycharm": {
     "name": "#%%\n"
    }
   }
  },
  {
   "cell_type": "markdown",
   "source": [
    "#### Resident"
   ],
   "metadata": {
    "collapsed": false,
    "pycharm": {
     "name": "#%% md\n"
    }
   }
  },
  {
   "cell_type": "code",
   "execution_count": null,
   "outputs": [],
   "source": [
    "wt_lungs_res_df = wt_lungs_res_exp.to_df(\n",
    "    file_name=\"ANOVA/Data/WT-L-Res\", frequency=False\n",
    ")\n",
    "wt_lungs_res_df_freq = wt_lungs_res_exp.to_df(file_name=\"ANOVA/Data/WT-L-Res-F\")"
   ],
   "metadata": {
    "collapsed": false,
    "pycharm": {
     "name": "#%%\n"
    }
   }
  },
  {
   "cell_type": "code",
   "execution_count": null,
   "outputs": [],
   "source": [
    "wt_lungs_res_exp.combined_correlation_plot(\n",
    "    \"Fig-Correlations/S-WT-L-Res\",\n",
    "    timepoints=stats_challenges,\n",
    ")\n",
    "for challenge in stats_challenges:\n",
    "    wt_lungs_res_exp.correlation_plot(\n",
    "        challenge,\n",
    "        file_name=f\"Fig-Correlations/S-WT-{challenge.split(' ')[0]}-L-Res\",\n",
    "    )"
   ],
   "metadata": {
    "collapsed": false,
    "pycharm": {
     "name": "#%%\n"
    }
   }
  },
  {
   "cell_type": "markdown",
   "source": [
    "## Correlation heatmaps"
   ],
   "metadata": {
    "collapsed": false,
    "pycharm": {
     "name": "#%% md\n"
    }
   }
  },
  {
   "cell_type": "code",
   "execution_count": null,
   "outputs": [],
   "source": [
    "sns.heatmap(\n",
    "    wt_lungs_cir_df[(wt_lungs_cir_df.Challenge == \"T8A challenge\")].corr(\n",
    "        method=\"spearman\"\n",
    "    ),\n",
    "    vmin=-1,\n",
    "    vmax=1,\n",
    "    annot=False,\n",
    "    cmap=sns.diverging_palette(270, 10, s=90, sep=10, as_cmap=True),\n",
    ")\n",
    "# plt.savefig(\"TEST.pdf\")"
   ],
   "metadata": {
    "collapsed": false,
    "pycharm": {
     "name": "#%%\n"
    }
   }
  },
  {
   "cell_type": "markdown",
   "source": [
    "## T8A Priming\n",
    "### Spleen\n",
    "#### Circulating"
   ],
   "metadata": {
    "collapsed": false,
    "pycharm": {
     "name": "#%% md\n"
    }
   }
  },
  {
   "cell_type": "code",
   "execution_count": null,
   "outputs": [],
   "source": [
    "t8a_spleen_cir_df = t8a_spleen_cir_exp.to_df(\n",
    "    file_name=\"ANOVA/Data/T8A-S-Cir\", frequency=False\n",
    ")\n",
    "t8a_spleen_cir_df_feq = t8a_spleen_cir_exp.to_df(file_name=\"ANOVA/Data/T8A-S-Cir-F\")"
   ],
   "metadata": {
    "collapsed": false,
    "pycharm": {
     "name": "#%%\n"
    }
   }
  },
  {
   "cell_type": "code",
   "execution_count": null,
   "outputs": [],
   "source": [
    "t8a_spleen_cir_exp.combined_correlation_plot(\n",
    "    \"Fig-Correlations/S-T8A-S-Cir\",\n",
    "    timepoints=stats_challenges,\n",
    ")\n",
    "for challenge in stats_challenges:\n",
    "    t8a_spleen_cir_exp.correlation_plot(\n",
    "        challenge,\n",
    "        file_name=f\"Fig-Correlations/S-T8A-{challenge.split(' ')[0]}-S-Cir\",\n",
    "    )"
   ],
   "metadata": {
    "collapsed": false,
    "pycharm": {
     "name": "#%%\n"
    }
   }
  },
  {
   "cell_type": "markdown",
   "source": [
    "#### Resident"
   ],
   "metadata": {
    "collapsed": false,
    "pycharm": {
     "name": "#%% md\n"
    }
   }
  },
  {
   "cell_type": "code",
   "execution_count": null,
   "outputs": [],
   "source": [
    "t8a_spleen_res_df = t8a_spleen_res_exp.to_df(\n",
    "    file_name=\"ANOVA/Data/T8A-S-Res\", frequency=False\n",
    ")\n",
    "t8a_spleen_res_df_feq = t8a_spleen_res_exp.to_df(file_name=\"ANOVA/Data/T8A-S-Res-F\")"
   ],
   "metadata": {
    "collapsed": false,
    "pycharm": {
     "name": "#%%\n"
    }
   }
  },
  {
   "cell_type": "code",
   "execution_count": null,
   "outputs": [],
   "source": [
    "t8a_spleen_res_exp.combined_correlation_plot(\n",
    "    \"Fig-Correlations/S-T8A-S-Res\",\n",
    "    timepoints=stats_challenges,\n",
    ")\n",
    "for challenge in stats_challenges:\n",
    "    t8a_spleen_res_exp.correlation_plot(\n",
    "        challenge,\n",
    "        file_name=f\"Fig-Correlations/S-T8A-{challenge.split(' ')[0]}-S-Res\",\n",
    "    )"
   ],
   "metadata": {
    "collapsed": false,
    "pycharm": {
     "name": "#%%\n"
    }
   }
  },
  {
   "cell_type": "markdown",
   "source": [
    "### Lungs\n",
    "#### Circulating"
   ],
   "metadata": {
    "collapsed": false,
    "pycharm": {
     "name": "#%% md\n"
    }
   }
  },
  {
   "cell_type": "code",
   "execution_count": null,
   "outputs": [],
   "source": [
    "t8a_lungs_cir_df = t8a_lungs_cir_exp.to_df(\n",
    "    file_name=\"ANOVA/Data/T8A-L-Cir\", frequency=False\n",
    ")\n",
    "t8a_lungs_cir_df_feq = t8a_lungs_cir_exp.to_df(file_name=\"ANOVA/Data/T8A-L-Cir-F\")"
   ],
   "metadata": {
    "collapsed": false,
    "pycharm": {
     "name": "#%%\n"
    }
   }
  },
  {
   "cell_type": "code",
   "execution_count": null,
   "outputs": [],
   "source": [
    "t8a_lungs_cir_exp.combined_correlation_plot(\n",
    "    \"Fig-Correlations/S-T8A-L-Cir\",\n",
    "    timepoints=stats_challenges,\n",
    ")\n",
    "for challenge in stats_challenges:\n",
    "    t8a_lungs_cir_exp.correlation_plot(\n",
    "        challenge,\n",
    "        file_name=f\"Fig-Correlations/S-T8A-{challenge.split(' ')[0]}-L-Cir\",\n",
    "    )"
   ],
   "metadata": {
    "collapsed": false,
    "pycharm": {
     "name": "#%%\n"
    }
   }
  },
  {
   "cell_type": "markdown",
   "source": [
    "#### Resident"
   ],
   "metadata": {
    "collapsed": false,
    "pycharm": {
     "name": "#%% md\n"
    }
   }
  },
  {
   "cell_type": "code",
   "execution_count": null,
   "outputs": [],
   "source": [
    "t8a_lungs_res_df = t8a_lungs_res_exp.to_df(\n",
    "    file_name=\"ANOVA/Data/T8A-L-Res\", frequency=False\n",
    ")\n",
    "t8a_lungs_res_df_feq = t8a_lungs_res_exp.to_df(file_name=\"ANOVA/Data/T8A-L-Res-F\")"
   ],
   "metadata": {
    "collapsed": false,
    "pycharm": {
     "name": "#%%\n"
    }
   }
  },
  {
   "cell_type": "code",
   "execution_count": null,
   "outputs": [],
   "source": [
    "t8a_lungs_res_exp.combined_correlation_plot(\n",
    "    \"Fig-Correlations/S-T8A-L-Res\",\n",
    "    timepoints=stats_challenges,\n",
    ")\n",
    "for challenge in stats_challenges:\n",
    "    t8a_lungs_res_exp.correlation_plot(\n",
    "        challenge,\n",
    "        file_name=f\"Fig-Correlations/S-T8A-{challenge.split(' ')[0]}-L-Res\",\n",
    "    )"
   ],
   "metadata": {
    "collapsed": false,
    "pycharm": {
     "name": "#%%\n"
    }
   }
  },
  {
   "cell_type": "markdown",
   "source": [
    "## N3A Priming\n",
    "### Spleen\n",
    "#### Circulating"
   ],
   "metadata": {
    "collapsed": false,
    "pycharm": {
     "name": "#%% md\n"
    }
   }
  },
  {
   "cell_type": "code",
   "execution_count": null,
   "outputs": [],
   "source": [
    "n3a_spleen_cir_df = n3a_spleen_cir_exp.to_df(\n",
    "    file_name=\"ANOVA/Data/N3A-S-Cir\", frequency=False\n",
    ")\n",
    "n3a_spleen_cir_df_feq = n3a_spleen_cir_exp.to_df(file_name=\"ANOVA/Data/N3A-S-Cir-F\")"
   ],
   "metadata": {
    "collapsed": false,
    "pycharm": {
     "name": "#%%\n"
    }
   }
  },
  {
   "cell_type": "code",
   "execution_count": null,
   "outputs": [],
   "source": [
    "n3a_spleen_cir_exp.combined_correlation_plot(\n",
    "    \"Fig-Correlations/S-N3A-S-Cir\",\n",
    "    timepoints=stats_challenges,\n",
    ")\n",
    "for challenge in stats_challenges:\n",
    "    n3a_spleen_cir_exp.correlation_plot(\n",
    "        challenge,\n",
    "        file_name=f\"Fig-Correlations/S-N3A-{challenge.split(' ')[0]}-S-Cir\",\n",
    "    )"
   ],
   "metadata": {
    "collapsed": false,
    "pycharm": {
     "name": "#%%\n"
    }
   }
  },
  {
   "cell_type": "markdown",
   "source": [
    "#### Resident"
   ],
   "metadata": {
    "collapsed": false,
    "pycharm": {
     "name": "#%% md\n"
    }
   }
  },
  {
   "cell_type": "code",
   "execution_count": null,
   "outputs": [],
   "source": [
    "n3a_spleen_res_df = n3a_spleen_res_exp.to_df(\n",
    "    file_name=\"ANOVA/Data/N3A-S-Res\", frequency=False\n",
    ")\n",
    "n3a_spleen_res_df_feq = n3a_spleen_res_exp.to_df(file_name=\"ANOVA/Data/N3A-S-Res-F\")"
   ],
   "metadata": {
    "collapsed": false,
    "pycharm": {
     "name": "#%%\n"
    }
   }
  },
  {
   "cell_type": "code",
   "execution_count": null,
   "outputs": [],
   "source": [
    "n3a_spleen_res_exp.combined_correlation_plot(\n",
    "    \"Fig-Correlations/S-N3A-S-Res\",\n",
    "    timepoints=stats_challenges,\n",
    ")\n",
    "for challenge in stats_challenges:\n",
    "    n3a_spleen_res_exp.correlation_plot(\n",
    "        challenge, file_name=f\"Fig-Correlations/S-N3A-{challenge.split(' ')[0]}-S-Res\"\n",
    "    )"
   ],
   "metadata": {
    "collapsed": false,
    "pycharm": {
     "name": "#%%\n"
    }
   }
  },
  {
   "cell_type": "markdown",
   "source": [
    "### Lungs\n",
    "#### Circulating"
   ],
   "metadata": {
    "collapsed": false,
    "pycharm": {
     "name": "#%% md\n"
    }
   }
  },
  {
   "cell_type": "code",
   "execution_count": null,
   "outputs": [],
   "source": [
    "n3a_lungs_cir_df = n3a_lungs_cir_exp.to_df(\n",
    "    file_name=\"ANOVA/Data/N3A-L-Cir\", frequency=False\n",
    ")\n",
    "n3a_lungs_cir_df_feq = n3a_lungs_cir_exp.to_df(file_name=\"ANOVA/Data/N3A-L-Cir-F\")"
   ],
   "metadata": {
    "collapsed": false,
    "pycharm": {
     "name": "#%%\n"
    }
   }
  },
  {
   "cell_type": "code",
   "execution_count": null,
   "outputs": [],
   "source": [
    "n3a_lungs_cir_exp.combined_correlation_plot(\n",
    "    \"Fig-Correlations/S-N3A-L-Cir\",\n",
    "    timepoints=stats_challenges,\n",
    ")\n",
    "for challenge in stats_challenges:\n",
    "    n3a_lungs_cir_exp.correlation_plot(\n",
    "        challenge, file_name=f\"Fig-Correlations/S-N3A-{challenge.split(' ')[0]}-L-Cir\"\n",
    "    )"
   ],
   "metadata": {
    "collapsed": false,
    "pycharm": {
     "name": "#%%\n"
    }
   }
  },
  {
   "cell_type": "markdown",
   "source": [
    "#### Resident"
   ],
   "metadata": {
    "collapsed": false,
    "pycharm": {
     "name": "#%% md\n"
    }
   }
  },
  {
   "cell_type": "code",
   "execution_count": null,
   "outputs": [],
   "source": [
    "n3a_lungs_res_df = n3a_lungs_res_exp.to_df(\n",
    "    file_name=\"ANOVA/Data/N3A-L-Res\", frequency=False\n",
    ")\n",
    "n3a_lungs_res_df_feq = n3a_lungs_res_exp.to_df(file_name=\"ANOVA/Data/N3A-L-Res-F\")"
   ],
   "metadata": {
    "collapsed": false,
    "pycharm": {
     "name": "#%%\n"
    }
   }
  },
  {
   "cell_type": "code",
   "execution_count": null,
   "outputs": [],
   "source": [
    "n3a_lungs_res_exp.combined_correlation_plot(\n",
    "    \"Fig-Correlations/S-N3A-L-Res\",\n",
    "    timepoints=stats_challenges,\n",
    ")\n",
    "for challenge in stats_challenges:\n",
    "    n3a_lungs_res_exp.correlation_plot(\n",
    "        challenge, file_name=f\"Fig-Correlations/S-N3A-{challenge.split(' ')[0]}-L-Res\"\n",
    "    )"
   ],
   "metadata": {
    "collapsed": false,
    "pycharm": {
     "name": "#%%\n"
    }
   }
  },
  {
   "cell_type": "markdown",
   "source": [
    "# Naive"
   ],
   "metadata": {
    "collapsed": false,
    "pycharm": {
     "name": "#%% md\n"
    }
   }
  },
  {
   "cell_type": "markdown",
   "source": [
    "## Absolute numbers"
   ],
   "metadata": {
    "collapsed": false,
    "pycharm": {
     "name": "#%% md\n"
    }
   }
  },
  {
   "cell_type": "code",
   "execution_count": null,
   "outputs": [],
   "source": [
    "fa.header_clipping(\"Naive\", check=True)"
   ],
   "metadata": {
    "collapsed": false,
    "pycharm": {
     "name": "#%%\n"
    }
   }
  },
  {
   "cell_type": "code",
   "execution_count": null,
   "outputs": [],
   "source": [
    "fa.header_clipping(\"Naive\")\n",
    "\n",
    "naive_headers = [\n",
    "    \"Tissue\",\n",
    "    \"Stain for Column Selection\",\n",
    "    \"CD8_WTSP_Num\",\n",
    "    \"CD8_T8ASP_Num\",\n",
    "    \"CD8_WTT8ADP_Num\",\n",
    "    \"CD8_N3ASP_Num\",\n",
    "    \"CD8_WTN3ADP_Num\",\n",
    "    \"CD8_N3AT8ADP_Num\",\n",
    "    \"CD8_TriplePos_Num\",\n",
    "    \"CD8_Num\",\n",
    "]\n",
    "\n",
    "naive_column_names = fa.time_name_list(\"Naive\", naive_headers)\n",
    "\n",
    "naive_data, naive_data_neg = fa.data_extraction(\n",
    "    \"Naive\", \"Spleen + Lymphnodes\", naive_headers, naive_column_names\n",
    ")\n",
    "\n",
    "naive_means, naive_actual_mice = fa.population_means(naive_data)\n",
    "\n",
    "naive_means_neg, naive_actual_mice_neg = fa.population_means(naive_data_neg)"
   ],
   "metadata": {
    "collapsed": false,
    "pycharm": {
     "name": "#%%\n"
    }
   }
  },
  {
   "cell_type": "code",
   "execution_count": null,
   "outputs": [],
   "source": [
    "if absolute_numbers:\n",
    "    fa.venn_plots(\n",
    "        3,\n",
    "        naive_data,\n",
    "        naiveColumns,\n",
    "        tetramerNames,\n",
    "        title=\"Naive mice\",\n",
    "        file_name=\"V-Naive-AN\",\n",
    "        # ignore=[0, 4],\n",
    "    )"
   ],
   "metadata": {
    "collapsed": false,
    "pycharm": {
     "name": "#%%\n"
    }
   }
  },
  {
   "cell_type": "code",
   "execution_count": null,
   "outputs": [],
   "source": [
    "fa.header_clipping(\"Naive\", file_name=\"WT\", check=True)\n",
    "fa.header_clipping(\"Naive\", file_name=\"T8A\", check=True)\n",
    "fa.header_clipping(\"Naive\", file_name=\"N3A\", check=True)"
   ],
   "metadata": {
    "collapsed": false,
    "pycharm": {
     "name": "#%%\n"
    }
   }
  },
  {
   "cell_type": "code",
   "execution_count": null,
   "outputs": [],
   "source": [
    "fa.header_clipping(\"Naive\", file_name=\"WT\")\n",
    "fa.header_clipping(\"Naive\", file_name=\"T8A\")\n",
    "fa.header_clipping(\"Naive\", file_name=\"N3A\")\n",
    "\n",
    "naive_wt_headers = [\n",
    "    \"Tissue\",\n",
    "    \"Stain for Column Selection\",\n",
    "    \"CD8_WT_N3AT8Aneg_Num\",\n",
    "    \"CD8_WT_T8ASP_Num\",\n",
    "    \"CD8_WT_N3ASP_Num\",\n",
    "    \"CD8_WT_N3AT8ADP_Num\",\n",
    "    \"Column Selected WT Positive_Num\",\n",
    "]\n",
    "\n",
    "naive_t8a_headers = [\n",
    "    \"Tissue\",\n",
    "    \"Stain for Column Selection\",\n",
    "    \"CD8_T8A_N3AWTneg_Num\",\n",
    "    \"CD8_T8A_WTSP_Num\",\n",
    "    \"CD8_T8A_N3ASP_Num\",\n",
    "    \"CD8_T8A_N3AWTDP_Num\",\n",
    "    \"Column Selected T8A Positive_Num\",\n",
    "]\n",
    "\n",
    "naive_n3a_headers = [\n",
    "    \"Tissue\",\n",
    "    \"Stain for Column Selection\",\n",
    "    \"CD8_N3A_WTT8Aneg_Num\",\n",
    "    \"CD8_N3A_WTSP_Num\",\n",
    "    \"CD8_N3A_T8ASP_Num\",\n",
    "    \"CD8_N3A_T8AWTDP_Num\",\n",
    "    \"Column Selected N3A Positive_Num\",\n",
    "]\n",
    "\n",
    "naive_wt_column_names = fa.time_name_list(\"Naive\", naive_wt_headers, file_name=\"WT\")\n",
    "naive_t8a_column_names = fa.time_name_list(\"Naive\", naive_t8a_headers, file_name=\"T8A\")\n",
    "naive_n3a_column_names = fa.time_name_list(\"Naive\", naive_n3a_headers, file_name=\"N3A\")\n",
    "\n",
    "naive_wt_data, _ = fa.data_extraction(\n",
    "    \"Naive\",\n",
    "    \"Spleen + Lymphnodes\",\n",
    "    naive_wt_headers,\n",
    "    naive_wt_column_names,\n",
    "    data_type=\"naive\",\n",
    "    column=\"WT\",\n",
    "    file_name=\"WT\",\n",
    ")\n",
    "\n",
    "naive_t8a_data, _ = fa.data_extraction(\n",
    "    \"Naive\",\n",
    "    \"Spleen + Lymphnodes\",\n",
    "    naive_t8a_headers,\n",
    "    naive_t8a_column_names,\n",
    "    data_type=\"naive\",\n",
    "    column=\"T8A\",\n",
    "    file_name=\"T8A\",\n",
    ")\n",
    "\n",
    "naive_n3a_data, _ = fa.data_extraction(\n",
    "    \"Naive\",\n",
    "    \"Spleen + Lymphnodes\",\n",
    "    naive_n3a_headers,\n",
    "    naive_n3a_column_names,\n",
    "    data_type=\"naive\",\n",
    "    column=\"N3A\",\n",
    "    file_name=\"N3A\",\n",
    ")"
   ],
   "metadata": {
    "collapsed": false,
    "pycharm": {
     "name": "#%%\n"
    }
   }
  },
  {
   "cell_type": "code",
   "execution_count": null,
   "outputs": [],
   "source": [
    "combined_naive_data = fa.combine_naive_data(\n",
    "    [naive_wt_data, naive_t8a_data, naive_n3a_data]\n",
    ")"
   ],
   "metadata": {
    "collapsed": false,
    "pycharm": {
     "name": "#%%\n"
    }
   }
  },
  {
   "cell_type": "code",
   "execution_count": null,
   "outputs": [],
   "source": [
    "statsDF = fa.stats_dataframe_naive(combined_naive_data, naive_stats_column_names)"
   ],
   "metadata": {
    "collapsed": false,
    "pycharm": {
     "name": "#%%\n"
    }
   }
  },
  {
   "cell_type": "code",
   "execution_count": null,
   "outputs": [],
   "source": [
    "if absolute_numbers:\n",
    "    # sns.pairplot(statsDF, diag_kind=\"kde\", height=1.5)\n",
    "\n",
    "    grid = sns.PairGrid(data=statsDF, height=1.5, diag_sharey=False)\n",
    "    grid.map_diag(sns.kdeplot)\n",
    "    grid.map_lower(sns.scatterplot)\n",
    "    grid.map_upper(fa.pairs_stats, comparisons=comb(12, 2))\n",
    "    grid.figure.savefig(\"S-Naive-AN.pdf\")\n",
    "    # grid.tight_layout()\n",
    "\n",
    "    plt.close(\"all\")"
   ],
   "metadata": {
    "collapsed": false,
    "pycharm": {
     "name": "#%%\n"
    }
   }
  },
  {
   "cell_type": "code",
   "execution_count": null,
   "outputs": [],
   "source": [
    "if absolute_numbers:\n",
    "    fa.venn_plots(\n",
    "        3,\n",
    "        combined_naive_data,\n",
    "        naiveColumns,\n",
    "        tetramerNames,\n",
    "        title=\"Naive mice\",\n",
    "        file_name=\"V-Naive-C-AN\",\n",
    "    )"
   ],
   "metadata": {
    "collapsed": false,
    "pycharm": {
     "name": "#%%\n"
    }
   }
  },
  {
   "cell_type": "markdown",
   "source": [
    "## Frequencies"
   ],
   "metadata": {
    "collapsed": false,
    "pycharm": {
     "name": "#%% md\n"
    }
   }
  },
  {
   "cell_type": "code",
   "execution_count": null,
   "outputs": [],
   "source": [
    "fa.header_clipping(\"Naive\", file_name=\"WT\")\n",
    "fa.header_clipping(\"Naive\", file_name=\"T8A\")\n",
    "fa.header_clipping(\"Naive\", file_name=\"N3A\")\n",
    "\n",
    "naive_wt_headers = [\n",
    "    \"Tissue\",\n",
    "    \"Stain for Column Selection\",\n",
    "    \"CD8_WT_N3AT8Aneg_Num\",\n",
    "    \"CD8_WT_T8ASP_Num\",\n",
    "    \"CD8_WT_N3ASP_Num\",\n",
    "    \"CD8_WT_N3AT8ADP_Num\",\n",
    "    \"Column Selected WT Positive_Num\",\n",
    "]\n",
    "\n",
    "naive_t8a_headers = [\n",
    "    \"Tissue\",\n",
    "    \"Stain for Column Selection\",\n",
    "    \"CD8_T8A_N3AWTneg_Num\",\n",
    "    \"CD8_T8A_WTSP_Num\",\n",
    "    \"CD8_T8A_N3ASP_Num\",\n",
    "    \"CD8_T8A_N3AWTDP_Num\",\n",
    "    \"Column Selected T8A Positive_Num\",\n",
    "]\n",
    "\n",
    "naive_n3a_headers = [\n",
    "    \"Tissue\",\n",
    "    \"Stain for Column Selection\",\n",
    "    \"CD8_N3A_WTT8Aneg_Num\",\n",
    "    \"CD8_N3A_WTSP_Num\",\n",
    "    \"CD8_N3A_T8ASP_Num\",\n",
    "    \"CD8_N3A_T8AWTDP_Num\",\n",
    "    \"Column Selected N3A Positive_Num\",\n",
    "]\n",
    "\n",
    "naive_wt_column_names = fa.time_name_list(\"Naive\", naive_wt_headers, file_name=\"WT\")\n",
    "naive_t8a_column_names = fa.time_name_list(\"Naive\", naive_t8a_headers, file_name=\"T8A\")\n",
    "naive_n3a_column_names = fa.time_name_list(\"Naive\", naive_n3a_headers, file_name=\"N3A\")\n",
    "\n",
    "naive_wt_data_freq, naive_wt_data_neg_norm = fa.data_extraction(\n",
    "    \"Naive\",\n",
    "    \"Spleen + Lymphnodes\",\n",
    "    naive_wt_headers,\n",
    "    naive_wt_column_names,\n",
    "    data_type=\"naive\",\n",
    "    column=\"WT\",\n",
    "    file_name=\"WT\",\n",
    "    normalise=True,\n",
    ")\n",
    "\n",
    "naive_t8a_data_freq, naive_t8a_data_neg_norm = fa.data_extraction(\n",
    "    \"Naive\",\n",
    "    \"Spleen + Lymphnodes\",\n",
    "    naive_t8a_headers,\n",
    "    naive_t8a_column_names,\n",
    "    data_type=\"naive\",\n",
    "    column=\"T8A\",\n",
    "    file_name=\"T8A\",\n",
    "    normalise=True,\n",
    ")\n",
    "\n",
    "naive_n3a_data_freq, naive_n3a_data_neg_norm = fa.data_extraction(\n",
    "    \"Naive\",\n",
    "    \"Spleen + Lymphnodes\",\n",
    "    naive_n3a_headers,\n",
    "    naive_n3a_column_names,\n",
    "    data_type=\"naive\",\n",
    "    column=\"N3A\",\n",
    "    file_name=\"N3A\",\n",
    "    normalise=True,\n",
    ")\n",
    "\n",
    "combined_naive_data_freq = fa.combine_naive_data(\n",
    "    [naive_wt_data_freq, naive_t8a_data_freq, naive_n3a_data_freq]\n",
    ")\n",
    "\n",
    "stats_freqDF = fa.stats_dataframe_naive(\n",
    "    combined_naive_data_freq, naive_stats_column_names\n",
    ")"
   ],
   "metadata": {
    "collapsed": false,
    "pycharm": {
     "name": "#%%\n"
    }
   }
  },
  {
   "cell_type": "code",
   "execution_count": null,
   "id": "3fa159dc",
   "metadata": {
    "pycharm": {
     "name": "#%%\n"
    }
   },
   "outputs": [],
   "source": [
    "grid = sns.PairGrid(data=stats_freqDF, height=1.5, diag_sharey=False)\n",
    "grid.map_diag(sns.kdeplot)\n",
    "grid.map_lower(sns.scatterplot)\n",
    "grid.map_upper(fa.pairs_stats, comparisons=comb(12, 2))\n",
    "grid.figure.savefig(\"S-Naive.pdf\")\n",
    "\n",
    "plt.close(\"all\")"
   ]
  },
  {
   "cell_type": "code",
   "execution_count": null,
   "id": "a87c6c71",
   "metadata": {
    "scrolled": false,
    "pycharm": {
     "name": "#%%\n"
    }
   },
   "outputs": [],
   "source": [
    "fa.venn_plots(\n",
    "    3,\n",
    "    combined_naive_data_freq,\n",
    "    naiveColumns,\n",
    "    tetramerNames,\n",
    "    title=\"Naive data (frequencies)\",\n",
    "    file_name=\"V-Naive\",\n",
    "    decimals=3,\n",
    ")"
   ]
  },
  {
   "cell_type": "markdown",
   "id": "9da6d6ed",
   "metadata": {
    "pycharm": {
     "name": "#%% md\n"
    }
   },
   "source": [
    "# Plotly tests"
   ]
  },
  {
   "cell_type": "markdown",
   "id": "b482a2d7",
   "metadata": {
    "pycharm": {
     "name": "#%% md\n"
    }
   },
   "source": [
    "## Plots"
   ]
  },
  {
   "cell_type": "code",
   "execution_count": null,
   "id": "84da1640",
   "metadata": {
    "pycharm": {
     "name": "#%%\n"
    }
   },
   "outputs": [],
   "source": [
    "data = [\n",
    "    wt_p_data,\n",
    "    t8a_p_data,\n",
    "    n3a_p_data,\n",
    "    wt_p_data_neg,\n",
    "    t8a_p_data_neg,\n",
    "    n3a_p_data_neg,\n",
    "]\n",
    "priming = [\"WT\", \"T8A\", \"N3A\"]\n",
    "time = [10, 70, 90, 90, 90]\n",
    "organ = [\"Spleen\", \"Spleen\", \"Spleen\"]\n",
    "cd45 = [\"-\", \"-\", \"-\"]\n",
    "columns = [\"Organ\", \"CD45\", \"Priming\", \"Time (dpi)\", \"Cells\", \"Tetramer\", \"Timepoint\"]\n",
    "infection_dict = {0: \"Primary\", 1: \"Memory\", 2: \"WT\", 3: \"T8A\", 4: \"N3A\"}\n",
    "patch_dict = {\n",
    "    0: \"WT\",\n",
    "    1: \"T8A\",\n",
    "    3: \"N3A\",\n",
    "    2: \"WT+T8A\",\n",
    "    4: \"WT+N3A\",\n",
    "    5: \"T8A+N3A\",\n",
    "    6: \"Triple positive\",\n",
    "}\n",
    "\n",
    "dataDF = fa.plot_dataframe(\n",
    "    data, priming, time, organ, cd45, columns, patch_dict, infection_dict\n",
    ")"
   ]
  },
  {
   "cell_type": "code",
   "execution_count": null,
   "id": "19649be4",
   "metadata": {
    "pycharm": {
     "name": "#%%\n"
    }
   },
   "outputs": [],
   "source": [
    "fig = px.line(\n",
    "    dataDF[\n",
    "        (dataDF.Timepoint == \"Primary\")\n",
    "        | (dataDF.Timepoint == \"Memory\")\n",
    "        | (dataDF.Timepoint == \"WT\")\n",
    "    ],\n",
    "    x=\"Time (dpi)\",\n",
    "    y=\"Cells\",\n",
    "    color=\"Tetramer\",\n",
    "    title=\"Contration and expansion slopes\",\n",
    "    markers=True,\n",
    "    log_y=False  # ,\n",
    "    # symbol='Priming'\n",
    ")\n",
    "\n",
    "# fig.show()\n",
    "\n",
    "fig.write_html(\"single-slope-plot.html\")"
   ]
  },
  {
   "cell_type": "code",
   "execution_count": null,
   "id": "bfc47690",
   "metadata": {
    "pycharm": {
     "name": "#%%\n"
    }
   },
   "outputs": [],
   "source": [
    "dataDF[\n",
    "    (dataDF.Timepoint == \"WT\")\n",
    "    | (dataDF.Timepoint == \"T8A\")\n",
    "    | (dataDF.Timepoint == \"N3A\")\n",
    "]"
   ]
  },
  {
   "cell_type": "markdown",
   "id": "6ed03bb3",
   "metadata": {
    "pycharm": {
     "name": "#%% md\n"
    }
   },
   "source": [
    "## Multi-col test"
   ]
  },
  {
   "cell_type": "code",
   "execution_count": null,
   "id": "1754d741",
   "metadata": {
    "scrolled": false,
    "pycharm": {
     "name": "#%%\n"
    }
   },
   "outputs": [],
   "source": [
    "times = [10, 70, 90]\n",
    "left_col = [0, 1, 2, 6, 7, 8, 12, 13, 14]\n",
    "right_col = [3, 4, 5, 9, 10, 11, 15, 16, 17]\n",
    "colours = [\"#29e0c3\", \"#f28b2e\", \"#34a0e0\"]\n",
    "tetramers = [\"WT\", \"T8A\", \"N3A\"]\n",
    "\n",
    "fig = go.Figure().set_subplots(\n",
    "    rows=3,\n",
    "    cols=2,\n",
    "    subplot_titles=(\n",
    "        \"WT primary\",\n",
    "        \"WT primary\",\n",
    "        \"T8A primary\",\n",
    "        \"T8A primary\",\n",
    "        \"N3A primary\",\n",
    "        \"N3A primary\",\n",
    "    ),\n",
    "    shared_xaxes=True,\n",
    "    shared_yaxes=True,\n",
    "    vertical_spacing=0.05,\n",
    ")\n",
    "\n",
    "fig.update_layout(\n",
    "    legend_title_text=\"Challenge infection\",\n",
    "    legend=dict(\n",
    "        yanchor=\"bottom\",\n",
    "        xanchor=\"center\",\n",
    "        y=1.02,\n",
    "        x=0.5,\n",
    "        orientation=\"h\",\n",
    "        font={\"size\": 18},\n",
    "    ),\n",
    "    height=1200,\n",
    "    width=750,\n",
    ")\n",
    "\n",
    "fig.update_xaxes(title_text=\"Time (dpi)\", row=3, col=1)\n",
    "fig.update_xaxes(title_text=\"Time (dpi)\", row=3, col=2)\n",
    "fig.update_xaxes(tickvals=[10, 70, 90], title_font={\"size\": 14})\n",
    "fig.update_yaxes(title_text=\"Cells\", title_font={\"size\": 14}, col=1)\n",
    "# fig.update_yaxes(type='log')\n",
    "# , rangemode='nonnegative')\n",
    "\n",
    "\n",
    "# WT primary\n",
    "\n",
    "# Left column\n",
    "for colour, challenge in enumerate(tetramers):\n",
    "    fig.add_trace(\n",
    "        go.Scatter(\n",
    "            x=times,\n",
    "            y=fa.separate_data(dataDF, \"WT\", challenge, \"WT\").Cells,\n",
    "            mode=\"lines+markers\",\n",
    "            name=challenge,\n",
    "            line=dict(color=colours[colour]),\n",
    "        ),\n",
    "        1,\n",
    "        1,\n",
    "    )\n",
    "\n",
    "\n",
    "# Right column\n",
    "for colour, challenge in enumerate(tetramers):\n",
    "    fig.add_trace(\n",
    "        go.Scatter(\n",
    "            x=times,\n",
    "            y=fa.separate_data(dataDF, \"WT\", challenge, \"WT\").Cells,\n",
    "            mode=\"lines+markers\",\n",
    "            name=challenge,\n",
    "            showlegend=False,\n",
    "            line=dict(color=colours[colour]),\n",
    "        ),\n",
    "        1,\n",
    "        2,\n",
    "    )\n",
    "\n",
    "# SEPARATE INTO ONE LINE FOR FIRST CONTRACTION AND 3 LINES FOR EXPASIONS\n",
    "\n",
    "\n",
    "# T8A primary\n",
    "\n",
    "# Left column\n",
    "for colour, challenge in enumerate(tetramers):\n",
    "    fig.add_trace(\n",
    "        go.Scatter(\n",
    "            x=times,\n",
    "            y=fa.separate_data(dataDF, \"T8A\", challenge, \"WT\").Cells,\n",
    "            mode=\"lines+markers\",\n",
    "            name=challenge,\n",
    "            showlegend=False,\n",
    "            line=dict(color=colours[colour]),\n",
    "        ),\n",
    "        2,\n",
    "        1,\n",
    "    )\n",
    "\n",
    "# Right column\n",
    "for colour, challenge in enumerate(tetramers):\n",
    "    fig.add_trace(\n",
    "        go.Scatter(\n",
    "            x=times,\n",
    "            y=fa.separate_data(dataDF, \"T8A\", challenge, \"WT\").Cells,\n",
    "            mode=\"lines+markers\",\n",
    "            name=challenge,\n",
    "            showlegend=False,\n",
    "            line=dict(color=colours[colour]),\n",
    "        ),\n",
    "        2,\n",
    "        2,\n",
    "    )\n",
    "\n",
    "# SEPARATE INTO ONE LINE FOR FIRST CONTRACTION AND 3 LINES FOR EXPASIONS\n",
    "\n",
    "\n",
    "# N3A primary\n",
    "\n",
    "# Left column\n",
    "for colour, challenge in enumerate(tetramers):\n",
    "    fig.add_trace(\n",
    "        go.Scatter(\n",
    "            x=times,\n",
    "            y=fa.separate_data(dataDF, \"N3A\", challenge, \"WT\").Cells,\n",
    "            mode=\"lines+markers\",\n",
    "            name=challenge,\n",
    "            showlegend=False,\n",
    "            line=dict(color=colours[colour]),\n",
    "        ),\n",
    "        3,\n",
    "        1,\n",
    "    )\n",
    "\n",
    "# Right column\n",
    "for colour, challenge in enumerate(tetramers):\n",
    "    fig.add_trace(\n",
    "        go.Scatter(\n",
    "            x=times,\n",
    "            y=fa.separate_data(dataDF, \"N3A\", challenge, \"WT\").Cells,\n",
    "            mode=\"lines+markers\",\n",
    "            name=challenge,\n",
    "            showlegend=False,\n",
    "            line=dict(color=colours[colour]),\n",
    "        ),\n",
    "        3,\n",
    "        2,\n",
    "    )\n",
    "\n",
    "# SEPARATE INTO ONE LINE FOR FIRST CONTRACTION AND 3 LINES FOR EXPASIONS\n",
    "\n",
    "fig.update_layout(\n",
    "    updatemenus=[\n",
    "        dict(\n",
    "            # type=\"buttons\",  # Remove for dropdown\n",
    "            direction=\"down\",  # down if dropdown, right if buttons\n",
    "            x=0.25,\n",
    "            y=1.06,\n",
    "            showactive=True,\n",
    "            xanchor=\"center\",\n",
    "            yanchor=\"bottom\",\n",
    "            buttons=list(\n",
    "                [\n",
    "                    dict(\n",
    "                        label=\"WT\",\n",
    "                        method=\"restyle\",\n",
    "                        args=[{\"y\": fa.data_update(dataDF, \"WT\")}, left_col],\n",
    "                    ),\n",
    "                    dict(\n",
    "                        label=\"T8A\",\n",
    "                        method=\"restyle\",\n",
    "                        args=[{\"y\": fa.data_update(dataDF, \"T8A\")}, left_col],\n",
    "                    ),\n",
    "                    dict(\n",
    "                        label=\"N3A\",\n",
    "                        method=\"restyle\",\n",
    "                        args=[{\"y\": fa.data_update(dataDF, \"N3A\")}, left_col],\n",
    "                    ),\n",
    "                    dict(\n",
    "                        label=\"WT+T8A\",\n",
    "                        method=\"restyle\",\n",
    "                        args=[{\"y\": fa.data_update(dataDF, \"WT+T8A\")}, left_col],\n",
    "                    ),\n",
    "                    dict(\n",
    "                        label=\"WT+N3A\",\n",
    "                        method=\"restyle\",\n",
    "                        args=[{\"y\": fa.data_update(dataDF, \"WT+N3A\")}, left_col],\n",
    "                    ),\n",
    "                    dict(\n",
    "                        label=\"T8A+N3A\",\n",
    "                        method=\"restyle\",\n",
    "                        args=[{\"y\": fa.data_update(dataDF, \"T8A+N3A\")}, left_col],\n",
    "                    ),\n",
    "                    dict(\n",
    "                        label=\"Triple positive\",\n",
    "                        method=\"restyle\",\n",
    "                        args=[\n",
    "                            {\"y\": fa.data_update(dataDF, \"Triple positive\")},\n",
    "                            left_col,\n",
    "                        ],\n",
    "                    ),\n",
    "                    dict(\n",
    "                        label=\"Triple negative\",\n",
    "                        method=\"restyle\",\n",
    "                        args=[\n",
    "                            {\"y\": fa.data_update(dataDF, \"Triple negative\")},\n",
    "                            left_col,\n",
    "                        ],\n",
    "                    ),\n",
    "                    dict(\n",
    "                        label=\"Total\",\n",
    "                        method=\"restyle\",\n",
    "                        args=[{\"y\": fa.data_update(dataDF, \"Total\")}, left_col],\n",
    "                    ),\n",
    "                ]\n",
    "            ),\n",
    "        ),\n",
    "        dict(\n",
    "            direction=\"down\",\n",
    "            x=0.75,\n",
    "            y=1.06,\n",
    "            showactive=True,\n",
    "            xanchor=\"center\",\n",
    "            yanchor=\"bottom\",\n",
    "            buttons=list(\n",
    "                [\n",
    "                    dict(\n",
    "                        label=\"WT\",\n",
    "                        method=\"restyle\",\n",
    "                        args=[{\"y\": fa.data_update(dataDF, \"WT\")}, right_col],\n",
    "                    ),\n",
    "                    dict(\n",
    "                        label=\"T8A\",\n",
    "                        method=\"restyle\",\n",
    "                        args=[{\"y\": fa.data_update(dataDF, \"T8A\")}, right_col],\n",
    "                    ),\n",
    "                    dict(\n",
    "                        label=\"N3A\",\n",
    "                        method=\"restyle\",\n",
    "                        args=[{\"y\": fa.data_update(dataDF, \"N3A\")}, right_col],\n",
    "                    ),\n",
    "                    dict(\n",
    "                        label=\"WT+T8A\",\n",
    "                        method=\"restyle\",\n",
    "                        args=[{\"y\": fa.data_update(dataDF, \"WT+T8A\")}, right_col],\n",
    "                    ),\n",
    "                    dict(\n",
    "                        label=\"WT+N3A\",\n",
    "                        method=\"restyle\",\n",
    "                        args=[{\"y\": fa.data_update(dataDF, \"WT+N3A\")}, right_col],\n",
    "                    ),\n",
    "                    dict(\n",
    "                        label=\"T8A+N3A\",\n",
    "                        method=\"restyle\",\n",
    "                        args=[{\"y\": fa.data_update(dataDF, \"T8A+N3A\")}, right_col],\n",
    "                    ),\n",
    "                    dict(\n",
    "                        label=\"Triple positive\",\n",
    "                        method=\"restyle\",\n",
    "                        args=[\n",
    "                            {\"y\": fa.data_update(dataDF, \"Triple positive\")},\n",
    "                            right_col,\n",
    "                        ],\n",
    "                    ),\n",
    "                    dict(\n",
    "                        label=\"Triple negative\",\n",
    "                        method=\"restyle\",\n",
    "                        args=[\n",
    "                            {\"y\": fa.data_update(dataDF, \"Triple negative\")},\n",
    "                            right_col,\n",
    "                        ],\n",
    "                    ),\n",
    "                    dict(\n",
    "                        label=\"Total\",\n",
    "                        method=\"restyle\",\n",
    "                        args=[{\"y\": fa.data_update(dataDF, \"Total\")}, right_col],\n",
    "                    ),\n",
    "                ]\n",
    "            ),\n",
    "        ),\n",
    "    ]\n",
    ")\n",
    "\n",
    "# fig.show()\n",
    "\n",
    "fig.write_html(\"slope-plots.html\")"
   ]
  },
  {
   "cell_type": "code",
   "execution_count": null,
   "id": "a1d96173",
   "metadata": {
    "pycharm": {
     "name": "#%%\n"
    }
   },
   "outputs": [],
   "source": [
    "def data_test(positive_data, total_data):\n",
    "    print(\n",
    "        f\"{'Mouse' : ^9}{'Time' : ^8}{'Positive' : ^12}{'Total' : ^12}{'Fraction' : ^12}{'Correct' : ^11}\"\n",
    "    )\n",
    "    print(\"=\" * 64)\n",
    "    for mouse in range(len(positive_data)):\n",
    "        for current_time in range(len(positive_data[mouse])):\n",
    "            print(\n",
    "                f\"{mouse + 1 : ^9}{current_time + 1 : ^8}{sum(positive_data[mouse][current_time]) : ^12}{total_data[mouse][current_time][0] : ^12}{round(sum(positive_data[mouse][current_time]) / total_data[mouse][current_time][0], 5) : ^12}{sum(positive_data[mouse][current_time]) <= total_data[mouse][current_time][0] : ^11}\"\n",
    "            )"
   ]
  },
  {
   "cell_type": "code",
   "execution_count": null,
   "id": "5063df6a",
   "metadata": {
    "pycharm": {
     "name": "#%%\n"
    }
   },
   "outputs": [],
   "source": [
    "data_test(n3a_p_data, n3a_p_data_neg)"
   ]
  },
  {
   "cell_type": "markdown",
   "id": "2c1a6873",
   "metadata": {
    "pycharm": {
     "name": "#%% md\n"
    }
   },
   "source": [
    "# Tests"
   ]
  },
  {
   "cell_type": "code",
   "execution_count": null,
   "id": "f33f985a",
   "metadata": {
    "pycharm": {
     "name": "#%%\n"
    }
   },
   "outputs": [],
   "source": [
    "test = fa.Mouse(1, 2, 3, 4, 5, 6, 7.257567, 0.124143141)"
   ]
  },
  {
   "cell_type": "code",
   "execution_count": null,
   "id": "0f57cae6",
   "metadata": {
    "pycharm": {
     "name": "#%%\n"
    }
   },
   "outputs": [],
   "source": [
    "test.venn()"
   ]
  },
  {
   "cell_type": "code",
   "execution_count": null,
   "id": "7f4abbaf",
   "metadata": {
    "pycharm": {
     "name": "#%%\n"
    }
   },
   "outputs": [],
   "source": [
    "round(test)"
   ]
  },
  {
   "cell_type": "code",
   "execution_count": null,
   "id": "01eb9b88",
   "metadata": {
    "pycharm": {
     "name": "#%%\n"
    }
   },
   "outputs": [],
   "source": [
    "test1 = fa.Mouse()\n",
    "test1.venn()"
   ]
  },
  {
   "cell_type": "code",
   "execution_count": null,
   "id": "cd4e09ad",
   "metadata": {
    "pycharm": {
     "name": "#%%\n"
    }
   },
   "outputs": [],
   "source": [
    "round(test1)"
   ]
  }
 ],
 "metadata": {
  "kernelspec": {
   "display_name": "Python 3 (ipykernel)",
   "language": "python",
   "name": "python3"
  },
  "language_info": {
   "codemirror_mode": {
    "name": "ipython",
    "version": 3
   },
   "file_extension": ".py",
   "mimetype": "text/x-python",
   "name": "python",
   "nbconvert_exporter": "python",
   "pygments_lexer": "ipython3",
   "version": "3.7.11"
  }
 },
 "nbformat": 4,
 "nbformat_minor": 5
}
